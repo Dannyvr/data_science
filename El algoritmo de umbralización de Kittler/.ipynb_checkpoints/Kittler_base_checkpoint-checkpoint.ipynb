{
 "cells": [
  {
   "cell_type": "code",
   "execution_count": null,
   "metadata": {
    "id": "2CthO2AOZr_D"
   },
   "outputs": [],
   "source": [
    "import numpy as np\n",
    "import torch\n",
    "import math\n",
    "import matplotlib.pyplot as plt\n",
    "from PIL import Image\n",
    "from google.colab import drive"
   ]
  },
  {
   "cell_type": "code",
   "execution_count": null,
   "metadata": {
    "colab": {
     "base_uri": "https://localhost:8080/"
    },
    "id": "CerHYT_uZr_J",
    "outputId": "7052ee19-b691-4287-c7cb-cd358d15a75f"
   },
   "outputs": [
    {
     "name": "stdout",
     "output_type": "stream",
     "text": [
      "Mounted at /content/gdrive\n"
     ]
    }
   ],
   "source": [
    "drive.mount('/content/gdrive', force_remount=True)\n",
    "U_1 = torch.tensor(np.array(Image.open('/content/gdrive/MyDrive/cuadro1_005.bmp').convert('L')))"
   ]
  },
  {
   "cell_type": "markdown",
   "metadata": {
    "id": "BmXJjz8pOxLs"
   },
   "source": [
    "# Parte #1"
   ]
  },
  {
   "cell_type": "code",
   "execution_count": null,
   "metadata": {
    "colab": {
     "base_uri": "https://localhost:8080/"
    },
    "id": "OvDY1N66PEbl",
    "outputId": "cdedc6be-cf61-44a4-abbc-a5fd0ad07fe2"
   },
   "outputs": [
    {
     "name": "stdout",
     "output_type": "stream",
     "text": [
      "Max value:  234\n"
     ]
    }
   ],
   "source": [
    "histogram, bins = np.histogram(U_1, bins = torch.max(U_1).item(), range = (0, torch.max(U_1).item()))\n",
    "print(\"Max value: \", torch.max(U_1).item())\n",
    "\n"
   ]
  },
  {
   "cell_type": "code",
   "execution_count": null,
   "metadata": {
    "colab": {
     "base_uri": "https://localhost:8080/",
     "height": 336
    },
    "id": "OVgXslGUOwae",
    "outputId": "22ed7651-4e1b-4472-d1f4-4b2215a1bdb6"
   },
   "outputs": [
    {
     "data": {
      "image/png": "[encoded data removed]",
      "text/plain": [
       "<Figure size 432x288 with 1 Axes>"
      ]
     },
     "metadata": {
      "needs_background": "light",
      "tags": []
     },
     "output_type": "display_data"
    }
   ],
   "source": [
    "def plot_bar(bins, histogram,threshold=False, t_value=0):\n",
    "\n",
    "    fig = plt.figure()\n",
    "    axes = fig.add_axes([0, 0, 1, 1])\n",
    "    axes.bar(bins[1:].tolist(), histogram.tolist())\n",
    "\n",
    "    if threshold:\n",
    "      plt.axvline(t_value, color='r')\n",
    "    plt.show()\n",
    "\n",
    "\n",
    "#Máximo valor de píxel\n",
    "max_px = torch.max(U_1).item()\n",
    "\n",
    "hz, z = np.histogram(U_1, bins = max_px, range = (0, max_px))\n",
    "\n",
    "#Normalización del histograma\n",
    "p_1 = torch.tensor(histogram / histogram.sum())\n",
    "plot_bar(bins, p_1.numpy())\n"
   ]
  },
  {
   "cell_type": "code",
   "execution_count": null,
   "metadata": {
    "id": "qV4M-_u8eIZK"
   },
   "outputs": [],
   "source": [
    "def kittler_threshold(hz,z, U_1):\n",
    "\n",
    "  hz = hz.astype(np.float)\n",
    "  z = z.astype(np.float)\n",
    "  z = z[:-1]\n",
    "\n",
    "  #First distribution\n",
    "  P1 = np.cumsum(hz) #P\n",
    "  mean1 = np.cumsum(hz * z) #mean\n",
    "  s1 = np.cumsum(hz * z**2)\n",
    "  sigma_1 = np.sqrt(s1/P1 - (mean1/P1)**2) #standard deviation\n",
    "\n",
    "\n",
    "  #Second distribution\n",
    "  P2 = P1[-1] - P1\n",
    "  mean2 = mean1[-1] - mean1\n",
    "  s2 = s1[-1] - s1\n",
    "  sigma_2 = np.sqrt(s2/P2 - (mean2/P2)**2)\n",
    "\n",
    "\n",
    "  #Values normalization\n",
    "  p =  P1 / P1[-1]\n",
    "\n",
    "  #Cost function\n",
    "  jt = p * np.log(sigma_1) + (P2)*np.log(sigma_2) - p*np.log(p) - (P2)*np.log(P2)\n",
    "  jt_func = jt\n",
    "  #Replacing -infinity and Not a number values with infinity to avoid issues when looking for the minimum.\n",
    "  jt[~np.isfinite(jt)] = np.inf\n",
    "  idx = np.argmin(jt)\n",
    "  jt = z[idx]\n",
    "\n",
    "  jt_int = jt.astype(int)\n",
    "\n",
    "  hz1, z1 = np.histogram(U_1, bins = jt_int, range = (0, jt_int-1))\n",
    "  mids1 = 0.5*(z1[1:] + z1[:-1])\n",
    "  mean1 = np.average(mids1, weights=hz1)\n",
    "  std1 = np.average((mids1 - mean1)**2, weights=hz1)\n",
    "\n",
    "  hz2, z2 = np.histogram(U_1, bins = max_px-jt_int, range = (jt_int, max_px))\n",
    "\n",
    "  mids2 = 0.5*(z2[1:] + z2[:-1])\n",
    "  mean2 = np.average(mids2, weights=hz2)\n",
    "  std2 = np.average((mids2 - mean2)**2, weights=hz2)\n",
    "\n",
    "  return jt_func,jt_int,mean1,std1, mean2, std2\n"
   ]
  },
  {
   "cell_type": "code",
   "execution_count": null,
   "metadata": {
    "colab": {
     "base_uri": "https://localhost:8080/"
    },
    "id": "_QsBrqtrnJKU",
    "outputId": "5b3c9505-138e-456d-8951-16b25b7da03e"
   },
   "outputs": [
    {
     "name": "stdout",
     "output_type": "stream",
     "text": [
      "***************** Output image \"Cuadro1_005\" *****************\n",
      " T: 166\n",
      " Mean 1 : 149.05\n",
      " Standard Deviation 1 : 15.14\n",
      " Mean 2 : 219.99\n",
      " Standard Deviation 2 : 10.06\n",
      "\n"
     ]
    },
    {
     "name": "stderr",
     "output_type": "stream",
     "text": [
      "/usr/local/lib/python3.7/dist-packages/ipykernel_launcher.py:11: RuntimeWarning: invalid value encountered in true_divide\n",
      "  # This is added back by InteractiveShellApp.init_path()\n",
      "/usr/local/lib/python3.7/dist-packages/ipykernel_launcher.py:18: RuntimeWarning: invalid value encountered in true_divide\n",
      "/usr/local/lib/python3.7/dist-packages/ipykernel_launcher.py:25: RuntimeWarning: divide by zero encountered in log\n",
      "/usr/local/lib/python3.7/dist-packages/ipykernel_launcher.py:25: RuntimeWarning: invalid value encountered in multiply\n"
     ]
    }
   ],
   "source": [
    "jt_func,jt_int,mean1,std1, mean2, std2 = kittler_threshold(hz,z, U_1)\n",
    "\n",
    "print('***************** Output image \"Cuadro1_005\" *****************')\n",
    "print(' T: {}\\n Mean 1 : {:.2f}\\n Standard Deviation 1 : {:.2f}\\n Mean 2 : {:.2f}\\n Standard Deviation 2 : {:.2f}\\n'.format(jt_int,mean1,std1, mean2, std2))\n"
   ]
  },
  {
   "cell_type": "code",
   "execution_count": null,
   "metadata": {
    "colab": {
     "base_uri": "https://localhost:8080/",
     "height": 313
    },
    "id": "hfTNQ_HUumr9",
    "outputId": "e1d0f058-562a-4d03-c7dc-36d4d2001e93"
   },
   "outputs": [
    {
     "data": {
      "text/plain": [
       "Text(0.5, 1.0, 'J(t) function')"
      ]
     },
     "execution_count": 38,
     "metadata": {
      "tags": []
     },
     "output_type": "execute_result"
    },
    {
     "data": {
      "image/png": "[encoded data removed]",
      "text/plain": [
       "<Figure size 432x288 with 1 Axes>"
      ]
     },
     "metadata": {
      "needs_background": "light",
      "tags": []
     },
     "output_type": "display_data"
    }
   ],
   "source": [
    "plt.plot(jt_func)\n",
    "plt.xlabel('J(t) values')\n",
    "plt.ylabel('Frequency')\n",
    "plt.title('J(t) function')"
   ]
  },
  {
   "cell_type": "code",
   "execution_count": null,
   "metadata": {
    "colab": {
     "base_uri": "https://localhost:8080/"
    },
    "id": "uo70cSQ_vY5I",
    "outputId": "870c8690-39fc-4361-c922-92cfe9ba100b"
   },
   "outputs": [
    {
     "data": {
      "text/plain": [
       "tensor([[219, 218, 219,  ..., 221, 216, 217],\n",
       "        [220, 221, 220,  ..., 222, 220, 225],\n",
       "        [216, 214, 220,  ..., 222, 220, 220],\n",
       "        ...,\n",
       "        [218, 219, 220,  ..., 221, 221, 217],\n",
       "        [226, 219, 219,  ..., 219, 224, 221],\n",
       "        [217, 223, 220,  ..., 221, 225, 224]], dtype=torch.uint8)"
      ]
     },
     "execution_count": 39,
     "metadata": {
      "tags": []
     },
     "output_type": "execute_result"
    }
   ],
   "source": [
    "U_1"
   ]
  },
  {
   "cell_type": "code",
   "execution_count": null,
   "metadata": {
    "colab": {
     "base_uri": "https://localhost:8080/",
     "height": 336
    },
    "id": "ZuGGwBveu9ZI",
    "outputId": "957b628f-05bc-4295-af30-4755d3adb466"
   },
   "outputs": [
    {
     "data": {
      "image/png": "[encoded data removed]",
      "text/plain": [
       "<Figure size 432x288 with 1 Axes>"
      ]
     },
     "metadata": {
      "needs_background": "light",
      "tags": []
     },
     "output_type": "display_data"
    }
   ],
   "source": [
    "plot_bar(bins, p_1.numpy(),threshold=True, t_value=jt_int)"
   ]
  },
  {
   "cell_type": "markdown",
   "metadata": {
    "id": "8V3hVzJszVxG"
   },
   "source": [
    "#Parte #2"
   ]
  },
  {
   "cell_type": "code",
   "execution_count": null,
   "metadata": {
    "id": "FinNVLTDzXtM"
   },
   "outputs": [],
   "source": [
    "U_2 = torch.tensor(np.array(Image.open('/content/gdrive/MyDrive/trackedCell15.tif').convert('L')))"
   ]
  },
  {
   "cell_type": "code",
   "execution_count": null,
   "metadata": {
    "colab": {
     "base_uri": "https://localhost:8080/"
    },
    "id": "wi_VCGjIz8_c",
    "outputId": "00be1def-dcd1-4060-f4b9-bcaad8be63a0"
   },
   "outputs": [
    {
     "name": "stdout",
     "output_type": "stream",
     "text": [
      "Max value:  255\n"
     ]
    }
   ],
   "source": [
    "histogram, bins = np.histogram(U_2, bins = torch.max(U_2).item(), range = (0, torch.max(U_2).item()))\n",
    "print(\"Max value: \", torch.max(U_2).item())"
   ]
  },
  {
   "cell_type": "code",
   "execution_count": null,
   "metadata": {
    "colab": {
     "base_uri": "https://localhost:8080/",
     "height": 336
    },
    "id": "xYJfftarzy3Z",
    "outputId": "bb7f577f-8254-4713-9d0a-89e516772438"
   },
   "outputs": [
    {
     "data": {
      "image/png": "[encoded data removed]",
      "text/plain": [
       "<Figure size 432x288 with 1 Axes>"
      ]
     },
     "metadata": {
      "needs_background": "light",
      "tags": []
     },
     "output_type": "display_data"
    }
   ],
   "source": [
    "#Máximo valor de píxel\n",
    "max_px = torch.max(U_2).item()\n",
    "\n",
    "hz2, z2 = np.histogram(U_2, bins = max_px, range = (0, max_px))\n",
    "\n",
    "#Normalización del histograma\n",
    "p_2 = torch.tensor(histogram / histogram.sum())\n",
    "plot_bar(bins, p_2.numpy())\n"
   ]
  },
  {
   "cell_type": "code",
   "execution_count": null,
   "metadata": {
    "colab": {
     "base_uri": "https://localhost:8080/"
    },
    "id": "vxtJnKxNzntT",
    "outputId": "faa5a5e7-4d81-484b-c4ec-2e6a23bc0158"
   },
   "outputs": [
    {
     "name": "stdout",
     "output_type": "stream",
     "text": [
      "***************** Output image \"TrackedCell15\" *****************\n",
      " T: 4\n",
      " Mean 1 : 2.62\n",
      " Standard Deviation 1 : 0.00\n",
      " Mean 2 : 63.93\n",
      " Standard Deviation 2 : 1106.03\n",
      "\n"
     ]
    },
    {
     "name": "stderr",
     "output_type": "stream",
     "text": [
      "/usr/local/lib/python3.7/dist-packages/ipykernel_launcher.py:11: RuntimeWarning: invalid value encountered in true_divide\n",
      "  # This is added back by InteractiveShellApp.init_path()\n",
      "/usr/local/lib/python3.7/dist-packages/ipykernel_launcher.py:18: RuntimeWarning: invalid value encountered in true_divide\n",
      "/usr/local/lib/python3.7/dist-packages/ipykernel_launcher.py:25: RuntimeWarning: divide by zero encountered in log\n",
      "/usr/local/lib/python3.7/dist-packages/ipykernel_launcher.py:25: RuntimeWarning: invalid value encountered in multiply\n"
     ]
    }
   ],
   "source": [
    "jt_func,jt_int2,mean1,std1, mean2, std2 = kittler_threshold(hz2,z2, U_2)\n",
    "\n",
    "print('***************** Output image \"TrackedCell15\" *****************')\n",
    "print(' T: {}\\n Mean 1 : {:.2f}\\n Standard Deviation 1 : {:.2f}\\n Mean 2 : {:.2f}\\n Standard Deviation 2 : {:.2f}\\n'.format(jt_int2,mean1,std1, mean2, std2))"
   ]
  },
  {
   "cell_type": "code",
   "execution_count": null,
   "metadata": {
    "colab": {
     "base_uri": "https://localhost:8080/",
     "height": 313
    },
    "id": "ecB749wfxhgV",
    "outputId": "00641d70-3c7b-42cf-b1d2-c88118ba4511"
   },
   "outputs": [
    {
     "data": {
      "text/plain": [
       "Text(0.5, 1.0, 'J(t) function')"
      ]
     },
     "execution_count": 45,
     "metadata": {
      "tags": []
     },
     "output_type": "execute_result"
    },
    {
     "data": {
      "image/png": "[encoded data removed]",
      "text/plain": [
       "<Figure size 432x288 with 1 Axes>"
      ]
     },
     "metadata": {
      "needs_background": "light",
      "tags": []
     },
     "output_type": "display_data"
    }
   ],
   "source": [
    "plt.plot(jt_func)\n",
    "plt.xlabel('J(t) values')\n",
    "plt.ylabel('Frequency')\n",
    "plt.title('J(t) function')"
   ]
  },
  {
   "cell_type": "code",
   "execution_count": null,
   "metadata": {
    "colab": {
     "base_uri": "https://localhost:8080/",
     "height": 336
    },
    "id": "oROnFW5TxokS",
    "outputId": "88c19dad-b60f-4ebd-da14-1403ac0643dd"
   },
   "outputs": [
    {
     "data": {
      "image/png": "[encoded data removed]",
      "text/plain": [
       "<Figure size 432x288 with 1 Axes>"
      ]
     },
     "metadata": {
      "needs_background": "light",
      "tags": []
     },
     "output_type": "display_data"
    }
   ],
   "source": [
    "plot_bar(bins, p_2.numpy(),threshold=True, t_value=jt_int2)"
   ]
  }
 ],
 "metadata": {
  "colab": {
   "provenance": []
  },
  "kernelspec": {
   "display_name": "Python 3 (ipykernel)",
   "language": "python",
   "name": "python3"
  },
  "language_info": {
   "codemirror_mode": {
    "name": "ipython",
    "version": 3
   },
   "file_extension": ".py",
   "mimetype": "text/x-python",
   "name": "python",
   "nbconvert_exporter": "python",
   "pygments_lexer": "ipython3",
   "version": "3.9.16"
  }
 },
 "nbformat": 4,
 "nbformat_minor": 1
}
