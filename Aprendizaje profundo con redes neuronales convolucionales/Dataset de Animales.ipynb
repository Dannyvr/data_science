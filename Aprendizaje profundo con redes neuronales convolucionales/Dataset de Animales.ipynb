{
 "cells": [
  {
   "cell_type": "markdown",
   "id": "39524194",
   "metadata": {},
   "source": [
    "## Integrantes\n",
    "#### Danny Valerio Ramírez"
   ]
  },
  {
   "cell_type": "markdown",
   "id": "9aba6395",
   "metadata": {},
   "source": [
    "# Bibliotecas"
   ]
  },
  {
   "cell_type": "code",
   "execution_count": 1,
   "id": "908080aa",
   "metadata": {},
   "outputs": [],
   "source": [
    "# bibliotecas requeridas \n",
    "\n",
    "import numpy as np\n",
    "import pandas as pd\n",
    "\n",
    "import torch\n",
    "import torch.nn as nn\n",
    "import torch.optim as optim\n",
    "\n",
    "\n",
    "import torchvision.transforms as transforms\n",
    "from torch.utils.data import Dataset\n",
    "from torch.utils.data import DataLoader\n",
    "from torch.utils.data import random_split\n",
    "\n",
    "from torchvision import datasets\n",
    "import torchvision\n",
    "\n",
    "# Visualization\n",
    "import matplotlib.pyplot as plt\n",
    "import seaborn as sns\n",
    "\n",
    "# model evaluation\n",
    "from sklearn import metrics\n",
    "\n",
    "\n",
    "import os\n",
    "os.environ['KMP_DUPLICATE_LIB_OK']='True'"
   ]
  },
  {
   "cell_type": "markdown",
   "id": "ca122a43",
   "metadata": {},
   "source": [
    "# 1. Descripción del problema y  objetivo del ejercicio\n",
    "\n",
    "Trabajar con imagenes y clasificarlas siempre puede llegar a ser problematico cuando tenemos una gran cantidad de estas. Pero puede ser muy importante cuando queremos entender algo. Para este ejercio trabajaremos con imagen de animales y tratarremos de clasificarlas atravez de una redes neuronales convolucionales (CNN).\n",
    "\n",
    "**Nota: pese a que el dataset cuenta con 90 clases trabajaremos solo con el 20% de las por problemas de rendicimento del equipo**\n",
    "\n",
    "**Objetivo**\n",
    "\n",
    "Crear una redes neuronales convolucionales (CNN). que nos permita clasificar animales segun su especie.\n",
    "\n"
   ]
  },
  {
   "cell_type": "markdown",
   "id": "1965ece6",
   "metadata": {},
   "source": [
    "El siguiente conjunto de datos contiene 5400 imágenes de animales de 90 clases diferentes.\n",
    " \n",
    "**Fuente:** \n",
    "[1] Banerjee. S (2023). Animal Image Dataset - 90 Different Animals. Recuperado de https://www.kaggle.com/datasets/iamsouravbanerjee/animal-image-dataset-90-different-animals"
   ]
  },
  {
   "cell_type": "markdown",
   "id": "21cc1fb1",
   "metadata": {},
   "source": [
    "# 2. Escalado y exploración los datos"
   ]
  },
  {
   "cell_type": "code",
   "execution_count": 2,
   "id": "a696012c",
   "metadata": {},
   "outputs": [],
   "source": [
    "class imagesDataset(Dataset):\n",
    "    def __init__(self, dataset):\n",
    "        self.dataset = dataset\n",
    "    \n",
    "    def __getitem__(self, index):\n",
    "        image, label = self.dataset[index]\n",
    "        return image, label\n",
    "    \n",
    "    def __len__(self):\n",
    "        return len(self.dataset)\n",
    "    def get_splits(self, n_test=0.33):\n",
    "        \"\"\"\n",
    "        Split the dataset into training and test data.\n",
    "        :param n_test: training data percentage\n",
    "        \"\"\"\n",
    "        # determine sizes\n",
    "        test_size = round(n_test * len(self.dataset))\n",
    "        train_size = len(self.dataset) - test_size\n",
    "        # calculate the split\n",
    "        return random_split(self, [train_size, test_size])\n",
    "    "
   ]
  },
  {
   "cell_type": "code",
   "execution_count": 3,
   "id": "8254cc93",
   "metadata": {
    "scrolled": true
   },
   "outputs": [
    {
     "name": "stdout",
     "output_type": "stream",
     "text": [
      "Dimensiones de la imagen: torch.Size([3, 32, 32])\n",
      "Etiqueta: 1\n"
     ]
    }
   ],
   "source": [
    "\n",
    "pixeles=32\n",
    "#Transformaciones para preprocesar las imágenes\n",
    "transform = transforms.Compose([\n",
    "   transforms.Resize((pixeles, pixeles)),  # Cambia el tamaño de las imágenes a 224x224 píxeles\n",
    "   transforms.ToTensor()  # Convierte las imágenes a tensores\n",
    "])\n",
    "\n",
    "data_dir = 'animals'\n",
    "images = datasets.ImageFolder(root=data_dir, transform=transform)\n",
    "num_classes = len(images.classes)\n",
    "\n",
    "\n",
    "#print(dataset[0])\n",
    "dataset = imagesDataset(images)\n",
    "image, label = dataset[88]\n",
    "print('Dimensiones de la imagen:', image.size())\n",
    "print('Etiqueta:',  label)\n"
   ]
  },
  {
   "cell_type": "markdown",
   "id": "15566375",
   "metadata": {},
   "source": [
    "# 3. Algunas imágenes del conjunto de datos"
   ]
  },
  {
   "cell_type": "code",
   "execution_count": 4,
   "id": "84e0d5b8",
   "metadata": {
    "scrolled": true
   },
   "outputs": [
    {
     "data": {
      "image/png": "[encoded data removed]",
      "text/plain": [
       "<Figure size 640x480 with 1 Axes>"
      ]
     },
     "metadata": {},
     "output_type": "display_data"
    }
   ],
   "source": [
    "plt.imshow(image.permute(1, 2, 0))\n",
    "plt.show()"
   ]
  },
  {
   "cell_type": "code",
   "execution_count": 5,
   "id": "bfb44395",
   "metadata": {},
   "outputs": [
    {
     "name": "stdout",
     "output_type": "stream",
     "text": [
      "Dimensiones de la imagen: torch.Size([3, 32, 32])\n",
      "Etiqueta: 0\n"
     ]
    },
    {
     "data": {
      "image/png": "[encoded data removed]",
      "text/plain": [
       "<Figure size 640x480 with 1 Axes>"
      ]
     },
     "metadata": {},
     "output_type": "display_data"
    },
    {
     "name": "stdout",
     "output_type": "stream",
     "text": [
      "tensor([[[0.5490, 0.6196, 0.5647,  ..., 0.2941, 0.2863, 0.2784],\n",
      "         [0.5333, 0.6196, 0.5765,  ..., 0.2824, 0.2824, 0.2745],\n",
      "         [0.5255, 0.6196, 0.5843,  ..., 0.2824, 0.2824, 0.2784],\n",
      "         ...,\n",
      "         [0.5098, 0.2196, 0.4745,  ..., 0.0980, 0.0941, 0.0902],\n",
      "         [0.7608, 0.3255, 0.4314,  ..., 0.0627, 0.0627, 0.0588],\n",
      "         [0.9020, 0.6627, 0.4235,  ..., 0.0431, 0.0392, 0.0314]],\n",
      "\n",
      "        [[0.6196, 0.7647, 0.6824,  ..., 0.1059, 0.1098, 0.1020],\n",
      "         [0.6000, 0.7608, 0.6980,  ..., 0.0941, 0.0902, 0.0863],\n",
      "         [0.5804, 0.7569, 0.7176,  ..., 0.0941, 0.0863, 0.0824],\n",
      "         ...,\n",
      "         [0.5529, 0.3059, 0.5765,  ..., 0.1529, 0.1451, 0.1451],\n",
      "         [0.7843, 0.4078, 0.5333,  ..., 0.1451, 0.1412, 0.1373],\n",
      "         [0.9098, 0.7216, 0.5255,  ..., 0.1412, 0.1373, 0.1333]],\n",
      "\n",
      "        [[0.3765, 0.3490, 0.3098,  ..., 0.1255, 0.1216, 0.1137],\n",
      "         [0.3882, 0.3569, 0.3098,  ..., 0.1020, 0.0980, 0.0902],\n",
      "         [0.4118, 0.3686, 0.3098,  ..., 0.0902, 0.0824, 0.0745],\n",
      "         ...,\n",
      "         [0.4471, 0.1412, 0.4000,  ..., 0.0392, 0.0314, 0.0275],\n",
      "         [0.7255, 0.2745, 0.3569,  ..., 0.0353, 0.0314, 0.0235],\n",
      "         [0.8745, 0.6314, 0.3451,  ..., 0.0275, 0.0235, 0.0157]]])\n"
     ]
    }
   ],
   "source": [
    "image, label = dataset[0]\n",
    "print('Dimensiones de la imagen:', image.size())\n",
    "print('Etiqueta:',  label)\n",
    "plt.imshow(image.permute(1, 2, 0))\n",
    "plt.show()\n",
    "print(image)"
   ]
  },
  {
   "cell_type": "markdown",
   "id": "217b0cee",
   "metadata": {},
   "source": [
    "# 4. Cálculo de algunas estadísticas importantes, por ejemplo, la cantidad de registros por clase para verificar si las clases están balanceadas.\n"
   ]
  },
  {
   "cell_type": "code",
   "execution_count": 6,
   "id": "0969fcf5",
   "metadata": {},
   "outputs": [
    {
     "name": "stdout",
     "output_type": "stream",
     "text": [
      "Clase 0 (bee): 60 imágenes\n",
      "Clase 1 (butterfly): 60 imágenes\n",
      "Clase 2 (cat): 60 imágenes\n",
      "Clase 3 (crab): 60 imágenes\n",
      "Clase 4 (crow): 60 imágenes\n",
      "Clase 5 (dolphin): 60 imágenes\n",
      "Clase 6 (dragonfly): 60 imágenes\n",
      "Clase 7 (flamingo): 60 imágenes\n",
      "Clase 8 (grasshopper): 60 imágenes\n",
      "Clase 9 (horse): 60 imágenes\n",
      "Clase 10 (hummingbird): 60 imágenes\n",
      "Clase 11 (lizard): 60 imágenes\n",
      "Clase 12 (mosquito): 60 imágenes\n",
      "Clase 13 (owl): 60 imágenes\n",
      "Clase 14 (penguin): 60 imágenes\n",
      "Clase 15 (seahorse): 60 imágenes\n",
      "Clase 16 (starfish): 60 imágenes\n",
      "Clase 17 (turtle): 60 imágenes\n"
     ]
    }
   ],
   "source": [
    "class_counts = {}\n",
    "class_names = images.classes  # Obtener los nombres de las clases\n",
    "\n",
    "for _, label in dataset:\n",
    "    if label in class_counts:\n",
    "        class_counts[label] += 1\n",
    "    else:\n",
    "        class_counts[label] = 1\n",
    "\n",
    "# Imprimir la cantidad de imágenes por clase con los nombres correspondientes\n",
    "for label, count in class_counts.items():\n",
    "    class_name = class_names[label]  # Obtener el nombre de la clase según el índice\n",
    "    print(f\"Clase {label} ({class_name}): {count} imágenes\")"
   ]
  },
  {
   "cell_type": "markdown",
   "id": "f6fd4b29",
   "metadata": {},
   "source": [
    "**hay 60 imagenes por tipo lo que hace que los datos este Balanciados**"
   ]
  },
  {
   "cell_type": "markdown",
   "id": "1a25b7c8",
   "metadata": {},
   "source": [
    "# 5. Definición de la red convolucional."
   ]
  },
  {
   "cell_type": "code",
   "execution_count": 7,
   "id": "c63f32c2",
   "metadata": {},
   "outputs": [],
   "source": [
    "# Investigación: ¿cómo se definen los tamaños de las entradas y salidas de una red? \n",
    "# Pueden utilizar las referencias en la última sección.\n",
    "\n",
    "class CNNModel(nn.Module):\n",
    "    \"\"\"\n",
    "    Modelo de red convolucional. Clase que envuelve la clase nn.Module de PyTorch. \n",
    "    :params\n",
    "        torch.nn.Module clase que implenta la funionalidad de\n",
    "        redes neuronales de Pytorch \n",
    "    \"\"\"\n",
    "\n",
    "    def __init__(self,entrada,salidas):\n",
    "\n",
    "        # Función para definir e inicializar la red.\n",
    "        super().__init__()\n",
    "        capainicial=int(entrada*(entrada/2)**2)\n",
    "                \n",
    "        \n",
    "        # Capa convolucional\n",
    "        # torch.nn.Conv2d(in_channels, out_channels, kernel_size...\n",
    "        self.conv1 = nn.Conv2d(3, entrada, kernel_size=(3,3), stride=1, padding=1)\n",
    "        \n",
    "        # Función de activación de la capa 1\n",
    "        self.act1 = nn.ReLU()\n",
    "        \n",
    "        # Reemplaza por cero aleatoriamente algunos de los pesos \n",
    "        # de las red con probabilidad p utilizando muestras \n",
    "        # de una distribución de Bernoulli. Esta ha demostrado ser una \n",
    "        # técnica eficaz para regularizar y prevenir la coadaptación de las neuronas \n",
    "        # como se describe en (Hinton et al., 2012).\n",
    "        self.drop1 = nn.Dropout(0.3)\n",
    " \n",
    "        self.conv2 = nn.Conv2d(entrada, entrada, kernel_size=(3,3), stride=1, padding=1)\n",
    "        self.act2 = nn.ReLU()\n",
    "        \n",
    "        #torch.nn.MaxPool2d(kernel_size, stride,...        \n",
    "        self.pool2 = nn.MaxPool2d(kernel_size=(2, 2))\n",
    " \n",
    "        self.flat = nn.Flatten()\n",
    " \n",
    "        self.fc3 = nn.Linear(capainicial, 512)\n",
    "        self.act3 = nn.ReLU()\n",
    "        self.drop3 = nn.Dropout(0.5)\n",
    "        \n",
    "        \n",
    "        self.fin = nn.Linear(512, salidas)\n",
    " \n",
    "    def forward(self, x):\n",
    "        # Aplica el modelo a los datos de entrada.\n",
    "        # :param\n",
    "        #   x : datos de la imagen a procesar.\n",
    "        \n",
    "        #Pase de la entrada por todas las capas de la red.\n",
    "        \n",
    "        # input 3x32x32, output 32x32x32\n",
    "        x = self.act1(self.conv1(x))\n",
    "        x = self.drop1(x)\n",
    "        # input 32x32x32, output 32x32x32\n",
    "        x = self.act2(self.conv2(x))\n",
    "        # input 32x32x32, output 32x16x16\n",
    "        x = self.pool2(x)\n",
    "        # input 32x16x16, output 8192\n",
    "        x = self.flat(x)\n",
    "        # input 8192, output 512\n",
    "        x = self.act3(self.fc3(x))\n",
    "        x = self.drop3(x)\n",
    "        # input 512, output 10\n",
    "        x = self.fin(x)\n",
    "        return x\n",
    " \n"
   ]
  },
  {
   "cell_type": "markdown",
   "id": "64cff7b3",
   "metadata": {},
   "source": [
    "# 6. Definición de hiper-parámetros de entrenamiento, por ejemplo, función de perdida, el optimizador, entre otros."
   ]
  },
  {
   "cell_type": "code",
   "execution_count": 8,
   "id": "82c7a4f5",
   "metadata": {
    "scrolled": true
   },
   "outputs": [],
   "source": [
    "n_epochs = 100\n",
    "model = CNNModel(pixeles,num_classes)\n",
    "loss_fn = nn.CrossEntropyLoss()\n",
    "optimizer = optim.SGD(model.parameters(), lr=0.001, momentum=0.9)"
   ]
  },
  {
   "cell_type": "markdown",
   "id": "ff8ff1fa",
   "metadata": {},
   "source": [
    "# 7. Separación de las muestras en datos de entrenamiento y validación y entrene el modelo."
   ]
  },
  {
   "cell_type": "markdown",
   "id": "bc3d34ca",
   "metadata": {},
   "source": [
    "**Separe los datos**"
   ]
  },
  {
   "cell_type": "code",
   "execution_count": 9,
   "id": "6b78dec6",
   "metadata": {},
   "outputs": [],
   "source": [
    "train_set, test_set = dataset.get_splits()"
   ]
  },
  {
   "cell_type": "code",
   "execution_count": 10,
   "id": "36a49df6",
   "metadata": {},
   "outputs": [],
   "source": [
    "# Crea DataLoaders para los conjuntos de entrenamiento y prueba\n",
    "batch=32\n",
    "trainloader = DataLoader(train_set, batch_size=batch, shuffle=True)\n",
    "testloader = DataLoader(test_set, batch_size=batch, shuffle=False)"
   ]
  },
  {
   "cell_type": "markdown",
   "id": "28da473e",
   "metadata": {},
   "source": [
    "**Entrene el modelo**"
   ]
  },
  {
   "cell_type": "code",
   "execution_count": 11,
   "id": "e33a9ba9",
   "metadata": {
    "scrolled": true
   },
   "outputs": [
    {
     "name": "stdout",
     "output_type": "stream",
     "text": [
      "Epoch 4: model accuracy 5.06%\n",
      "Epoch 9: model accuracy 5.62%\n",
      "Epoch 14: model accuracy 10.96%\n",
      "Epoch 19: model accuracy 11.24%\n",
      "Epoch 24: model accuracy 17.13%\n",
      "Epoch 29: model accuracy 17.42%\n",
      "Epoch 34: model accuracy 20.79%\n",
      "Epoch 39: model accuracy 20.79%\n",
      "Epoch 44: model accuracy 24.72%\n",
      "Epoch 49: model accuracy 24.16%\n",
      "Epoch 54: model accuracy 25.56%\n",
      "Epoch 59: model accuracy 25.28%\n",
      "Epoch 64: model accuracy 26.97%\n",
      "Epoch 69: model accuracy 28.09%\n",
      "Epoch 74: model accuracy 30.90%\n",
      "Epoch 79: model accuracy 35.11%\n",
      "Epoch 84: model accuracy 33.15%\n",
      "Epoch 89: model accuracy 35.96%\n",
      "Epoch 94: model accuracy 34.27%\n",
      "Epoch 99: model accuracy 33.15%\n"
     ]
    }
   ],
   "source": [
    "# Entrenamiento de la red\n",
    "for epoch in range(n_epochs):\n",
    "    for inputs, labels in trainloader:\n",
    "        # forward, backward, y actualización de pesos\n",
    "        y_pred = model(inputs)\n",
    "        loss = loss_fn(y_pred, labels)\n",
    "        optimizer.zero_grad()\n",
    "        loss.backward()\n",
    "        optimizer.step()\n",
    " \n",
    "    acc = 0\n",
    "    count = 0\n",
    "    # Efectividad del modelo\n",
    "    with torch.no_grad():\n",
    "        for inputs, labels in testloader:\n",
    "            y_pred = model(inputs)\n",
    "            acc += (torch.argmax(y_pred, 1) == labels).float().sum()\n",
    "            count += len(labels)\n",
    "        acc /= count\n",
    "    if (epoch+1) % 5 == 0:\n",
    "        print(\"Epoch %d: model accuracy %.2f%%\" % (epoch, acc*100))\n",
    "    \n",
    " \n",
    "#torch.save(model.state_dict(), \"cifar10model.pth\")"
   ]
  },
  {
   "cell_type": "markdown",
   "id": "aada5446",
   "metadata": {},
   "source": [
    "# 8. Evaluación del modelo resultante"
   ]
  },
  {
   "cell_type": "code",
   "execution_count": 12,
   "id": "883a88c5",
   "metadata": {
    "scrolled": true
   },
   "outputs": [
    {
     "name": "stdout",
     "output_type": "stream",
     "text": [
      "Accuracy: 0.34\n",
      "Details:\n",
      "              precision    recall  f1-score   support\n",
      "\n",
      "         0.0       0.50      0.42      0.46        19\n",
      "         1.0       0.23      0.12      0.16        25\n",
      "         2.0       0.32      0.40      0.36        20\n",
      "         3.0       0.69      0.43      0.53        21\n",
      "         4.0       0.42      0.40      0.41        20\n",
      "         5.0       0.42      0.53      0.47        19\n",
      "         6.0       0.20      0.26      0.23        19\n",
      "         7.0       0.55      0.32      0.40        19\n",
      "         8.0       0.41      0.48      0.44        23\n",
      "         9.0       0.27      0.21      0.24        19\n",
      "        10.0       0.33      0.18      0.24        22\n",
      "        11.0       0.14      0.40      0.21        10\n",
      "        12.0       0.50      0.40      0.44        15\n",
      "        13.0       0.44      0.26      0.33        27\n",
      "        14.0       0.30      0.62      0.40        21\n",
      "        15.0       0.18      0.14      0.16        21\n",
      "        16.0       0.38      0.35      0.36        17\n",
      "        17.0       0.30      0.37      0.33        19\n",
      "\n",
      "    accuracy                           0.34       356\n",
      "   macro avg       0.36      0.35      0.34       356\n",
      "weighted avg       0.37      0.34      0.34       356\n",
      "\n"
     ]
    },
    {
     "data": {
      "image/png": "[encoded data removed]",
      "text/plain": [
       "<Figure size 640x480 with 1 Axes>"
      ]
     },
     "metadata": {},
     "output_type": "display_data"
    }
   ],
   "source": [
    "# Evaluate model performance\n",
    "\n",
    "def model_predition(model):\n",
    "    predicted = torch.Tensor([])\n",
    "    y_test = torch.Tensor([])\n",
    "\n",
    "    for inputs, labels in testloader:\n",
    "        y_pred = model(inputs)\n",
    "        \n",
    "        # Extract predictions\n",
    "        _, pred = torch.max(y_pred, 1)    \n",
    "        \n",
    "        # Concat predicted and labels\n",
    "        predicted = torch.cat((predicted,pred))\n",
    "        y_test = torch.cat((y_test, labels))\n",
    "    return y_test, predicted\n",
    "\n",
    "def plot_confusion_matrix(y_test, predicted):    \n",
    "    \"\"\"\n",
    "    Displays the confusion matrix and other metrics.\n",
    "    \n",
    "    Parameters:\n",
    "      y_test : a list of test data. \n",
    "      predicted: a list of model results\n",
    "    \"\"\"\n",
    "    classes = np.unique(y_test)\n",
    "    \n",
    "    ## Accuracy, Precision, Recall\n",
    "    accuracy = metrics.accuracy_score(y_test, predicted)\n",
    "\n",
    "    print(\"Accuracy:\",  round(accuracy,2))\n",
    "    print(\"Details:\")\n",
    "    print(metrics.classification_report(y_test, predicted))\n",
    "    \n",
    "    ## Plot confusion matrix\n",
    "    cm = metrics.confusion_matrix(y_test, predicted)\n",
    "    fig, ax = plt.subplots()\n",
    "    sns.heatmap(cm, annot=True, fmt='d', ax=ax, cmap=plt.cm.Blues, \n",
    "            cbar=False)\n",
    "    ax.set(xlabel=\"Pred\", ylabel=\"True\", xticklabels=classes, \n",
    "           yticklabels=classes, title=\"Confusion matrix\")\n",
    "    plt.yticks(rotation=0)\n",
    "\n",
    "    plt.show()\n",
    "\n",
    "y_test, predicted = model_predition(model)    \n",
    "plot_confusion_matrix(y_test, predicted)"
   ]
  },
  {
   "cell_type": "markdown",
   "id": "fc7278dd",
   "metadata": {},
   "source": [
    "# 09. Análisis de los resultados y mejoras\n",
    "\n",
    "Los resultados de la red parecen ser muy malos alcanzando solo un resultado de alrededor de 40% de accuray, aun asi logramos ver al revisar la matriz de confusión que la clase 5 (Dolphin) y la clase 12 (mosquito) presentan los mejores resultados alcanzando 64% y 73% respectivamente\n",
    "\n",
    "**aplique al menos dos cambios que efectivamente mejoren el rendimiento**\n",
    "1. La primera mejora aplicada al modelo fue aumentar el número de épocas, pasando de 25 a 100, lo que ayudó a mejorar la precisión (accuracy) del alrededor de 15% al  alrededor de 40%. Esto se debe a que el modelo muestra una tendencia a mejorar a medida que avanzan las épocas.\n",
    "\n",
    "2. La segunda mejora consistió en mantener los kernel_size de 3x3 y un padding de 1. Se probó con kernel_size de 5x5, siguiendo el ejemplo de HRTERHRTER (2022), quien procesó las 90 imágenes. Sin embargo, el modelo parecía llegar una prendisaje más variable subiendo y bajando con forme avanzan las epocas."
   ]
  },
  {
   "cell_type": "markdown",
   "id": "6f322281",
   "metadata": {},
   "source": [
    "# 10. Conclusiones\n",
    "1. Las redes neuronales y convolucionales son de mucha ayuda a la hora de automatizar la clasificación y predicciones, aunque pueden ser difíciles de mejorar debido a la cantidad de variables involucradas. Por lo tanto, es esencial investigar los antecedentes para aprender de ellos.\n",
    "2. En este ejercicio, las imágenes de animales, a pesar de ser muy entretenidas, tienen una muestra muy pequeña de solo 60 por clase. Aumentar la cantidad de muestras podría ayudar a mejorar el rendimiento.\n",
    "3. Como se pudo observar, uno de los principales mejoramientos fue aumentar el número de épocas. Por lo tanto, es importante conocer el número de épocas adecuado para obtener una mejora significativa.\n",
    "4. Una forma de intentar mejorar la red, que no pudo ser probada debido a limitaciones de equipo, es aumentar las capas internas. Esto permitiría una reducción de la cantidad de neuronas a la mitad, en lugar de realizar un salto tan grande de 8192 a 512."
   ]
  },
  {
   "cell_type": "markdown",
   "id": "d405d9e5",
   "metadata": {},
   "source": [
    "# Referencias\n",
    "\n",
    "[1 ] HRTERHRTER. (2022). Animal Classification Code. Recuperado de https://www.kaggle.com/code/programmerrdai/animal-clf/notebook"
   ]
  }
 ],
 "metadata": {
  "kernelspec": {
   "display_name": "Python 3 (ipykernel)",
   "language": "python",
   "name": "python3"
  },
  "language_info": {
   "codemirror_mode": {
    "name": "ipython",
    "version": 3
   },
   "file_extension": ".py",
   "mimetype": "text/x-python",
   "name": "python",
   "nbconvert_exporter": "python",
   "pygments_lexer": "ipython3",
   "version": "3.11.7"
  }
 },
 "nbformat": 4,
 "nbformat_minor": 5
}
