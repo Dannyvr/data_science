{
 "cells": [
  {
   "cell_type": "markdown",
   "id": "f0b42e62",
   "metadata": {},
   "source": [
    "## Integrantes\n",
    "#### Danny Valerio Ramírez\n",
    "#### Teresita Cordero Robles"
   ]
  },
  {
   "cell_type": "markdown",
   "id": "528830bb",
   "metadata": {},
   "source": [
    "# Bibliotecas"
   ]
  },
  {
   "cell_type": "code",
   "execution_count": 19,
   "id": "6a375f19",
   "metadata": {},
   "outputs": [],
   "source": [
    "#!pip install torch\n",
    "###############################################################################\n",
    "import torch as torch\n",
    "###############################################################################\n",
    "from numpy import vstack\n",
    "from numpy import sqrt\n",
    "import numpy as np\n",
    "from numpy import mean\n",
    "from numpy import std\n",
    "import pandas as pd\n",
    "import matplotlib.pyplot as plt\n",
    "import seaborn as sns\n",
    "\n",
    "import category_encoders as ce\n",
    "\n",
    "\n",
    "from sklearn.preprocessing import MinMaxScaler\n",
    "from sklearn.feature_selection import mutual_info_regression\n",
    "from sklearn.metrics import mean_squared_error\n",
    "from sklearn.linear_model import Ridge\n",
    "from sklearn.linear_model import RidgeCV\n",
    "from sklearn.model_selection import train_test_split\n",
    "\n",
    "from sklearn.metrics import r2_score, mean_squared_error\n",
    "\n",
    "\n",
    "\n",
    "# From Pytorch\n",
    "from torch.utils.data import Dataset\n",
    "from torch.utils.data import DataLoader\n",
    "from torch.utils.data import random_split\n",
    "from torch import Tensor\n",
    "from torch.nn import Linear\n",
    "from torch.nn import Sigmoid\n",
    "from torch.nn import Identity\n",
    "from torch.nn import Module\n",
    "from torch.optim import SGD\n",
    "from torch.nn import MSELoss\n",
    "from torch.nn.init import xavier_uniform_\n",
    "\n"
   ]
  },
  {
   "cell_type": "markdown",
   "id": "45e61b25",
   "metadata": {},
   "source": [
    "# 1) Descripción del conjuto de datos"
   ]
  },
  {
   "cell_type": "markdown",
   "id": "ec0009cb",
   "metadata": {},
   "source": [
    "\n",
    "- Sex: es el sexo  M, F, and I (infant)\n",
    "- Length: Medida del caparazón más largo\n",
    "- Diameter: Diametro\n",
    "- Heigh: peso del caparazón, con carne\n",
    "- Whole weight: Peso completo del abalone\n",
    "- Shucked weight: peso de la carne\n",
    "- Viscera weight: \tpeso de la tripa \n",
    "- Shell weight: peso del caparazón\n",
    "- Rings numero de anillos, indica la edad\n",
    "\n",
    "**Fuente:**\n",
    "[1] UCI Machine Learning Repository. (1990). Pima Indians Diabetes Database [Dataset]. Recuperado de https://www.kaggle.com/uciml/pima-indians-diabetes-database\n"
   ]
  },
  {
   "cell_type": "markdown",
   "id": "b682454d",
   "metadata": {},
   "source": [
    "## b) Carga del conjunto de datos."
   ]
  },
  {
   "cell_type": "code",
   "execution_count": 20,
   "id": "c364a8f6",
   "metadata": {},
   "outputs": [
    {
     "data": {
      "text/plain": [
       "(4177, 9)"
      ]
     },
     "execution_count": 20,
     "metadata": {},
     "output_type": "execute_result"
    }
   ],
   "source": [
    "df = pd.read_csv('abalone.csv', sep=',',encoding='utf-8')\n",
    "df.shape"
   ]
  },
  {
   "cell_type": "markdown",
   "id": "fb725517",
   "metadata": {},
   "source": [
    "## c) Exploración y limpieza del conjunto de datos"
   ]
  },
  {
   "cell_type": "code",
   "execution_count": 21,
   "id": "6f5c0ff7",
   "metadata": {
    "scrolled": true
   },
   "outputs": [
    {
     "data": {
      "text/html": [
       "<div>\n",
       "<style scoped>\n",
       "    .dataframe tbody tr th:only-of-type {\n",
       "        vertical-align: middle;\n",
       "    }\n",
       "\n",
       "    .dataframe tbody tr th {\n",
       "        vertical-align: top;\n",
       "    }\n",
       "\n",
       "    .dataframe thead th {\n",
       "        text-align: right;\n",
       "    }\n",
       "</style>\n",
       "<table border=\"1\" class=\"dataframe\">\n",
       "  <thead>\n",
       "    <tr style=\"text-align: right;\">\n",
       "      <th></th>\n",
       "      <th>Sex</th>\n",
       "      <th>Length</th>\n",
       "      <th>Diameter</th>\n",
       "      <th>Height</th>\n",
       "      <th>Whole weight</th>\n",
       "      <th>Shucked weight</th>\n",
       "      <th>Viscera weight</th>\n",
       "      <th>Shell weight</th>\n",
       "      <th>Rings</th>\n",
       "    </tr>\n",
       "  </thead>\n",
       "  <tbody>\n",
       "    <tr>\n",
       "      <th>0</th>\n",
       "      <td>M</td>\n",
       "      <td>0.455</td>\n",
       "      <td>0.365</td>\n",
       "      <td>0.095</td>\n",
       "      <td>0.5140</td>\n",
       "      <td>0.2245</td>\n",
       "      <td>0.1010</td>\n",
       "      <td>0.150</td>\n",
       "      <td>15</td>\n",
       "    </tr>\n",
       "    <tr>\n",
       "      <th>1</th>\n",
       "      <td>M</td>\n",
       "      <td>0.350</td>\n",
       "      <td>0.265</td>\n",
       "      <td>0.090</td>\n",
       "      <td>0.2255</td>\n",
       "      <td>0.0995</td>\n",
       "      <td>0.0485</td>\n",
       "      <td>0.070</td>\n",
       "      <td>7</td>\n",
       "    </tr>\n",
       "    <tr>\n",
       "      <th>2</th>\n",
       "      <td>F</td>\n",
       "      <td>0.530</td>\n",
       "      <td>0.420</td>\n",
       "      <td>0.135</td>\n",
       "      <td>0.6770</td>\n",
       "      <td>0.2565</td>\n",
       "      <td>0.1415</td>\n",
       "      <td>0.210</td>\n",
       "      <td>9</td>\n",
       "    </tr>\n",
       "    <tr>\n",
       "      <th>3</th>\n",
       "      <td>M</td>\n",
       "      <td>0.440</td>\n",
       "      <td>0.365</td>\n",
       "      <td>0.125</td>\n",
       "      <td>0.5160</td>\n",
       "      <td>0.2155</td>\n",
       "      <td>0.1140</td>\n",
       "      <td>0.155</td>\n",
       "      <td>10</td>\n",
       "    </tr>\n",
       "    <tr>\n",
       "      <th>4</th>\n",
       "      <td>I</td>\n",
       "      <td>0.330</td>\n",
       "      <td>0.255</td>\n",
       "      <td>0.080</td>\n",
       "      <td>0.2050</td>\n",
       "      <td>0.0895</td>\n",
       "      <td>0.0395</td>\n",
       "      <td>0.055</td>\n",
       "      <td>7</td>\n",
       "    </tr>\n",
       "    <tr>\n",
       "      <th>5</th>\n",
       "      <td>I</td>\n",
       "      <td>0.425</td>\n",
       "      <td>0.300</td>\n",
       "      <td>0.095</td>\n",
       "      <td>0.3515</td>\n",
       "      <td>0.1410</td>\n",
       "      <td>0.0775</td>\n",
       "      <td>0.120</td>\n",
       "      <td>8</td>\n",
       "    </tr>\n",
       "    <tr>\n",
       "      <th>6</th>\n",
       "      <td>F</td>\n",
       "      <td>0.530</td>\n",
       "      <td>0.415</td>\n",
       "      <td>0.150</td>\n",
       "      <td>0.7775</td>\n",
       "      <td>0.2370</td>\n",
       "      <td>0.1415</td>\n",
       "      <td>0.330</td>\n",
       "      <td>20</td>\n",
       "    </tr>\n",
       "    <tr>\n",
       "      <th>7</th>\n",
       "      <td>F</td>\n",
       "      <td>0.545</td>\n",
       "      <td>0.425</td>\n",
       "      <td>0.125</td>\n",
       "      <td>0.7680</td>\n",
       "      <td>0.2940</td>\n",
       "      <td>0.1495</td>\n",
       "      <td>0.260</td>\n",
       "      <td>16</td>\n",
       "    </tr>\n",
       "    <tr>\n",
       "      <th>8</th>\n",
       "      <td>M</td>\n",
       "      <td>0.475</td>\n",
       "      <td>0.370</td>\n",
       "      <td>0.125</td>\n",
       "      <td>0.5095</td>\n",
       "      <td>0.2165</td>\n",
       "      <td>0.1125</td>\n",
       "      <td>0.165</td>\n",
       "      <td>9</td>\n",
       "    </tr>\n",
       "    <tr>\n",
       "      <th>9</th>\n",
       "      <td>F</td>\n",
       "      <td>0.550</td>\n",
       "      <td>0.440</td>\n",
       "      <td>0.150</td>\n",
       "      <td>0.8945</td>\n",
       "      <td>0.3145</td>\n",
       "      <td>0.1510</td>\n",
       "      <td>0.320</td>\n",
       "      <td>19</td>\n",
       "    </tr>\n",
       "    <tr>\n",
       "      <th>10</th>\n",
       "      <td>F</td>\n",
       "      <td>0.525</td>\n",
       "      <td>0.380</td>\n",
       "      <td>0.140</td>\n",
       "      <td>0.6065</td>\n",
       "      <td>0.1940</td>\n",
       "      <td>0.1475</td>\n",
       "      <td>0.210</td>\n",
       "      <td>14</td>\n",
       "    </tr>\n",
       "    <tr>\n",
       "      <th>11</th>\n",
       "      <td>M</td>\n",
       "      <td>0.430</td>\n",
       "      <td>0.350</td>\n",
       "      <td>0.110</td>\n",
       "      <td>0.4060</td>\n",
       "      <td>0.1675</td>\n",
       "      <td>0.0810</td>\n",
       "      <td>0.135</td>\n",
       "      <td>10</td>\n",
       "    </tr>\n",
       "    <tr>\n",
       "      <th>12</th>\n",
       "      <td>M</td>\n",
       "      <td>0.490</td>\n",
       "      <td>0.380</td>\n",
       "      <td>0.135</td>\n",
       "      <td>0.5415</td>\n",
       "      <td>0.2175</td>\n",
       "      <td>0.0950</td>\n",
       "      <td>0.190</td>\n",
       "      <td>11</td>\n",
       "    </tr>\n",
       "    <tr>\n",
       "      <th>13</th>\n",
       "      <td>F</td>\n",
       "      <td>0.535</td>\n",
       "      <td>0.405</td>\n",
       "      <td>0.145</td>\n",
       "      <td>0.6845</td>\n",
       "      <td>0.2725</td>\n",
       "      <td>0.1710</td>\n",
       "      <td>0.205</td>\n",
       "      <td>10</td>\n",
       "    </tr>\n",
       "    <tr>\n",
       "      <th>14</th>\n",
       "      <td>F</td>\n",
       "      <td>0.470</td>\n",
       "      <td>0.355</td>\n",
       "      <td>0.100</td>\n",
       "      <td>0.4755</td>\n",
       "      <td>0.1675</td>\n",
       "      <td>0.0805</td>\n",
       "      <td>0.185</td>\n",
       "      <td>10</td>\n",
       "    </tr>\n",
       "    <tr>\n",
       "      <th>15</th>\n",
       "      <td>M</td>\n",
       "      <td>0.500</td>\n",
       "      <td>0.400</td>\n",
       "      <td>0.130</td>\n",
       "      <td>0.6645</td>\n",
       "      <td>0.2580</td>\n",
       "      <td>0.1330</td>\n",
       "      <td>0.240</td>\n",
       "      <td>12</td>\n",
       "    </tr>\n",
       "    <tr>\n",
       "      <th>16</th>\n",
       "      <td>I</td>\n",
       "      <td>0.355</td>\n",
       "      <td>0.280</td>\n",
       "      <td>0.085</td>\n",
       "      <td>0.2905</td>\n",
       "      <td>0.0950</td>\n",
       "      <td>0.0395</td>\n",
       "      <td>0.115</td>\n",
       "      <td>7</td>\n",
       "    </tr>\n",
       "    <tr>\n",
       "      <th>17</th>\n",
       "      <td>F</td>\n",
       "      <td>0.440</td>\n",
       "      <td>0.340</td>\n",
       "      <td>0.100</td>\n",
       "      <td>0.4510</td>\n",
       "      <td>0.1880</td>\n",
       "      <td>0.0870</td>\n",
       "      <td>0.130</td>\n",
       "      <td>10</td>\n",
       "    </tr>\n",
       "    <tr>\n",
       "      <th>18</th>\n",
       "      <td>M</td>\n",
       "      <td>0.365</td>\n",
       "      <td>0.295</td>\n",
       "      <td>0.080</td>\n",
       "      <td>0.2555</td>\n",
       "      <td>0.0970</td>\n",
       "      <td>0.0430</td>\n",
       "      <td>0.100</td>\n",
       "      <td>7</td>\n",
       "    </tr>\n",
       "    <tr>\n",
       "      <th>19</th>\n",
       "      <td>M</td>\n",
       "      <td>0.450</td>\n",
       "      <td>0.320</td>\n",
       "      <td>0.100</td>\n",
       "      <td>0.3810</td>\n",
       "      <td>0.1705</td>\n",
       "      <td>0.0750</td>\n",
       "      <td>0.115</td>\n",
       "      <td>9</td>\n",
       "    </tr>\n",
       "  </tbody>\n",
       "</table>\n",
       "</div>"
      ],
      "text/plain": [
       "   Sex  Length  Diameter  Height  Whole weight  Shucked weight  \\\n",
       "0    M   0.455     0.365   0.095        0.5140          0.2245   \n",
       "1    M   0.350     0.265   0.090        0.2255          0.0995   \n",
       "2    F   0.530     0.420   0.135        0.6770          0.2565   \n",
       "3    M   0.440     0.365   0.125        0.5160          0.2155   \n",
       "4    I   0.330     0.255   0.080        0.2050          0.0895   \n",
       "5    I   0.425     0.300   0.095        0.3515          0.1410   \n",
       "6    F   0.530     0.415   0.150        0.7775          0.2370   \n",
       "7    F   0.545     0.425   0.125        0.7680          0.2940   \n",
       "8    M   0.475     0.370   0.125        0.5095          0.2165   \n",
       "9    F   0.550     0.440   0.150        0.8945          0.3145   \n",
       "10   F   0.525     0.380   0.140        0.6065          0.1940   \n",
       "11   M   0.430     0.350   0.110        0.4060          0.1675   \n",
       "12   M   0.490     0.380   0.135        0.5415          0.2175   \n",
       "13   F   0.535     0.405   0.145        0.6845          0.2725   \n",
       "14   F   0.470     0.355   0.100        0.4755          0.1675   \n",
       "15   M   0.500     0.400   0.130        0.6645          0.2580   \n",
       "16   I   0.355     0.280   0.085        0.2905          0.0950   \n",
       "17   F   0.440     0.340   0.100        0.4510          0.1880   \n",
       "18   M   0.365     0.295   0.080        0.2555          0.0970   \n",
       "19   M   0.450     0.320   0.100        0.3810          0.1705   \n",
       "\n",
       "    Viscera weight  Shell weight  Rings  \n",
       "0           0.1010         0.150     15  \n",
       "1           0.0485         0.070      7  \n",
       "2           0.1415         0.210      9  \n",
       "3           0.1140         0.155     10  \n",
       "4           0.0395         0.055      7  \n",
       "5           0.0775         0.120      8  \n",
       "6           0.1415         0.330     20  \n",
       "7           0.1495         0.260     16  \n",
       "8           0.1125         0.165      9  \n",
       "9           0.1510         0.320     19  \n",
       "10          0.1475         0.210     14  \n",
       "11          0.0810         0.135     10  \n",
       "12          0.0950         0.190     11  \n",
       "13          0.1710         0.205     10  \n",
       "14          0.0805         0.185     10  \n",
       "15          0.1330         0.240     12  \n",
       "16          0.0395         0.115      7  \n",
       "17          0.0870         0.130     10  \n",
       "18          0.0430         0.100      7  \n",
       "19          0.0750         0.115      9  "
      ]
     },
     "execution_count": 21,
     "metadata": {},
     "output_type": "execute_result"
    }
   ],
   "source": [
    "df.head(20)"
   ]
  },
  {
   "cell_type": "code",
   "execution_count": 22,
   "id": "f5e29438",
   "metadata": {},
   "outputs": [
    {
     "data": {
      "text/html": [
       "<div>\n",
       "<style scoped>\n",
       "    .dataframe tbody tr th:only-of-type {\n",
       "        vertical-align: middle;\n",
       "    }\n",
       "\n",
       "    .dataframe tbody tr th {\n",
       "        vertical-align: top;\n",
       "    }\n",
       "\n",
       "    .dataframe thead th {\n",
       "        text-align: right;\n",
       "    }\n",
       "</style>\n",
       "<table border=\"1\" class=\"dataframe\">\n",
       "  <thead>\n",
       "    <tr style=\"text-align: right;\">\n",
       "      <th></th>\n",
       "      <th>Length</th>\n",
       "      <th>Diameter</th>\n",
       "      <th>Height</th>\n",
       "      <th>Whole weight</th>\n",
       "      <th>Shucked weight</th>\n",
       "      <th>Viscera weight</th>\n",
       "      <th>Shell weight</th>\n",
       "      <th>Rings</th>\n",
       "    </tr>\n",
       "  </thead>\n",
       "  <tbody>\n",
       "    <tr>\n",
       "      <th>count</th>\n",
       "      <td>4177.000000</td>\n",
       "      <td>4177.000000</td>\n",
       "      <td>4177.000000</td>\n",
       "      <td>4177.000000</td>\n",
       "      <td>4177.000000</td>\n",
       "      <td>4177.000000</td>\n",
       "      <td>4177.000000</td>\n",
       "      <td>4177.000000</td>\n",
       "    </tr>\n",
       "    <tr>\n",
       "      <th>mean</th>\n",
       "      <td>0.523992</td>\n",
       "      <td>0.407881</td>\n",
       "      <td>0.139516</td>\n",
       "      <td>0.828742</td>\n",
       "      <td>0.359367</td>\n",
       "      <td>0.180594</td>\n",
       "      <td>0.238831</td>\n",
       "      <td>9.933684</td>\n",
       "    </tr>\n",
       "    <tr>\n",
       "      <th>std</th>\n",
       "      <td>0.120093</td>\n",
       "      <td>0.099240</td>\n",
       "      <td>0.041827</td>\n",
       "      <td>0.490389</td>\n",
       "      <td>0.221963</td>\n",
       "      <td>0.109614</td>\n",
       "      <td>0.139203</td>\n",
       "      <td>3.224169</td>\n",
       "    </tr>\n",
       "    <tr>\n",
       "      <th>min</th>\n",
       "      <td>0.075000</td>\n",
       "      <td>0.055000</td>\n",
       "      <td>0.000000</td>\n",
       "      <td>0.002000</td>\n",
       "      <td>0.001000</td>\n",
       "      <td>0.000500</td>\n",
       "      <td>0.001500</td>\n",
       "      <td>1.000000</td>\n",
       "    </tr>\n",
       "    <tr>\n",
       "      <th>25%</th>\n",
       "      <td>0.450000</td>\n",
       "      <td>0.350000</td>\n",
       "      <td>0.115000</td>\n",
       "      <td>0.441500</td>\n",
       "      <td>0.186000</td>\n",
       "      <td>0.093500</td>\n",
       "      <td>0.130000</td>\n",
       "      <td>8.000000</td>\n",
       "    </tr>\n",
       "    <tr>\n",
       "      <th>50%</th>\n",
       "      <td>0.545000</td>\n",
       "      <td>0.425000</td>\n",
       "      <td>0.140000</td>\n",
       "      <td>0.799500</td>\n",
       "      <td>0.336000</td>\n",
       "      <td>0.171000</td>\n",
       "      <td>0.234000</td>\n",
       "      <td>9.000000</td>\n",
       "    </tr>\n",
       "    <tr>\n",
       "      <th>75%</th>\n",
       "      <td>0.615000</td>\n",
       "      <td>0.480000</td>\n",
       "      <td>0.165000</td>\n",
       "      <td>1.153000</td>\n",
       "      <td>0.502000</td>\n",
       "      <td>0.253000</td>\n",
       "      <td>0.329000</td>\n",
       "      <td>11.000000</td>\n",
       "    </tr>\n",
       "    <tr>\n",
       "      <th>max</th>\n",
       "      <td>0.815000</td>\n",
       "      <td>0.650000</td>\n",
       "      <td>1.130000</td>\n",
       "      <td>2.825500</td>\n",
       "      <td>1.488000</td>\n",
       "      <td>0.760000</td>\n",
       "      <td>1.005000</td>\n",
       "      <td>29.000000</td>\n",
       "    </tr>\n",
       "  </tbody>\n",
       "</table>\n",
       "</div>"
      ],
      "text/plain": [
       "            Length     Diameter       Height  Whole weight  Shucked weight  \\\n",
       "count  4177.000000  4177.000000  4177.000000   4177.000000     4177.000000   \n",
       "mean      0.523992     0.407881     0.139516      0.828742        0.359367   \n",
       "std       0.120093     0.099240     0.041827      0.490389        0.221963   \n",
       "min       0.075000     0.055000     0.000000      0.002000        0.001000   \n",
       "25%       0.450000     0.350000     0.115000      0.441500        0.186000   \n",
       "50%       0.545000     0.425000     0.140000      0.799500        0.336000   \n",
       "75%       0.615000     0.480000     0.165000      1.153000        0.502000   \n",
       "max       0.815000     0.650000     1.130000      2.825500        1.488000   \n",
       "\n",
       "       Viscera weight  Shell weight        Rings  \n",
       "count     4177.000000   4177.000000  4177.000000  \n",
       "mean         0.180594      0.238831     9.933684  \n",
       "std          0.109614      0.139203     3.224169  \n",
       "min          0.000500      0.001500     1.000000  \n",
       "25%          0.093500      0.130000     8.000000  \n",
       "50%          0.171000      0.234000     9.000000  \n",
       "75%          0.253000      0.329000    11.000000  \n",
       "max          0.760000      1.005000    29.000000  "
      ]
     },
     "execution_count": 22,
     "metadata": {},
     "output_type": "execute_result"
    }
   ],
   "source": [
    "df.describe()"
   ]
  },
  {
   "cell_type": "markdown",
   "id": "63b3e767",
   "metadata": {},
   "source": [
    "**Matriz de Calor**"
   ]
  },
  {
   "cell_type": "code",
   "execution_count": 23,
   "id": "3ac32ca1",
   "metadata": {
    "scrolled": true
   },
   "outputs": [
    {
     "name": "stderr",
     "output_type": "stream",
     "text": [
      "C:\\Users\\danny.valerio\\AppData\\Local\\Temp\\ipykernel_12740\\2492716405.py:1: FutureWarning: The default value of numeric_only in DataFrame.corr is deprecated. In a future version, it will default to False. Select only valid columns or specify the value of numeric_only to silence this warning.\n",
      "  correlation = df.corr()\n"
     ]
    },
    {
     "data": {
      "image/png": "[encoded data removed]",
      "text/plain": [
       "<Figure size 1200x1200 with 2 Axes>"
      ]
     },
     "metadata": {},
     "output_type": "display_data"
    }
   ],
   "source": [
    "correlation = df.corr()\n",
    "plt.figure(figsize=(12,12))\n",
    "ax = sns.heatmap(correlation, vmax=1, square=True, annot = True, cmap = 'viridis')\n",
    "plt.title('Correlación entre variables')\n",
    "plt.show()"
   ]
  },
  {
   "cell_type": "markdown",
   "id": "1a4267d2",
   "metadata": {},
   "source": [
    "**No hay Datos datos faltantes**"
   ]
  },
  {
   "cell_type": "code",
   "execution_count": 24,
   "id": "1e85ab06",
   "metadata": {},
   "outputs": [
    {
     "name": "stdout",
     "output_type": "stream",
     "text": [
      "False\n"
     ]
    }
   ],
   "source": [
    "print(df.isnull().values.any())"
   ]
  },
  {
   "cell_type": "markdown",
   "id": "6baf5246",
   "metadata": {},
   "source": [
    "**Codificacion de la columna Sex**\n",
    "Para codificar la columna de sexo usaremos un encoder dummy, ya  que cuenta con solo 3 categorias M,F,I"
   ]
  },
  {
   "cell_type": "code",
   "execution_count": 25,
   "id": "726b2ed0",
   "metadata": {},
   "outputs": [
    {
     "name": "stdout",
     "output_type": "stream",
     "text": [
      "      Length  Diameter  Height  Whole weight  Shucked weight  Viscera weight  \\\n",
      "0      0.455     0.365   0.095        0.5140          0.2245          0.1010   \n",
      "1      0.350     0.265   0.090        0.2255          0.0995          0.0485   \n",
      "2      0.530     0.420   0.135        0.6770          0.2565          0.1415   \n",
      "3      0.440     0.365   0.125        0.5160          0.2155          0.1140   \n",
      "4      0.330     0.255   0.080        0.2050          0.0895          0.0395   \n",
      "...      ...       ...     ...           ...             ...             ...   \n",
      "4172   0.565     0.450   0.165        0.8870          0.3700          0.2390   \n",
      "4173   0.590     0.440   0.135        0.9660          0.4390          0.2145   \n",
      "4174   0.600     0.475   0.205        1.1760          0.5255          0.2875   \n",
      "4175   0.625     0.485   0.150        1.0945          0.5310          0.2610   \n",
      "4176   0.710     0.555   0.195        1.9485          0.9455          0.3765   \n",
      "\n",
      "      Shell weight  Rings  Sex_I  Sex_M  \n",
      "0           0.1500     15      0      1  \n",
      "1           0.0700      7      0      1  \n",
      "2           0.2100      9      0      0  \n",
      "3           0.1550     10      0      1  \n",
      "4           0.0550      7      1      0  \n",
      "...            ...    ...    ...    ...  \n",
      "4172        0.2490     11      0      0  \n",
      "4173        0.2605     10      0      1  \n",
      "4174        0.3080      9      0      1  \n",
      "4175        0.2960     10      0      0  \n",
      "4176        0.4950     12      0      1  \n",
      "\n",
      "[4177 rows x 10 columns]\n"
     ]
    }
   ],
   "source": [
    "# An instance of the encoder is created \n",
    "df=pd.get_dummies(data=df,drop_first=True)\n",
    "\n",
    "print(df)"
   ]
  },
  {
   "cell_type": "markdown",
   "id": "75a12216",
   "metadata": {},
   "source": [
    "## D) Escalado de datos"
   ]
  },
  {
   "cell_type": "code",
   "execution_count": 26,
   "id": "e76b81a4",
   "metadata": {
    "scrolled": true
   },
   "outputs": [
    {
     "name": "stderr",
     "output_type": "stream",
     "text": [
      "C:\\Users\\danny.valerio\\AppData\\Local\\Temp\\ipykernel_12740\\1090875161.py:3: UserWarning: To output multiple subplots, the figure containing the passed axes is being cleared.\n",
      "  df.hist(ax=ax)\n"
     ]
    },
    {
     "data": {
      "image/png": "[encoded data removed]",
      "text/plain": [
       "<Figure size 2000x2000 with 12 Axes>"
      ]
     },
     "metadata": {},
     "output_type": "display_data"
    }
   ],
   "source": [
    "fig = plt.figure(figsize = (20,20))\n",
    "ax = fig.gca()\n",
    "df.hist(ax=ax)\n",
    "plt.show()"
   ]
  },
  {
   "cell_type": "markdown",
   "id": "49fab41e",
   "metadata": {},
   "source": [
    "**Para este conjundo de datos y revisando los  histogramas anteriores notans que los datos no suelen ser atipicos, a excepcion de un en Height que al 1.13. Por lo que podria usar escalado MinMaxScaler(), agrupoando los datos entre 1 y 0**"
   ]
  },
  {
   "cell_type": "code",
   "execution_count": 27,
   "id": "f190624a",
   "metadata": {},
   "outputs": [
    {
     "name": "stdout",
     "output_type": "stream",
     "text": [
      "[15  7  9 ...  9 10 12]\n"
     ]
    }
   ],
   "source": [
    "y=df['Rings'].values\n",
    "X=df.drop(['Rings'], axis=1)\n",
    "print(y)"
   ]
  },
  {
   "cell_type": "code",
   "execution_count": 28,
   "id": "d99765d8",
   "metadata": {},
   "outputs": [
    {
     "name": "stdout",
     "output_type": "stream",
     "text": [
      "[[0.51351351 0.5210084  0.0840708  ... 0.14798206 0.         1.        ]\n",
      " [0.37162162 0.35294118 0.07964602 ... 0.06826109 0.         1.        ]\n",
      " [0.61486486 0.61344538 0.11946903 ... 0.2077728  0.         0.        ]\n",
      " ...\n",
      " [0.70945946 0.70588235 0.18141593 ... 0.30543099 0.         1.        ]\n",
      " [0.74324324 0.72268908 0.13274336 ... 0.29347285 0.         0.        ]\n",
      " [0.85810811 0.84033613 0.17256637 ... 0.49177877 0.         1.        ]]\n"
     ]
    }
   ],
   "source": [
    "transformer = MinMaxScaler().fit(X)\n",
    "X = transformer.transform(X)\n",
    "print(X)"
   ]
  },
  {
   "cell_type": "markdown",
   "id": "8476c766",
   "metadata": {},
   "source": [
    "## E)  Selección de las características que más contribuyen"
   ]
  },
  {
   "cell_type": "code",
   "execution_count": 29,
   "id": "06986331",
   "metadata": {
    "scrolled": true
   },
   "outputs": [
    {
     "name": "stdout",
     "output_type": "stream",
     "text": [
      "[0.37547237 0.40211547 0.3845071  0.38965144 0.3299311  0.37435043\n",
      " 0.46637483 0.15909336 0.03165859]\n"
     ]
    }
   ],
   "source": [
    "mi_score = mutual_info_regression(X,y)\n",
    "print(mi_score)"
   ]
  },
  {
   "cell_type": "markdown",
   "id": "483c2da3",
   "metadata": {},
   "source": [
    "**Como podemos ver las caracteristicas aportan bastante similar a el target a excepcion de las ultimas 2, por lo que las dejaremos por fuera**"
   ]
  },
  {
   "cell_type": "code",
   "execution_count": 30,
   "id": "004f2da2",
   "metadata": {},
   "outputs": [
    {
     "data": {
      "text/plain": [
       "(4177, 7)"
      ]
     },
     "execution_count": 30,
     "metadata": {},
     "output_type": "execute_result"
    }
   ],
   "source": [
    "# Characteristics with mi_score > 0.2\n",
    "mi_score_selected_index = np.where(mi_score >0.2)[0]\n",
    "\n",
    "\n",
    "# X_2 data with features having MI scores > 0.2\n",
    "X= X[:,mi_score_selected_index]\n",
    "X.shape"
   ]
  },
  {
   "cell_type": "markdown",
   "id": "e8bd322d",
   "metadata": {},
   "source": [
    "## F) Definición del modelo (red profunda de perceptrón multicapa)"
   ]
  },
  {
   "cell_type": "markdown",
   "id": "2e907f26",
   "metadata": {},
   "source": [
    "**Definimos la calse dataset**"
   ]
  },
  {
   "cell_type": "code",
   "execution_count": 31,
   "id": "1e7d06f1",
   "metadata": {},
   "outputs": [],
   "source": [
    "# dataset definition\n",
    "class CSVDataset(Dataset):\n",
    "    # load the dataset\n",
    "    def __init__(self, X,y):\n",
    "        \"\"\"\n",
    "        The __init__ function is run once when instantiating the Dataset object. \n",
    "        :param path: the path and name of the file to process. \n",
    "        \"\"\"\n",
    "             \n",
    "        # store the inputs and outputs\n",
    "        self.X = X.astype('float32')\n",
    "        self.y = y.astype('float32')\n",
    "       \n",
    "        # ensure target has the right shape\n",
    "        self.y = self.y.reshape((len(self.y), 1))\n",
    "        #print(self.y)\n",
    "    # number of rows in the dataset\n",
    "    def __len__(self):\n",
    "        \"\"\"\n",
    "        The __len__ function returns the number of samples in our dataset.\n",
    "        \"\"\"\n",
    "        return len(self.X)\n",
    "\n",
    "    # get a row at an index\n",
    "    def __getitem__(self, idx):\n",
    "        \"\"\"\n",
    "        The __getitem__ function loads and returns \n",
    "        a sample from the dataset at the given index idx. \n",
    "        :param idx: index.\n",
    "        \"\"\"\n",
    "        return [self.X[idx], self.y[idx]]\n",
    "\n",
    "    # get indexes for train and test rows\n",
    "    def get_splits(self, n_test=0.33):\n",
    "        \"\"\"\n",
    "        Split the dataset into training and test data.\n",
    "        :param n_test: training data percentage\n",
    "        \"\"\"\n",
    "        # determine sizes\n",
    "        test_size = round(n_test * len(self.X))\n",
    "        train_size = len(self.X) - test_size\n",
    "        # calculate the split\n",
    "        return random_split(self, [train_size, test_size])\n"
   ]
  },
  {
   "cell_type": "markdown",
   "id": "5c29b1f7",
   "metadata": {},
   "source": [
    "**Creamos el modelo**"
   ]
  },
  {
   "cell_type": "code",
   "execution_count": 32,
   "id": "30c6ec27",
   "metadata": {},
   "outputs": [],
   "source": [
    "# model definition\n",
    "class MLP(Module):\n",
    "    \"\"\"\n",
    "    Class that implements the perceptron, it extends the nn.Module class.\n",
    "    \"\"\"\n",
    "    def __init__(self, n_inputs, n_output, n_layer_1, n_layer_2):\n",
    "        \"\"\"\n",
    "        Defines the structure of the model\n",
    "        \"\"\"\n",
    "        super(MLP, self).__init__()\n",
    "\n",
    "        # input to first hidden layer\n",
    "        self.hidden1 = Linear(n_inputs, n_layer_1)\n",
    "\n",
    "        # Initialization: Weights are scaled using a uniform distribution.\n",
    "        xavier_uniform_(self.hidden1.weight)\n",
    "        self.act1 = Sigmoid()\n",
    "\n",
    "        # second hidden layer\n",
    "        self.hidden2 = Linear(n_layer_1, n_layer_2)\n",
    "        xavier_uniform_(self.hidden2.weight)\n",
    "        self.act2 = Identity()\n",
    "        #Identity()\n",
    "\n",
    "        # third hidden layer and output\n",
    "        self.hidden3 = Linear(n_layer_2, n_output)\n",
    "        xavier_uniform_(self.hidden3.weight)\n",
    "\n",
    "    def forward(self, X):\n",
    "        \"\"\"\n",
    "        Forward run of the network using the data in X.\n",
    "        \"\"\"\n",
    "        # input to first hidden layer\n",
    "        X = self.hidden1(X)\n",
    "        X = self.act1(X)\n",
    "         # second hidden layer\n",
    "        X = self.hidden2(X)\n",
    "        X = self.act2(X)\n",
    "        # third hidden layer and output\n",
    "        X = self.hidden3(X)\n",
    "        return X"
   ]
  },
  {
   "cell_type": "markdown",
   "id": "6300e11d",
   "metadata": {},
   "source": [
    "## G) Entrenamiento del modelo."
   ]
  },
  {
   "cell_type": "markdown",
   "id": "97b7eb5b",
   "metadata": {},
   "source": [
    "**realimanos la funcion de entrenamiento**"
   ]
  },
  {
   "cell_type": "code",
   "execution_count": 33,
   "id": "957e0f01",
   "metadata": {},
   "outputs": [],
   "source": [
    "def train_model(train_dl, model):\n",
    "    \"\"\"\n",
    "    Train the model using the train data loader (train_dl).\n",
    "    \"\"\"\n",
    "    \n",
    "    # Define the optimization parameters\n",
    "    # Mean Squared Error (MSE)\n",
    "    criterion = MSELoss()\n",
    "    # Stochastic gradient descent (SGD)\n",
    "    optimizer = SGD(model.parameters(), lr=0.01, momentum=0.9)\n",
    "    # enumerate epochs\n",
    "    for epoch in range(100):\n",
    "        # enumerate mini batches\n",
    "        for i, (inputs, targets) in enumerate(train_dl):\n",
    "            # clear the gradients\n",
    "            optimizer.zero_grad()\n",
    "            # compute the model output\n",
    "            yhat = model(inputs)\n",
    "            # calculate loss\n",
    "            loss = criterion(yhat, targets)\n",
    "            # credit assignment\n",
    "            loss.backward()\n",
    "            # update model weights\n",
    "            optimizer.step()\n",
    "    return model"
   ]
  },
  {
   "cell_type": "markdown",
   "id": "5486be08",
   "metadata": {},
   "source": [
    "## H) Cálculo de la pérdida utilizando el error cuadrático medio."
   ]
  },
  {
   "cell_type": "markdown",
   "id": "85548c7d",
   "metadata": {},
   "source": [
    "**Definimos la funcion predict para usar el modelo**"
   ]
  },
  {
   "cell_type": "code",
   "execution_count": 34,
   "id": "3264cd8d",
   "metadata": {},
   "outputs": [],
   "source": [
    "def predict(row, model):\n",
    "    \"\"\"\n",
    "    Make a class prediction for one row of data\n",
    "    :param: row, data that will be used for prediction.\n",
    "    :param: model, the model to apply to the data. \n",
    "    \"\"\"\n",
    "\n",
    "    # convert row to data\n",
    "    row = Tensor([row])\n",
    "    # make prediction\n",
    "    yhat = model(row)\n",
    "    # retrieve numpy array\n",
    "    yhat = yhat.detach().numpy()\n",
    "    return yhat"
   ]
  },
  {
   "cell_type": "markdown",
   "id": "1f85624f",
   "metadata": {},
   "source": [
    "**Definimos la funcion para calcular el Error**"
   ]
  },
  {
   "cell_type": "code",
   "execution_count": 35,
   "id": "a9530e55",
   "metadata": {},
   "outputs": [],
   "source": [
    "def evaluate_model(test_dl, model):\n",
    "    \"\"\"\n",
    "    Evaluates the model performance using Mean Squared Error (MSE).\n",
    "    :param: test_dt, test data.\n",
    "    :param: model, model to evaluate.\n",
    "    \"\"\"\n",
    "    predictions, actuals = list(), list()\n",
    "    for i, (inputs, targets) in enumerate(test_dl):\n",
    "        # evaluate the model on the test set\n",
    "        yhat = model(inputs)\n",
    "        # retrieve numpy array\n",
    "        yhat = yhat.detach().numpy()\n",
    "        actual = targets.numpy()\n",
    "        actual = actual.reshape((len(actual), 1))\n",
    "        # store\n",
    "        predictions.append(yhat)\n",
    "        actuals.append(actual)\n",
    "    # vstack: Stack arrays in sequence vertically (row wise).    \n",
    "    predictions, actuals = vstack(predictions), vstack(actuals)\n",
    "    # calculate mse\n",
    "    mse = mean_squared_error(actuals, predictions)\n",
    "    return mse"
   ]
  },
  {
   "cell_type": "markdown",
   "id": "b3cf70c1",
   "metadata": {},
   "source": [
    "## i) Preparación un ejemplo de uso del modelo"
   ]
  },
  {
   "cell_type": "markdown",
   "id": "3d1b2091",
   "metadata": {},
   "source": [
    "**clase para preparar los datos**"
   ]
  },
  {
   "cell_type": "code",
   "execution_count": 36,
   "id": "dfa56dae",
   "metadata": {},
   "outputs": [],
   "source": [
    "def prepare_data(X,y):\n",
    "    \"\"\"\n",
    "    Prepare the dataset.\n",
    "    :param path: path and name of the file .\n",
    "    \"\"\"\n",
    "    # load the dataset\n",
    "    dataset = CSVDataset(X,y)\n",
    "    #print(\"dataset.X.len\", dataset.__len__())\n",
    "    #print(\"dataset.X\", dataset.X)\n",
    "    # calculate split\n",
    "    train, test = dataset.get_splits()\n",
    "    # prepare data loaders\n",
    "    train_dl = DataLoader(train, batch_size=32, shuffle=True)\n",
    "    test_dl = DataLoader(test, batch_size=10, shuffle=False)\n",
    "    return train_dl, test_dl"
   ]
  },
  {
   "cell_type": "markdown",
   "id": "26d72986",
   "metadata": {},
   "source": [
    "**Usamos el modelo y los datos**"
   ]
  },
  {
   "cell_type": "code",
   "execution_count": 37,
   "id": "89e3b8e7",
   "metadata": {},
   "outputs": [
    {
     "name": "stdout",
     "output_type": "stream",
     "text": [
      "Cantidad de datos de entrenamiento y prueba 2799 1378\n",
      "<torch.utils.data.dataloader.DataLoader object at 0x000001B527F48D00>\n",
      "7\n"
     ]
    }
   ],
   "source": [
    "train_dl, test_dl = prepare_data(X,y)\n",
    "\n",
    "print(\"Cantidad de datos de entrenamiento y prueba\", len(train_dl.dataset), len(test_dl.dataset))\n",
    "\n",
    "print(train_dl)\n",
    "\n",
    "n_inputs = X.shape[1]\n",
    "print(n_inputs)\n",
    "n_layer_1 = 5\n",
    "n_layer_2 = 3\n",
    "n_output = 1\n",
    "model = MLP( n_inputs, n_output, n_layer_1, n_layer_2 )\n",
    "\n",
    "# train the model\n",
    "model = train_model(train_dl, model)"
   ]
  },
  {
   "cell_type": "markdown",
   "id": "c23f1cc7",
   "metadata": {},
   "source": [
    "**Evaluamos el modelo**"
   ]
  },
  {
   "cell_type": "code",
   "execution_count": 20,
   "id": "6ad88657",
   "metadata": {},
   "outputs": [
    {
     "name": "stdout",
     "output_type": "stream",
     "text": [
      "MSE: 4.166, RMSE: 2.041\n"
     ]
    }
   ],
   "source": [
    "mse = evaluate_model(test_dl, model)\n",
    "print('MSE: %.3f, RMSE: %.3f' % (mse, sqrt(mse)))\n"
   ]
  },
  {
   "cell_type": "markdown",
   "id": "c957226b",
   "metadata": {},
   "source": [
    "**Predicion de una columna**"
   ]
  },
  {
   "cell_type": "code",
   "execution_count": 21,
   "id": "42142526",
   "metadata": {
    "scrolled": true
   },
   "outputs": [
    {
     "name": "stdout",
     "output_type": "stream",
     "text": [
      "Columna:  30\n",
      "Predicted: 12.541\n",
      "Predicted: 10.000\n",
      "\n",
      "\n",
      "Columna:  20\n",
      "Predicted: 7.756\n",
      "Predicted: 11.000\n"
     ]
    },
    {
     "name": "stderr",
     "output_type": "stream",
     "text": [
      "C:\\Users\\danny.valerio\\AppData\\Local\\Temp\\ipykernel_4324\\386234741.py:9: UserWarning: Creating a tensor from a list of numpy.ndarrays is extremely slow. Please consider converting the list to a single numpy.ndarray with numpy.array() before converting to a tensor. (Triggered internally at C:\\actions-runner\\_work\\pytorch\\pytorch\\builder\\windows\\pytorch\\torch\\csrc\\utils\\tensor_new.cpp:233.)\n",
      "  row = Tensor([row])\n"
     ]
    }
   ],
   "source": [
    "\n",
    "number=30\n",
    "print('Columna: ', number)\n",
    "row = X[number].astype('float32')\n",
    "yhat = predict(row, model)\n",
    "print('Predicted: %.3f' % yhat)\n",
    "print('Predicted: %.3f' % y[number])\n",
    "\n",
    "print( \"\\n\")\n",
    "number=20\n",
    "\n",
    "print('Columna: ', number)\n",
    "\n",
    "row = X[number].astype('float32')\n",
    "yhat = predict(row, model)\n",
    "print('Predicted: %.3f' % yhat)\n",
    "print('Predicted: %.3f' % y[number])"
   ]
  },
  {
   "cell_type": "markdown",
   "id": "9bdecc3d",
   "metadata": {},
   "source": [
    "## J) Conclusiones"
   ]
  },
  {
   "cell_type": "markdown",
   "id": "a6205642",
   "metadata": {},
   "source": [
    "1) Para este ejercicio el error medio siempre se mantien alrededor de 4, lo que parece ser un error no tan alto.\n",
    "\n",
    "2) Aunque la recomendacion del materior es usar Identity en regreciones lineale, no varia mucho con relaciona  la Sigmoid\n",
    "\n",
    "3) Pese  a que el error no es tan alto cuando vemos la prediccion realizar sobre las columnas 30 y 20 existe una diferencia de 3 puntos con la el target original, por lo que podria pobrar si al aumnetar las capas de 2 a 3,4.. mejora esta prediccion"
   ]
  },
  {
   "cell_type": "markdown",
   "id": "0161eb93",
   "metadata": {},
   "source": [
    "## a)  Aplicación de la regresión Ridge"
   ]
  },
  {
   "cell_type": "markdown",
   "id": "bc59bf46",
   "metadata": {},
   "source": [
    "**Define el apha**"
   ]
  },
  {
   "cell_type": "code",
   "execution_count": 22,
   "id": "20c5a377",
   "metadata": {},
   "outputs": [],
   "source": [
    "x_train, x_test, y_train, y_test = train_test_split(X, y, test_size=0.2, random_state=2)"
   ]
  },
  {
   "cell_type": "code",
   "execution_count": 23,
   "id": "8f384220",
   "metadata": {},
   "outputs": [
    {
     "name": "stdout",
     "output_type": "stream",
     "text": [
      "alpha: 0.340000\n"
     ]
    }
   ],
   "source": [
    "# To select alpha\n",
    "\n",
    "# define model\n",
    "model = RidgeCV(alphas=np.arange(0.01, 1, 0.01))\n",
    "# fit model\n",
    "model.fit(X, y)\n",
    "# summarize chosen configuration\n",
    "print('alpha: %f' % model.alpha_)"
   ]
  },
  {
   "cell_type": "code",
   "execution_count": 24,
   "id": "cde0fe55",
   "metadata": {},
   "outputs": [],
   "source": [
    "# Using the selected alpha\n",
    "## \"Ridge\"\n",
    "reg_Ridge = Ridge(alpha=.34).fit(X, y)\n",
    "\n",
    "\n",
    "reg = Ridge(alpha=.01).fit(x_train, y_train)\n",
    "\n"
   ]
  },
  {
   "cell_type": "markdown",
   "id": "cc9aefa0",
   "metadata": {},
   "source": [
    "## b)  Cálculo de la pérdida "
   ]
  },
  {
   "cell_type": "code",
   "execution_count": 25,
   "id": "9a5cb753",
   "metadata": {},
   "outputs": [
    {
     "name": "stdout",
     "output_type": "stream",
     "text": [
      "\n",
      "\n",
      "Ridge\n",
      "Score:  0.5255887826498356\n",
      "MSE: 5.932, RMSE: 2.436\n"
     ]
    }
   ],
   "source": [
    "y_pred = reg.predict(x_test)\n",
    "\n",
    "mse = mean_squared_error(y_test, y_pred)\n",
    "print( \"\\n\")\n",
    "print(\"Ridge\")\n",
    "print( \"Score: \", reg_Ridge.score(X, y) )\n",
    "print('MSE: %.3f, RMSE: %.3f' % (mse, sqrt(mse)))"
   ]
  },
  {
   "cell_type": "markdown",
   "id": "69656747",
   "metadata": {},
   "source": [
    "## C) Conclusiones"
   ]
  },
  {
   "cell_type": "markdown",
   "id": "60348af7",
   "metadata": {},
   "source": [
    "1. Para el ejercicio de Ridge tuvinos un resultado de 5.9 para los datos utilziados siendo este un error no muy grande.\n",
    "\n",
    "2. Pese a que el ejercicio de Ridge utiliza los mismos datos que el de perceptrón multicapa, el error de este  esta un 1 por arriba siendo el de perceptrón multicapa al rededor de 4 siempre\n",
    "\n",
    "3. Pese a que el ejerciocio de Ridge es mas sencillo de aplicar el del percentros nos da mas posibilidades de ajuste agregando mas o menos capas al modelo mientras que el de Ridge solo podemos reaustar el alpha. En cambos podemos mejorar el procesamiento."
   ]
  },
  {
   "cell_type": "markdown",
   "id": "7bd60907",
   "metadata": {},
   "source": [
    "## a) Implementación del algoritmo del perceptrón"
   ]
  },
  {
   "cell_type": "code",
   "execution_count": 26,
   "id": "eba6f73b",
   "metadata": {},
   "outputs": [],
   "source": [
    "class Perceptron:\n",
    "    def __init__(self, input_size, output_size):\n",
    "        # Inicializamos los pesos con valores aleatorios pequeños\n",
    "        self.weights = np.random.randn(input_size, output_size) * 0.01\n",
    "        self.bias = np.zeros((1, output_size))\n",
    "\n",
    "    def sigmoid(self, z):\n",
    "        # Función de activación, en este caso es la función escalón\n",
    "        return  1 / (1 + np.exp(-z))\n",
    "    "
   ]
  },
  {
   "cell_type": "markdown",
   "id": "b5cafd39",
   "metadata": {},
   "source": [
    "**Realimanos la funcion de entrenamiento**"
   ]
  },
  {
   "cell_type": "code",
   "execution_count": 27,
   "id": "0b3e2e60",
   "metadata": {},
   "outputs": [],
   "source": [
    "def train(model, X, y, num_epochs=100, learning_rate=0.1):\n",
    "    # Convertimos y a una matriz de dos dimensiones\n",
    "    y = y.reshape(-1, 1)\n",
    "\n",
    "    # Entrenamiento del perceptrón\n",
    "    for epoch in range(num_epochs):\n",
    "        # Forward pass\n",
    "        z = np.dot(X, model.weights) + model.bias\n",
    "        yhat = model.sigmoid(z)\n",
    "\n",
    "        # Cálculo del error\n",
    "        error = y - yhat\n",
    "\n",
    "        # Backward pass\n",
    "        dW = learning_rate * np.dot(X.T, error)\n",
    "        db = learning_rate * np.sum(error, axis=0, keepdims=True)\n",
    "\n",
    "        # Actualización de los pesos y bias\n",
    "        model.weights += dW\n",
    "        model.bias += db"
   ]
  },
  {
   "cell_type": "markdown",
   "id": "5050cc6e",
   "metadata": {},
   "source": [
    "**Realizamos la funcion predecir**"
   ]
  },
  {
   "cell_type": "code",
   "execution_count": 28,
   "id": "a0766a97",
   "metadata": {},
   "outputs": [],
   "source": [
    "def predict(model, X):\n",
    "    # Predicción con el perceptrón\n",
    "    z = np.dot(X, model.weights) + model.bias\n",
    "    yhat = model.sigmoid(z)\n",
    "    \n",
    "    # Aplicamos un umbral para la clasificación binaria\n",
    "    return np.where(yhat >= 0.5, 1, 0)"
   ]
  },
  {
   "cell_type": "markdown",
   "id": "f75f7a04",
   "metadata": {},
   "source": [
    "## b) Creación de una columna  binaria"
   ]
  },
  {
   "cell_type": "code",
   "execution_count": 29,
   "id": "1e52c716",
   "metadata": {
    "scrolled": true
   },
   "outputs": [],
   "source": [
    "df=pd.DataFrame(X)\n",
    "target=pd.DataFrame(y)\n",
    "df=pd.concat([df,target],axis=1)\n",
    "\n",
    "arr = np.arange(df.shape[1])\n",
    "\n",
    "df.columns=arr\n"
   ]
  },
  {
   "cell_type": "code",
   "execution_count": 30,
   "id": "75b329c4",
   "metadata": {
    "scrolled": true
   },
   "outputs": [
    {
     "name": "stdout",
     "output_type": "stream",
     "text": [
      "    Rings  count\n",
      "23      1      1\n",
      "26      2      1\n",
      "17      3     15\n",
      "13      4     57\n",
      "9       5    115\n",
      "6       6    259\n",
      "4       7    391\n",
      "2       8    568\n",
      "0       9    689\n",
      "1      10    634\n",
      "3      11    487\n",
      "5      12    267\n",
      "7      13    203\n",
      "8      14    126\n",
      "10     15    103\n",
      "11     16     67\n",
      "12     17     58\n",
      "14     18     42\n",
      "15     19     32\n",
      "16     20     26\n",
      "18     21     14\n",
      "20     22      6\n",
      "19     23      9\n",
      "22     24      2\n",
      "27     25      1\n",
      "24     26      1\n",
      "21     27      2\n",
      "25     29      1\n"
     ]
    }
   ],
   "source": [
    "counts = df[7].value_counts()\n",
    "\n",
    "# Creamos un nuevo DataFrame con las cuentas y su frecuencia\n",
    "df_counts = pd.DataFrame({'Rings': counts.index, 'count': counts.values})\n",
    "df_counts=df_counts.sort_values('Rings', ascending=True)\n",
    "print(df_counts)"
   ]
  },
  {
   "cell_type": "markdown",
   "id": "0e23aabb",
   "metadata": {},
   "source": [
    "**al revisar los datos notamos que podemos dejar:**\n",
    "- 1 a 9 como joven 0: un total de 2096 registro \n",
    "- 10 en adelante como viejo 1: un total de 2081 registros"
   ]
  },
  {
   "cell_type": "code",
   "execution_count": 31,
   "id": "e549c565",
   "metadata": {
    "scrolled": true
   },
   "outputs": [
    {
     "data": {
      "text/html": [
       "<div>\n",
       "<style scoped>\n",
       "    .dataframe tbody tr th:only-of-type {\n",
       "        vertical-align: middle;\n",
       "    }\n",
       "\n",
       "    .dataframe tbody tr th {\n",
       "        vertical-align: top;\n",
       "    }\n",
       "\n",
       "    .dataframe thead th {\n",
       "        text-align: right;\n",
       "    }\n",
       "</style>\n",
       "<table border=\"1\" class=\"dataframe\">\n",
       "  <thead>\n",
       "    <tr style=\"text-align: right;\">\n",
       "      <th></th>\n",
       "      <th>0</th>\n",
       "      <th>1</th>\n",
       "      <th>2</th>\n",
       "      <th>3</th>\n",
       "      <th>4</th>\n",
       "      <th>5</th>\n",
       "      <th>6</th>\n",
       "      <th>7</th>\n",
       "      <th>Group</th>\n",
       "    </tr>\n",
       "  </thead>\n",
       "  <tbody>\n",
       "    <tr>\n",
       "      <th>0</th>\n",
       "      <td>0.513514</td>\n",
       "      <td>0.521008</td>\n",
       "      <td>0.084071</td>\n",
       "      <td>0.181335</td>\n",
       "      <td>0.150303</td>\n",
       "      <td>0.132324</td>\n",
       "      <td>0.147982</td>\n",
       "      <td>15</td>\n",
       "      <td>1</td>\n",
       "    </tr>\n",
       "    <tr>\n",
       "      <th>1</th>\n",
       "      <td>0.371622</td>\n",
       "      <td>0.352941</td>\n",
       "      <td>0.079646</td>\n",
       "      <td>0.079157</td>\n",
       "      <td>0.066241</td>\n",
       "      <td>0.063199</td>\n",
       "      <td>0.068261</td>\n",
       "      <td>7</td>\n",
       "      <td>0</td>\n",
       "    </tr>\n",
       "    <tr>\n",
       "      <th>2</th>\n",
       "      <td>0.614865</td>\n",
       "      <td>0.613445</td>\n",
       "      <td>0.119469</td>\n",
       "      <td>0.239065</td>\n",
       "      <td>0.171822</td>\n",
       "      <td>0.185648</td>\n",
       "      <td>0.207773</td>\n",
       "      <td>9</td>\n",
       "      <td>0</td>\n",
       "    </tr>\n",
       "    <tr>\n",
       "      <th>3</th>\n",
       "      <td>0.493243</td>\n",
       "      <td>0.521008</td>\n",
       "      <td>0.110619</td>\n",
       "      <td>0.182044</td>\n",
       "      <td>0.144250</td>\n",
       "      <td>0.149440</td>\n",
       "      <td>0.152965</td>\n",
       "      <td>10</td>\n",
       "      <td>1</td>\n",
       "    </tr>\n",
       "    <tr>\n",
       "      <th>4</th>\n",
       "      <td>0.344595</td>\n",
       "      <td>0.336134</td>\n",
       "      <td>0.070796</td>\n",
       "      <td>0.071897</td>\n",
       "      <td>0.059516</td>\n",
       "      <td>0.051350</td>\n",
       "      <td>0.053313</td>\n",
       "      <td>7</td>\n",
       "      <td>0</td>\n",
       "    </tr>\n",
       "    <tr>\n",
       "      <th>...</th>\n",
       "      <td>...</td>\n",
       "      <td>...</td>\n",
       "      <td>...</td>\n",
       "      <td>...</td>\n",
       "      <td>...</td>\n",
       "      <td>...</td>\n",
       "      <td>...</td>\n",
       "      <td>...</td>\n",
       "      <td>...</td>\n",
       "    </tr>\n",
       "    <tr>\n",
       "      <th>4172</th>\n",
       "      <td>0.662162</td>\n",
       "      <td>0.663866</td>\n",
       "      <td>0.146018</td>\n",
       "      <td>0.313441</td>\n",
       "      <td>0.248151</td>\n",
       "      <td>0.314022</td>\n",
       "      <td>0.246637</td>\n",
       "      <td>11</td>\n",
       "      <td>1</td>\n",
       "    </tr>\n",
       "    <tr>\n",
       "      <th>4173</th>\n",
       "      <td>0.695946</td>\n",
       "      <td>0.647059</td>\n",
       "      <td>0.119469</td>\n",
       "      <td>0.341420</td>\n",
       "      <td>0.294553</td>\n",
       "      <td>0.281764</td>\n",
       "      <td>0.258097</td>\n",
       "      <td>10</td>\n",
       "      <td>1</td>\n",
       "    </tr>\n",
       "    <tr>\n",
       "      <th>4174</th>\n",
       "      <td>0.709459</td>\n",
       "      <td>0.705882</td>\n",
       "      <td>0.181416</td>\n",
       "      <td>0.415796</td>\n",
       "      <td>0.352724</td>\n",
       "      <td>0.377880</td>\n",
       "      <td>0.305431</td>\n",
       "      <td>9</td>\n",
       "      <td>0</td>\n",
       "    </tr>\n",
       "    <tr>\n",
       "      <th>4175</th>\n",
       "      <td>0.743243</td>\n",
       "      <td>0.722689</td>\n",
       "      <td>0.132743</td>\n",
       "      <td>0.386931</td>\n",
       "      <td>0.356422</td>\n",
       "      <td>0.342989</td>\n",
       "      <td>0.293473</td>\n",
       "      <td>10</td>\n",
       "      <td>1</td>\n",
       "    </tr>\n",
       "    <tr>\n",
       "      <th>4176</th>\n",
       "      <td>0.858108</td>\n",
       "      <td>0.840336</td>\n",
       "      <td>0.172566</td>\n",
       "      <td>0.689393</td>\n",
       "      <td>0.635171</td>\n",
       "      <td>0.495063</td>\n",
       "      <td>0.491779</td>\n",
       "      <td>12</td>\n",
       "      <td>1</td>\n",
       "    </tr>\n",
       "  </tbody>\n",
       "</table>\n",
       "<p>4177 rows × 9 columns</p>\n",
       "</div>"
      ],
      "text/plain": [
       "             0         1         2         3         4         5         6  \\\n",
       "0     0.513514  0.521008  0.084071  0.181335  0.150303  0.132324  0.147982   \n",
       "1     0.371622  0.352941  0.079646  0.079157  0.066241  0.063199  0.068261   \n",
       "2     0.614865  0.613445  0.119469  0.239065  0.171822  0.185648  0.207773   \n",
       "3     0.493243  0.521008  0.110619  0.182044  0.144250  0.149440  0.152965   \n",
       "4     0.344595  0.336134  0.070796  0.071897  0.059516  0.051350  0.053313   \n",
       "...        ...       ...       ...       ...       ...       ...       ...   \n",
       "4172  0.662162  0.663866  0.146018  0.313441  0.248151  0.314022  0.246637   \n",
       "4173  0.695946  0.647059  0.119469  0.341420  0.294553  0.281764  0.258097   \n",
       "4174  0.709459  0.705882  0.181416  0.415796  0.352724  0.377880  0.305431   \n",
       "4175  0.743243  0.722689  0.132743  0.386931  0.356422  0.342989  0.293473   \n",
       "4176  0.858108  0.840336  0.172566  0.689393  0.635171  0.495063  0.491779   \n",
       "\n",
       "       7  Group  \n",
       "0     15      1  \n",
       "1      7      0  \n",
       "2      9      0  \n",
       "3     10      1  \n",
       "4      7      0  \n",
       "...   ..    ...  \n",
       "4172  11      1  \n",
       "4173  10      1  \n",
       "4174   9      0  \n",
       "4175  10      1  \n",
       "4176  12      1  \n",
       "\n",
       "[4177 rows x 9 columns]"
      ]
     },
     "execution_count": 31,
     "metadata": {},
     "output_type": "execute_result"
    }
   ],
   "source": [
    "df['Group']=0\n",
    "df.loc[df[7] > 9, 'Group'] = 1\n",
    "df"
   ]
  },
  {
   "cell_type": "markdown",
   "id": "08b0a9a1",
   "metadata": {},
   "source": [
    "## c) Utilización del perceptrón"
   ]
  },
  {
   "cell_type": "markdown",
   "id": "2a55bfa6",
   "metadata": {},
   "source": [
    "**creamos una funcion para evaluar el modelo**"
   ]
  },
  {
   "cell_type": "code",
   "execution_count": 32,
   "id": "717e7e51",
   "metadata": {
    "scrolled": true
   },
   "outputs": [],
   "source": [
    "X=df.iloc[:, :-2].values\n",
    "y=df.iloc[:,-1].values\n",
    "y=y.reshape((len(y), 1))"
   ]
  },
  {
   "cell_type": "code",
   "execution_count": 33,
   "id": "af7be247",
   "metadata": {},
   "outputs": [],
   "source": [
    "X_train, X_test, y_train, y_test = train_test_split(X, y, test_size=0.2)"
   ]
  },
  {
   "cell_type": "code",
   "execution_count": 34,
   "id": "01f95649",
   "metadata": {
    "scrolled": true
   },
   "outputs": [],
   "source": [
    "n_inputs = X.shape[1]\n",
    "\n",
    "n_output = 1\n",
    "perceptron = Perceptron(input_size=7, output_size=1)\n",
    "\n",
    "# Entrenamos el modelo\n",
    "train(perceptron,X_train, y_train)"
   ]
  },
  {
   "cell_type": "markdown",
   "id": "884a0149",
   "metadata": {},
   "source": [
    "**Evaluamos el modelo**"
   ]
  },
  {
   "cell_type": "code",
   "execution_count": 35,
   "id": "57e8f0c7",
   "metadata": {},
   "outputs": [],
   "source": [
    "def evaluate_perceptron(perceptron, X, y):\n",
    "    # Realizamos las predicciones\n",
    "    y_pred = predict(perceptron,X)\n",
    "    \n",
    "    # Calculamos los verdaderos positivos, verdaderos negativos, falsos positivos y falsos negativos\n",
    "    TP = np.sum((y_pred == 1) & (y == 1))\n",
    "    TN = np.sum((y_pred == 0) & (y == 0))\n",
    "    FP = np.sum((y_pred == 1) & (y == 0))\n",
    "    FN = np.sum((y_pred == 0) & (y == 1))\n",
    "    \n",
    "    # Calculamos la accuracy\n",
    "    accuracy = (TP + TN) / (TP + TN + FP + FN)\n",
    "    \n",
    "    return accuracy"
   ]
  },
  {
   "cell_type": "code",
   "execution_count": 40,
   "id": "580619e1",
   "metadata": {
    "scrolled": true
   },
   "outputs": [
    {
     "name": "stdout",
     "output_type": "stream",
     "text": [
      "accuracy: 0.6418482164232703\n"
     ]
    }
   ],
   "source": [
    "print('accuracy:',evaluate_perceptron(perceptron,X,y))"
   ]
  },
  {
   "cell_type": "markdown",
   "id": "bf32609c",
   "metadata": {},
   "source": [
    "**Predicion de una columna**"
   ]
  },
  {
   "cell_type": "code",
   "execution_count": 42,
   "id": "cea9f773",
   "metadata": {
    "scrolled": true
   },
   "outputs": [
    {
     "name": "stdout",
     "output_type": "stream",
     "text": [
      "Columna:  30\n",
      "Predicted:  [[0]]\n",
      "Real: 1.000\n"
     ]
    }
   ],
   "source": [
    "number=30\n",
    "print('Columna: ', number)\n",
    "row =X[[number]].astype('float32')\n",
    "yhat =  predict(perceptron,row)\n",
    "print('Predicted: ', yhat)\n",
    "print('Real: %.3f' % y[number])"
   ]
  },
  {
   "cell_type": "markdown",
   "id": "e43805e3",
   "metadata": {},
   "source": [
    "## D) Conclusiones\n",
    "- En este caso podemos ver que el percentron creado no es muy bueno, teniendo un accuracy de 0.64  en un ejercicio binario del 50%\n",
    "- A la hora de usarlo para predecir una columna podemos ver que su resultado estuvo erroneo, ya que era una clasificacion que debia dar 1 y dio 0\n",
    "- Para este ejercio se utilizo como funcion de activacion al sigmoid, ya que es una de las recomendadas en clasificacion pero el resultado fue muy bajo por lo que abria que trabajar mejor el percentron."
   ]
  }
 ],
 "metadata": {
  "kernelspec": {
   "display_name": "Python 3 (ipykernel)",
   "language": "python",
   "name": "python3"
  },
  "language_info": {
   "codemirror_mode": {
    "name": "ipython",
    "version": 3
   },
   "file_extension": ".py",
   "mimetype": "text/x-python",
   "name": "python",
   "nbconvert_exporter": "python",
   "pygments_lexer": "ipython3",
   "version": "3.11.7"
  }
 },
 "nbformat": 4,
 "nbformat_minor": 5
}
