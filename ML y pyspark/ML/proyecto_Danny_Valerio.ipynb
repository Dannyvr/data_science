{
 "cells": [
  {
   "cell_type": "markdown",
   "id": "cae71e6d",
   "metadata": {},
   "source": [
    "# Bibliotecas"
   ]
  },
  {
   "cell_type": "code",
   "execution_count": 2,
   "id": "9b261acc",
   "metadata": {
    "scrolled": true
   },
   "outputs": [],
   "source": [
    "# basicas\n",
    "import findspark\n",
    "findspark.init()\n",
    "\n",
    "import pyspark\n",
    "\n",
    "from pyspark.sql import SparkSession\n",
    "\n",
    "from pyspark.sql.types import (StringType, IntegerType, FloatType, \n",
    "                               DecimalType, StructField, StructType)\n",
    "from pyspark.sql.functions import col,when, explode, array, lit\n",
    "from pyspark.ml.feature import VectorAssembler,MinMaxScaler,StringIndexer, OneHotEncoder,StandardScaler, VectorSlicer,PCA\n",
    "\n",
    "from pyspark.ml.classification import RandomForestClassifier, MultilayerPerceptronClassifier\n",
    "from pyspark.ml.evaluation import MulticlassClassificationEvaluator\n",
    "from pyspark.ml.tuning import ParamGridBuilder, CrossValidator\n",
    "from pyspark.ml.stat import Correlation\n",
    "\n",
    "from pyspark.ml import Pipeline\n",
    "\n",
    "import matplotlib.pyplot as plt\n"
   ]
  },
  {
   "cell_type": "markdown",
   "id": "001d7d49",
   "metadata": {},
   "source": [
    "# Cargar los datos de la base de datos"
   ]
  },
  {
   "cell_type": "code",
   "execution_count": 3,
   "id": "969b7757",
   "metadata": {},
   "outputs": [
    {
     "name": "stderr",
     "output_type": "stream",
     "text": [
      "ps: unrecognized option: p\n",
      "BusyBox v1.30.1 (2019-10-26 11:23:07 UTC) multi-call binary.\n",
      "\n",
      "Usage: ps [-o COL1,COL2=HEADER]\n",
      "\n",
      "Show list of processes\n",
      "\n",
      "\t-o COL1,COL2=HEADER\tSelect columns for display\n",
      "Setting default log level to \"WARN\".\n",
      "To adjust logging level use sc.setLogLevel(newLevel). For SparkR, use setLogLevel(newLevel).\n",
      "23/10/19 22:06:05 WARN NativeCodeLoader: Unable to load native-hadoop library for your platform... using builtin-java classes where applicable\n",
      "/usr/lib/python3.7/site-packages/pyspark/context.py:317: FutureWarning: Python 3.7 support is deprecated in Spark 3.4.\n",
      "  warnings.warn(\"Python 3.7 support is deprecated in Spark 3.4.\", FutureWarning)\n"
     ]
    }
   ],
   "source": [
    "from pyspark.sql.types import (StringType, IntegerType, FloatType, \n",
    "                               DecimalType, StructField, StructType)\n",
    "\n",
    "spark = SparkSession \\\n",
    "    .builder \\\n",
    "    .appName(\"Basic JDBC pipeline\") \\\n",
    "    .config(\"spark.driver.extraClassPath\", \"postgresql-42.2.14.jar\") \\\n",
    "    .config(\"spark.executor.extraClassPath\", \"postgresql-42.2.14.jar\") \\\n",
    "    .getOrCreate()"
   ]
  },
  {
   "cell_type": "code",
   "execution_count": 4,
   "id": "cbdd1fa8",
   "metadata": {},
   "outputs": [],
   "source": [
    "df_Heart_country = spark \\\n",
    "    .read \\\n",
    "    .format(\"jdbc\") \\\n",
    "    .option(\"url\", \"jdbc:postgresql://host.docker.internal:5433/postgres\") \\\n",
    "    .option(\"user\", \"postgres\") \\\n",
    "    .option(\"password\", \"testPassword\") \\\n",
    "    .option(\"dbtable\", \"Heart_country\") \\\n",
    "    .load()"
   ]
  },
  {
   "cell_type": "code",
   "execution_count": 5,
   "id": "5784dcf5",
   "metadata": {},
   "outputs": [
    {
     "name": "stdout",
     "output_type": "stream",
     "text": [
      "root\n",
      " |-- Age: float (nullable = true)\n",
      " |-- Sex: string (nullable = true)\n",
      " |-- Cholesterol: float (nullable = true)\n",
      " |-- Heart Rate: float (nullable = true)\n",
      " |-- Diabetes: float (nullable = true)\n",
      " |-- Family History: float (nullable = true)\n",
      " |-- Smoking: float (nullable = true)\n",
      " |-- Obesity: float (nullable = true)\n",
      " |-- Alcohol Consumption: float (nullable = true)\n",
      " |-- Exercise Hours Per Week: float (nullable = true)\n",
      " |-- Diet: string (nullable = true)\n",
      " |-- Previous Heart Problems: float (nullable = true)\n",
      " |-- Medication Use: float (nullable = true)\n",
      " |-- Stress Level: float (nullable = true)\n",
      " |-- Sedentary Hours Per Day: float (nullable = true)\n",
      " |-- Income: float (nullable = true)\n",
      " |-- BMI: float (nullable = true)\n",
      " |-- Triglycerides: float (nullable = true)\n",
      " |-- Physical Activity Days Per Week: float (nullable = true)\n",
      " |-- Sleep Hours Per Day: float (nullable = true)\n",
      " |-- Country: string (nullable = true)\n",
      " |-- systolic: float (nullable = true)\n",
      " |-- diastolic: float (nullable = true)\n",
      " |-- Quality of Life Index: float (nullable = true)\n",
      " |-- Purchasing Power Index: float (nullable = true)\n",
      " |-- Safety Index: float (nullable = true)\n",
      " |-- Health Care Index: float (nullable = true)\n",
      " |-- Cost of Living Index: float (nullable = true)\n",
      " |-- Property Price to Income Ratio: float (nullable = true)\n",
      " |-- Traffic Commute Time Index: float (nullable = true)\n",
      " |-- Pollution Index: float (nullable = true)\n",
      " |-- Climate Index: float (nullable = true)\n",
      " |-- Heart Attack Risk: float (nullable = true)\n",
      "\n"
     ]
    }
   ],
   "source": [
    "df_Heart_country.printSchema()"
   ]
  },
  {
   "cell_type": "code",
   "execution_count": 6,
   "id": "0d590e19",
   "metadata": {
    "scrolled": false
   },
   "outputs": [
    {
     "name": "stderr",
     "output_type": "stream",
     "text": [
      "23/10/19 22:06:24 WARN package: Truncated the string representation of a plan since it was too large. This behavior can be adjusted by setting 'spark.sql.debug.maxToStringFields'.\n",
      "                                                                                \r"
     ]
    },
    {
     "name": "stdout",
     "output_type": "stream",
     "text": [
      "+----+------+-----------+----------+--------+--------------+-------+-------+-------------------+-----------------------+-------+-----------------------+--------------+------------+-----------------------+-------+----+-------------+-------------------------------+-------------------+-------+--------+---------+---------------------+----------------------+------------+-----------------+--------------------+------------------------------+--------------------------+---------------+-------------+-----------------+\n",
      "| Age|   Sex|Cholesterol|Heart Rate|Diabetes|Family History|Smoking|Obesity|Alcohol Consumption|Exercise Hours Per Week|   Diet|Previous Heart Problems|Medication Use|Stress Level|Sedentary Hours Per Day| Income| BMI|Triglycerides|Physical Activity Days Per Week|Sleep Hours Per Day|Country|systolic|diastolic|Quality of Life Index|Purchasing Power Index|Safety Index|Health Care Index|Cost of Living Index|Property Price to Income Ratio|Traffic Commute Time Index|Pollution Index|Climate Index|Heart Attack Risk|\n",
      "+----+------+-----------+----------+--------+--------------+-------+-------+-------------------+-----------------------+-------+-----------------------+--------------+------------+-----------------------+-------+----+-------------+-------------------------------+-------------------+-------+--------+---------+---------------------+----------------------+------------+-----------------+--------------------+------------------------------+--------------------------+---------------+-------------+-----------------+\n",
      "|18.0|Female|      120.0|      99.0|     0.0|           1.0|    0.0|    1.0|                1.0|                    6.0|Average|                    0.0|           1.0|        10.0|                    7.0|32612.0|34.0|        184.0|                            2.0|                5.0|  China|   162.0|    102.0|                105.1|                  58.2|        74.2|             67.6|                36.5|                          33.0|                      39.2|           78.8|         79.4|              0.0|\n",
      "+----+------+-----------+----------+--------+--------------+-------+-------+-------------------+-----------------------+-------+-----------------------+--------------+------------+-----------------------+-------+----+-------------+-------------------------------+-------------------+-------+--------+---------+---------------------+----------------------+------------+-----------------+--------------------+------------------------------+--------------------------+---------------+-------------+-----------------+\n",
      "only showing top 1 row\n",
      "\n"
     ]
    }
   ],
   "source": [
    "df_Heart_country.show(1)"
   ]
  },
  {
   "cell_type": "code",
   "execution_count": 7,
   "id": "4743ad05",
   "metadata": {},
   "outputs": [
    {
     "name": "stdout",
     "output_type": "stream",
     "text": [
      "(8763, 33)\n"
     ]
    }
   ],
   "source": [
    "print((df_Heart_country.count(), len(df_Heart_country.columns)))"
   ]
  },
  {
   "cell_type": "markdown",
   "id": "76c80aac",
   "metadata": {},
   "source": [
    "# Modelo de predicción."
   ]
  },
  {
   "cell_type": "markdown",
   "id": "0c45898e",
   "metadata": {},
   "source": [
    "### Entendamos los datos para saber el mejor metodo para scalar o/y si deben balanciados  en el pipeline"
   ]
  },
  {
   "cell_type": "markdown",
   "id": "a083907d",
   "metadata": {},
   "source": [
    "## Visualizacion para saber si estan balanciado"
   ]
  },
  {
   "cell_type": "code",
   "execution_count": 8,
   "id": "9a4cc94f",
   "metadata": {},
   "outputs": [
    {
     "name": "stderr",
     "output_type": "stream",
     "text": [
      "                                                                                \r"
     ]
    }
   ],
   "source": [
    "Heart_counts = df_Heart_country.groupBy(\"Heart Attack Risk\").count().orderBy(\"Heart Attack Risk\")\n",
    "# Convierte el DataFrame de Spark a un DataFrame de pandas\n",
    "Heart_counts_pd = Heart_counts.toPandas()"
   ]
  },
  {
   "cell_type": "code",
   "execution_count": 9,
   "id": "c7cb9f29",
   "metadata": {
    "scrolled": false
   },
   "outputs": [
    {
     "data": {
      "image/png": "[encoded data removed]",
      "text/plain": [
       "<Figure size 640x480 with 1 Axes>"
      ]
     },
     "metadata": {},
     "output_type": "display_data"
    }
   ],
   "source": [
    "Heart_counts = df_Heart_country.groupBy(\"Heart Attack Risk\").count().orderBy(\"Heart Attack Risk\")\n",
    "# Convierte el DataFrame de Spark a un DataFrame de pandas\n",
    "Heart_counts_pd = Heart_counts.toPandas()\n",
    "\n",
    "# Crea el gráfico de barras con Matplotlib\n",
    "plt.bar(Heart_counts_pd[\"Heart Attack Risk\"], Heart_counts_pd[\"count\"])\n",
    "plt.xlabel(\"Heart Attack\")\n",
    "plt.ylabel(\"Count\")\n",
    "plt.title(\"Heart Attack Counts\")\n",
    "\n",
    "# Establece las etiquetas en el eje x\n",
    "plt.xticks(rotation=0)  # Puedes ajustar el ángulo de rotación si es necesario\n",
    "\n",
    "# Agrega etiquetas de texto con los números en las barras\n",
    "for i, count in enumerate(Heart_counts_pd[\"count\"]):\n",
    "    plt.text(i, count + 1, str(count), ha=\"center\", va=\"bottom\", fontsize=10)\n",
    "\n",
    "plt.show()"
   ]
  },
  {
   "cell_type": "markdown",
   "id": "2e05ca27",
   "metadata": {},
   "source": [
    "## Revisar valores atipicos\n",
    "\n",
    "\n",
    "En este caso al no poder graficar todos los valores, un metodo que podemos utiliziar para detectar  \"outliers\" es  el test de Tukey [1]. EL cual se basa en los cuartiles uno y tres para de estos valores. Adicionalmnete podriamos con los datos estaditicos anterior podria escoger solo algunas columnas.\n",
    "\n",
    "\n",
    "**Nota**: Para este caso al conocer los datos por el prepocesamiento ya hecho, se decide no filtrar lo.\n",
    "\n"
   ]
  },
  {
   "cell_type": "code",
   "execution_count": 15,
   "id": "8ac17748",
   "metadata": {},
   "outputs": [
    {
     "name": "stdout",
     "output_type": "stream",
     "text": [
      "Total de valores atípicos en 'Age': 0\n",
      "Total de valores atípicos en 'Cholesterol': 0\n",
      "Total de valores atípicos en 'Heart Rate': 0\n",
      "Total de valores atípicos en 'Diabetes': 0\n",
      "Total de valores atípicos en 'Family History': 0\n",
      "Total de valores atípicos en 'Smoking': 904\n",
      "Total de valores atípicos en 'Obesity': 0\n",
      "Total de valores atípicos en 'Alcohol Consumption': 0\n",
      "Total de valores atípicos en 'Exercise Hours Per Week': 0\n",
      "Total de valores atípicos en 'Previous Heart Problems': 0\n",
      "Total de valores atípicos en 'Medication Use': 0\n",
      "Total de valores atípicos en 'Stress Level': 0\n",
      "Total de valores atípicos en 'Sedentary Hours Per Day': 0\n",
      "Total de valores atípicos en 'Income': 0\n",
      "Total de valores atípicos en 'BMI': 0\n",
      "Total de valores atípicos en 'Triglycerides': 0\n",
      "Total de valores atípicos en 'Physical Activity Days Per Week': 0\n",
      "Total de valores atípicos en 'Sleep Hours Per Day': 0\n",
      "Total de valores atípicos en 'systolic': 0\n",
      "Total de valores atípicos en 'diastolic': 0\n",
      "Total de valores atípicos en 'Quality of Life Index': 0\n",
      "Total de valores atípicos en 'Purchasing Power Index': 0\n",
      "Total de valores atípicos en 'Safety Index': 0\n",
      "Total de valores atípicos en 'Health Care Index': 448\n",
      "Total de valores atípicos en 'Cost of Living Index': 0\n",
      "Total de valores atípicos en 'Property Price to Income Ratio': 436\n",
      "Total de valores atípicos en 'Traffic Commute Time Index': 448\n",
      "Total de valores atípicos en 'Pollution Index': 0\n",
      "Total de valores atípicos en 'Climate Index': 0\n"
     ]
    }
   ],
   "source": [
    "excluir=[\"Heart Attack Risk\",'Sex','Diet','Country']\n",
    "columnas_number = [col for col in df_Heart_country.columns if col not in excluir]\n",
    "\n",
    "\n",
    "# Iterar sobre las columnas y contar los valores atípicos\n",
    "for columna_objetivo in columnas_number:\n",
    "    quartiles = df_Heart_country.approxQuantile(columna_objetivo, [0.25, 0.75], 0.05)\n",
    "    Q1 = quartiles[0]\n",
    "    Q3 = quartiles[1]\n",
    "    #print(Q1,Q3)\n",
    "    IQR = Q3 - Q1\n",
    "    lower_bound = Q1 - 1.5 * IQR\n",
    "    upper_bound = Q3 + 1.5 * IQR\n",
    "    outliers_count = df_Heart_country.filter((col(columna_objetivo) < lower_bound) | (col(columna_objetivo) > upper_bound)).count()\n",
    "\n",
    "    # Mostrar el total de valores atípicos\n",
    "    print(f\"Total de valores atípicos en '{columna_objetivo}': {outliers_count}\")\n"
   ]
  },
  {
   "cell_type": "markdown",
   "id": "a8d39faf",
   "metadata": {},
   "source": [
    "## Clases categorias"
   ]
  },
  {
   "cell_type": "code",
   "execution_count": 9,
   "id": "adf534f6",
   "metadata": {
    "scrolled": true
   },
   "outputs": [
    {
     "data": {
      "text/plain": [
       "['Sex', 'Diet', 'Country']"
      ]
     },
     "execution_count": 9,
     "metadata": {},
     "output_type": "execute_result"
    }
   ],
   "source": [
    "string_columns = [f.name for f in df_Heart_country.schema.fields if isinstance(f.dataType, StringType)]\n",
    "string_columns"
   ]
  },
  {
   "cell_type": "markdown",
   "id": "22accc7e",
   "metadata": {},
   "source": [
    "### Categoricas ordinales\n",
    "\n",
    "Pasar las clases categóricas ordinales a números. En este caso, 'Sexo' es binaria, y 'Diet' es ordinal, por lo que podemos numerarlas con facilidad\n",
    "\n",
    "Sex\n",
    "- Male: 0\n",
    "- Female: 1\n",
    "\n",
    "Diet\n",
    "- Unhealthy: 0\n",
    "- Average: 1\n",
    "- Healthy: 2"
   ]
  },
  {
   "cell_type": "code",
   "execution_count": 10,
   "id": "9096dbf0",
   "metadata": {},
   "outputs": [],
   "source": [
    "# Define los diccionarios de mapeo\n",
    "sexo_dict = {\n",
    "    \"Male\": '0',\n",
    "    \"Female\": '1'\n",
    "}\n",
    "\n",
    "diet_dict = {\n",
    "    \"Unhealthy\": '0',\n",
    "    \"Average\": '1',\n",
    "    \"Healthy\": '2'\n",
    "}\n",
    "\n",
    "df_Heart_country = df_Heart_country.replace(sexo_dict,subset=['Sex'])\n",
    "df_Heart_country = df_Heart_country.replace(diet_dict,subset=['Diet'])\n",
    "\n",
    "df_Heart_country = df_Heart_country.withColumn('Sex', col('Sex').cast('float'))\n",
    "df_Heart_country = df_Heart_country.withColumn('Diet', col('Diet').cast('float'))"
   ]
  },
  {
   "cell_type": "markdown",
   "id": "695043d3",
   "metadata": {},
   "source": [
    "### Categoricas nominales \n",
    "Para este caso que seria la columnas \"Country\" aplicaremos un `OneHotEncoder`, para lo cula primero creamos un index numerico de cada clase"
   ]
  },
  {
   "cell_type": "code",
   "execution_count": 11,
   "id": "dab4b7b0",
   "metadata": {},
   "outputs": [
    {
     "data": {
      "text/html": [
       "<div>\n",
       "<style scoped>\n",
       "    .dataframe tbody tr th:only-of-type {\n",
       "        vertical-align: middle;\n",
       "    }\n",
       "\n",
       "    .dataframe tbody tr th {\n",
       "        vertical-align: top;\n",
       "    }\n",
       "\n",
       "    .dataframe thead th {\n",
       "        text-align: right;\n",
       "    }\n",
       "</style>\n",
       "<table border=\"1\" class=\"dataframe\">\n",
       "  <thead>\n",
       "    <tr style=\"text-align: right;\">\n",
       "      <th></th>\n",
       "      <th>Country</th>\n",
       "      <th>count</th>\n",
       "    </tr>\n",
       "  </thead>\n",
       "  <tbody>\n",
       "    <tr>\n",
       "      <th>0</th>\n",
       "      <td>Argentina</td>\n",
       "      <td>471</td>\n",
       "    </tr>\n",
       "    <tr>\n",
       "      <th>1</th>\n",
       "      <td>Australia</td>\n",
       "      <td>449</td>\n",
       "    </tr>\n",
       "    <tr>\n",
       "      <th>2</th>\n",
       "      <td>Brazil</td>\n",
       "      <td>462</td>\n",
       "    </tr>\n",
       "    <tr>\n",
       "      <th>3</th>\n",
       "      <td>Canada</td>\n",
       "      <td>440</td>\n",
       "    </tr>\n",
       "    <tr>\n",
       "      <th>4</th>\n",
       "      <td>China</td>\n",
       "      <td>436</td>\n",
       "    </tr>\n",
       "    <tr>\n",
       "      <th>5</th>\n",
       "      <td>Colombia</td>\n",
       "      <td>429</td>\n",
       "    </tr>\n",
       "    <tr>\n",
       "      <th>6</th>\n",
       "      <td>France</td>\n",
       "      <td>446</td>\n",
       "    </tr>\n",
       "    <tr>\n",
       "      <th>7</th>\n",
       "      <td>Germany</td>\n",
       "      <td>477</td>\n",
       "    </tr>\n",
       "    <tr>\n",
       "      <th>8</th>\n",
       "      <td>India</td>\n",
       "      <td>412</td>\n",
       "    </tr>\n",
       "    <tr>\n",
       "      <th>9</th>\n",
       "      <td>Italy</td>\n",
       "      <td>431</td>\n",
       "    </tr>\n",
       "    <tr>\n",
       "      <th>10</th>\n",
       "      <td>Japan</td>\n",
       "      <td>433</td>\n",
       "    </tr>\n",
       "    <tr>\n",
       "      <th>11</th>\n",
       "      <td>New Zealand</td>\n",
       "      <td>435</td>\n",
       "    </tr>\n",
       "    <tr>\n",
       "      <th>12</th>\n",
       "      <td>Nigeria</td>\n",
       "      <td>448</td>\n",
       "    </tr>\n",
       "    <tr>\n",
       "      <th>13</th>\n",
       "      <td>South Africa</td>\n",
       "      <td>425</td>\n",
       "    </tr>\n",
       "    <tr>\n",
       "      <th>14</th>\n",
       "      <td>South Korea</td>\n",
       "      <td>409</td>\n",
       "    </tr>\n",
       "    <tr>\n",
       "      <th>15</th>\n",
       "      <td>Spain</td>\n",
       "      <td>430</td>\n",
       "    </tr>\n",
       "    <tr>\n",
       "      <th>16</th>\n",
       "      <td>Thailand</td>\n",
       "      <td>428</td>\n",
       "    </tr>\n",
       "    <tr>\n",
       "      <th>17</th>\n",
       "      <td>United Kingdom</td>\n",
       "      <td>457</td>\n",
       "    </tr>\n",
       "    <tr>\n",
       "      <th>18</th>\n",
       "      <td>United States</td>\n",
       "      <td>420</td>\n",
       "    </tr>\n",
       "    <tr>\n",
       "      <th>19</th>\n",
       "      <td>Vietnam</td>\n",
       "      <td>425</td>\n",
       "    </tr>\n",
       "  </tbody>\n",
       "</table>\n",
       "</div>"
      ],
      "text/plain": [
       "           Country  count\n",
       "0        Argentina    471\n",
       "1        Australia    449\n",
       "2           Brazil    462\n",
       "3           Canada    440\n",
       "4            China    436\n",
       "5         Colombia    429\n",
       "6           France    446\n",
       "7          Germany    477\n",
       "8            India    412\n",
       "9            Italy    431\n",
       "10           Japan    433\n",
       "11     New Zealand    435\n",
       "12         Nigeria    448\n",
       "13    South Africa    425\n",
       "14     South Korea    409\n",
       "15           Spain    430\n",
       "16        Thailand    428\n",
       "17  United Kingdom    457\n",
       "18   United States    420\n",
       "19         Vietnam    425"
      ]
     },
     "execution_count": 11,
     "metadata": {},
     "output_type": "execute_result"
    }
   ],
   "source": [
    "Country_counts = df_Heart_country.groupBy(\"Country\").count().orderBy(\"Country\")\n",
    "# Convierte el DataFrame de Spark a un DataFrame de pandas\n",
    "Country_counts_pd = Country_counts.toPandas()\n",
    "Country_counts_pd"
   ]
  },
  {
   "cell_type": "code",
   "execution_count": 12,
   "id": "78689d0c",
   "metadata": {},
   "outputs": [
    {
     "name": "stderr",
     "output_type": "stream",
     "text": [
      "                                                                                \r"
     ]
    },
    {
     "data": {
      "text/plain": [
       "DataFrame[Age: float, Sex: float, Cholesterol: float, Heart Rate: float, Diabetes: float, Family History: float, Smoking: float, Obesity: float, Alcohol Consumption: float, Exercise Hours Per Week: float, Diet: float, Previous Heart Problems: float, Medication Use: float, Stress Level: float, Sedentary Hours Per Day: float, Income: float, BMI: float, Triglycerides: float, Physical Activity Days Per Week: float, Sleep Hours Per Day: float, systolic: float, diastolic: float, Quality of Life Index: float, Purchasing Power Index: float, Safety Index: float, Health Care Index: float, Cost of Living Index: float, Property Price to Income Ratio: float, Traffic Commute Time Index: float, Pollution Index: float, Climate Index: float, Heart Attack Risk: float, Country_encoded: vector]"
      ]
     },
     "execution_count": 12,
     "metadata": {},
     "output_type": "execute_result"
    }
   ],
   "source": [
    "# StringIndexer\n",
    "string_indexer = StringIndexer(inputCol='Country', outputCol='Country_index')\n",
    "indexer_model = string_indexer.fit(df_Heart_country)\n",
    "df_Heart_country = indexer_model.transform(df_Heart_country)\n",
    "\n",
    "\n",
    "# OneHotEncoder\n",
    "encoder = OneHotEncoder(inputCol='Country_index', outputCol='Country_encoded')\n",
    "encoder_model = encoder.fit(df_Heart_country)\n",
    "df_Heart_country = encoder_model.transform(df_Heart_country)\n",
    "df_Heart_country=df_Heart_country.drop('Country','Country_index')\n",
    "df_Heart_country"
   ]
  },
  {
   "cell_type": "markdown",
   "id": "1a935c3c",
   "metadata": {},
   "source": [
    "### Nuevas columnas"
   ]
  },
  {
   "cell_type": "code",
   "execution_count": 13,
   "id": "084c47b9",
   "metadata": {
    "scrolled": true
   },
   "outputs": [
    {
     "name": "stdout",
     "output_type": "stream",
     "text": [
      "+---+----+---------------+\n",
      "|Sex|Diet|Country_encoded|\n",
      "+---+----+---------------+\n",
      "|1.0| 1.0| (19,[8],[1.0])|\n",
      "|1.0| 2.0| (19,[2],[1.0])|\n",
      "|1.0| 1.0| (19,[0],[1.0])|\n",
      "|1.0| 2.0| (19,[0],[1.0])|\n",
      "|1.0| 1.0|(19,[16],[1.0])|\n",
      "|1.0| 0.0| (19,[1],[1.0])|\n",
      "|1.0| 2.0| (19,[5],[1.0])|\n",
      "|1.0| 2.0| (19,[1],[1.0])|\n",
      "|1.0| 1.0| (19,[9],[1.0])|\n",
      "|1.0| 2.0| (19,[6],[1.0])|\n",
      "|1.0| 0.0| (19,[2],[1.0])|\n",
      "|1.0| 0.0| (19,[9],[1.0])|\n",
      "|1.0| 2.0|(19,[16],[1.0])|\n",
      "|1.0| 2.0|(19,[13],[1.0])|\n",
      "|1.0| 0.0|(19,[13],[1.0])|\n",
      "|1.0| 0.0| (19,[0],[1.0])|\n",
      "|1.0| 0.0| (19,[7],[1.0])|\n",
      "|1.0| 2.0| (19,[4],[1.0])|\n",
      "|1.0| 2.0|(19,[14],[1.0])|\n",
      "|1.0| 2.0|(19,[13],[1.0])|\n",
      "|1.0| 1.0|(19,[15],[1.0])|\n",
      "|1.0| 0.0|(19,[10],[1.0])|\n",
      "|1.0| 0.0|(19,[12],[1.0])|\n",
      "|1.0| 1.0|(19,[13],[1.0])|\n",
      "|1.0| 2.0|(19,[18],[1.0])|\n",
      "|1.0| 2.0| (19,[6],[1.0])|\n",
      "|1.0| 1.0|(19,[17],[1.0])|\n",
      "|1.0| 1.0| (19,[6],[1.0])|\n",
      "|1.0| 2.0|     (19,[],[])|\n",
      "|1.0| 2.0|(19,[16],[1.0])|\n",
      "|1.0| 0.0| (19,[1],[1.0])|\n",
      "|1.0| 1.0|(19,[14],[1.0])|\n",
      "|1.0| 2.0|(19,[11],[1.0])|\n",
      "|0.0| 0.0| (19,[0],[1.0])|\n",
      "|0.0| 1.0|(19,[18],[1.0])|\n",
      "|0.0| 2.0|(19,[16],[1.0])|\n",
      "|0.0| 2.0| (19,[0],[1.0])|\n",
      "|0.0| 2.0|(19,[18],[1.0])|\n",
      "|0.0| 0.0| (19,[4],[1.0])|\n",
      "|0.0| 0.0|(19,[12],[1.0])|\n",
      "|0.0| 2.0|(19,[11],[1.0])|\n",
      "|0.0| 1.0| (19,[5],[1.0])|\n",
      "|0.0| 2.0|     (19,[],[])|\n",
      "|0.0| 2.0|(19,[13],[1.0])|\n",
      "|0.0| 0.0| (19,[3],[1.0])|\n",
      "|0.0| 1.0| (19,[2],[1.0])|\n",
      "|0.0| 0.0|(19,[13],[1.0])|\n",
      "|0.0| 1.0|(19,[13],[1.0])|\n",
      "|0.0| 0.0| (19,[7],[1.0])|\n",
      "|0.0| 0.0|(19,[13],[1.0])|\n",
      "+---+----+---------------+\n",
      "only showing top 50 rows\n",
      "\n"
     ]
    }
   ],
   "source": [
    "df_Heart_country.select('Sex','Diet','Country_encoded').show(50)\n",
    "#df_Heart_country=df_Heart_country.drop('Country_encoded')"
   ]
  },
  {
   "cell_type": "markdown",
   "id": "d6b9efc5",
   "metadata": {},
   "source": [
    "## Vectorizamos para utilizar la libreria Mlab"
   ]
  },
  {
   "cell_type": "code",
   "execution_count": 14,
   "id": "c0488cf7",
   "metadata": {
    "scrolled": false
   },
   "outputs": [
    {
     "data": {
      "text/plain": [
       "32"
      ]
     },
     "execution_count": 14,
     "metadata": {},
     "output_type": "execute_result"
    }
   ],
   "source": [
    "features = [c for c in df_Heart_country.columns if c != \"Heart Attack Risk\"]\n",
    "len(features)"
   ]
  },
  {
   "cell_type": "code",
   "execution_count": 15,
   "id": "68c7a177",
   "metadata": {
    "scrolled": false
   },
   "outputs": [
    {
     "name": "stdout",
     "output_type": "stream",
     "text": [
      "+--------------------+-----------------+\n",
      "|            features|Heart Attack Risk|\n",
      "+--------------------+-----------------+\n",
      "|(50,[0,1,2,3,5,7,...|              0.0|\n",
      "|(50,[0,1,2,3,4,5,...|              0.0|\n",
      "|(50,[0,1,2,3,4,8,...|              0.0|\n",
      "|(50,[0,1,2,3,4,5,...|              0.0|\n",
      "|(50,[0,1,2,3,4,7,...|              0.0|\n",
      "|(50,[0,1,2,3,4,5,...|              0.0|\n",
      "|(50,[0,1,2,3,8,9,...|              0.0|\n",
      "|(50,[0,1,2,3,7,8,...|              0.0|\n",
      "|(50,[0,1,2,3,4,8,...|              0.0|\n",
      "|(50,[0,1,2,3,4,5,...|              0.0|\n",
      "|(50,[0,1,2,3,4,5,...|              1.0|\n",
      "|(50,[0,1,2,3,9,11...|              1.0|\n",
      "|(50,[0,1,2,3,4,9,...|              0.0|\n",
      "|(50,[0,1,2,3,8,9,...|              1.0|\n",
      "|(50,[0,1,2,3,5,7,...|              0.0|\n",
      "|(50,[0,1,2,3,5,7,...|              0.0|\n",
      "|(50,[0,1,2,3,5,7,...|              0.0|\n",
      "|(50,[0,1,2,3,5,7,...|              0.0|\n",
      "|(50,[0,1,2,3,5,8,...|              0.0|\n",
      "|(50,[0,1,2,3,5,7,...|              0.0|\n",
      "+--------------------+-----------------+\n",
      "only showing top 20 rows\n",
      "\n"
     ]
    }
   ],
   "source": [
    "assembler = VectorAssembler(\n",
    "    inputCols=features,\n",
    "    outputCol='features')\n",
    "\n",
    "vector_df = assembler.transform(df_Heart_country)\n",
    "vector_df = vector_df.select(['features','Heart Attack Risk'])\n",
    "vector_df.show()"
   ]
  },
  {
   "cell_type": "markdown",
   "id": "60d598a4",
   "metadata": {},
   "source": [
    "## Correlacion de los datos"
   ]
  },
  {
   "cell_type": "code",
   "execution_count": 16,
   "id": "e97fa336",
   "metadata": {},
   "outputs": [
    {
     "name": "stderr",
     "output_type": "stream",
     "text": [
      "23/10/19 20:34:35 WARN InstanceBuilder: Failed to load implementation from:dev.ludovic.netlib.blas.JNIBLAS\n",
      "                                                                                \r"
     ]
    },
    {
     "data": {
      "image/png": "[encoded data removed]",
      "text/plain": [
       "<Figure size 1200x800 with 2 Axes>"
      ]
     },
     "metadata": {},
     "output_type": "display_data"
    }
   ],
   "source": [
    "columnas = len(vector_df.select(\"features\").first()[0])\n",
    "# Calcular la matriz de correlación\n",
    "correlation_matrix = Correlation.corr(vector_df, \"features\").head()\n",
    "\n",
    "# Obtener la matriz de correlación en formato de matriz NumPy\n",
    "correlation_array = correlation_matrix[0].toArray()\n",
    "\n",
    "# Crear un gráfico de correlación utilizando Matplotlib\n",
    "plt.figure(figsize=(12, 8))\n",
    "plt.imshow(correlation_matrix[0].toArray(), cmap='coolwarm', interpolation='nearest')\n",
    "plt.colorbar()\n",
    "plt.title(\"Matriz de Correlación\")\n",
    "plt.xticks(range(columnas), range(1, columnas + 1), rotation=0)\n",
    "plt.yticks(range(columnas), range(1, columnas + 1))\n",
    "plt.show()"
   ]
  },
  {
   "cell_type": "markdown",
   "id": "4ad2df6e",
   "metadata": {},
   "source": [
    "Parece ser que los datos presentan poca correlación entre si,  ya que solo los datos sobre el pais de la persona muestra más variedad entre los colores."
   ]
  },
  {
   "cell_type": "markdown",
   "id": "d8d4946a",
   "metadata": {},
   "source": [
    "## Escalar los datos\n",
    "Escalamos los datos usando RobustScaler ya que como vimos anteriormente hay varios datos atipicos, y este metodo se caracteriza por no verse afectado tanto por ellos"
   ]
  },
  {
   "cell_type": "code",
   "execution_count": 17,
   "id": "46454eb3",
   "metadata": {},
   "outputs": [
    {
     "name": "stderr",
     "output_type": "stream",
     "text": [
      "                                                                                \r"
     ]
    },
    {
     "name": "stdout",
     "output_type": "stream",
     "text": [
      "+--------------------+-----------------+\n",
      "|     scaled_features|Heart Attack Risk|\n",
      "+--------------------+-----------------+\n",
      "|(50,[0,1,2,3,5,7,...|              0.0|\n",
      "|(50,[0,1,2,3,4,5,...|              0.0|\n",
      "|(50,[0,1,2,3,4,8,...|              0.0|\n",
      "|(50,[0,1,2,3,4,5,...|              0.0|\n",
      "|(50,[0,1,2,3,4,7,...|              0.0|\n",
      "|(50,[0,1,2,3,4,5,...|              0.0|\n",
      "|(50,[0,1,2,3,8,9,...|              0.0|\n",
      "|(50,[0,1,2,3,7,8,...|              0.0|\n",
      "|(50,[0,1,2,3,4,8,...|              0.0|\n",
      "|(50,[0,1,2,3,4,5,...|              0.0|\n",
      "|(50,[0,1,2,3,4,5,...|              1.0|\n",
      "|(50,[0,1,2,3,9,11...|              1.0|\n",
      "|(50,[0,1,2,3,4,9,...|              0.0|\n",
      "|(50,[0,1,2,3,8,9,...|              1.0|\n",
      "|(50,[0,1,2,3,5,7,...|              0.0|\n",
      "|(50,[0,1,2,3,5,7,...|              0.0|\n",
      "|(50,[0,1,2,3,5,7,...|              0.0|\n",
      "|(50,[0,1,2,3,5,7,...|              0.0|\n",
      "|(50,[0,1,2,3,5,8,...|              0.0|\n",
      "|(50,[0,1,2,3,5,7,...|              0.0|\n",
      "+--------------------+-----------------+\n",
      "only showing top 20 rows\n",
      "\n"
     ]
    }
   ],
   "source": [
    "# Crea el objeto StandardScaler\n",
    "scaler  = StandardScaler(inputCol=\"features\", outputCol=\"scaled_features\")\n",
    "\n",
    "# Ajusta el modelo de escala a tus datos\n",
    "scalerModel  = scaler .fit(vector_df)\n",
    "# Transforma los datos para obtener las características escaladas en \"scaled_features\"\n",
    "scaled_df = scalerModel.transform(vector_df)\n",
    "scaled_df=scaled_df.select('scaled_features','Heart Attack Risk')\n",
    "scaled_df.show()"
   ]
  },
  {
   "cell_type": "markdown",
   "id": "4521ce78",
   "metadata": {},
   "source": [
    "## Analisis de componentes principales"
   ]
  },
  {
   "cell_type": "markdown",
   "id": "b933af9e",
   "metadata": {},
   "source": [
    "### PCA"
   ]
  },
  {
   "cell_type": "code",
   "execution_count": 18,
   "id": "67d1b8a9",
   "metadata": {},
   "outputs": [
    {
     "name": "stderr",
     "output_type": "stream",
     "text": [
      "23/10/19 20:34:42 WARN InstanceBuilder: Failed to load implementation from:dev.ludovic.netlib.lapack.JNILAPACK\n"
     ]
    },
    {
     "name": "stdout",
     "output_type": "stream",
     "text": [
      "Variance explained for k=20: 0.6166566961933189\n"
     ]
    },
    {
     "name": "stderr",
     "output_type": "stream",
     "text": [
      "                                                                                \r"
     ]
    },
    {
     "name": "stdout",
     "output_type": "stream",
     "text": [
      "Variance explained for k=30: 0.818339692730853\n",
      "Variance explained for k=35: 0.9141052215762642\n"
     ]
    },
    {
     "name": "stderr",
     "output_type": "stream",
     "text": [
      "                                                                                \r"
     ]
    },
    {
     "name": "stdout",
     "output_type": "stream",
     "text": [
      "Variance explained for k=36: 0.9328841704126354\n"
     ]
    },
    {
     "name": "stderr",
     "output_type": "stream",
     "text": [
      "                                                                                \r"
     ]
    },
    {
     "name": "stdout",
     "output_type": "stream",
     "text": [
      "Variance explained for k=37: 0.9514247324966159\n"
     ]
    },
    {
     "name": "stderr",
     "output_type": "stream",
     "text": [
      "                                                                                \r"
     ]
    },
    {
     "name": "stdout",
     "output_type": "stream",
     "text": [
      "Variance explained for k=38: 0.9697471412515759\n",
      "Variance explained for k=40: 0.9950493022686558\n"
     ]
    },
    {
     "name": "stderr",
     "output_type": "stream",
     "text": [
      "                                                                                \r"
     ]
    },
    {
     "name": "stdout",
     "output_type": "stream",
     "text": [
      "Variance explained for k=45: 0.9999999999999982\n",
      "Variance explained for k=50: 1.0\n",
      "Selected k based on 0.95 explained variance: 37\n"
     ]
    }
   ],
   "source": [
    "explained_variance = []\n",
    "k_values = [20,30,35,36,37,38,40,45,50]  # Valores de k que deseas probar\n",
    "#k_values = [15,20,25,31]\n",
    "for k in k_values:\n",
    "    pca = PCA(k=k, inputCol=\"scaled_features\", outputCol=\"pca_features\")\n",
    "    model = pca.fit(scaled_df)\n",
    "    \n",
    "    # Calcula la varianza explicada acumulada\n",
    "    variance_explained = sum(model.explainedVariance)\n",
    "    explained_variance.append(variance_explained)\n",
    "    print(f\"Variance explained for k={k}: {variance_explained}\")\n",
    "\n",
    "# Encuentra el valor de k que cumple tus criterios\n",
    "desired_explained_variance = 0.95  # Puedes ajustar este valor según tus necesidades\n",
    "selected_k = None\n",
    "\n",
    "for i, variance in enumerate(explained_variance):\n",
    "    if variance >= desired_explained_variance:\n",
    "        selected_k = k_values[i]\n",
    "        break\n",
    "\n",
    "print(f\"Selected k based on {desired_explained_variance} explained variance: {selected_k}\")"
   ]
  },
  {
   "cell_type": "code",
   "execution_count": 19,
   "id": "4e4835e6",
   "metadata": {},
   "outputs": [
    {
     "name": "stdout",
     "output_type": "stream",
     "text": [
      "+--------------------+-----------------+\n",
      "|     scaled_features|Heart Attack Risk|\n",
      "+--------------------+-----------------+\n",
      "|[-2.1945656383644...|              0.0|\n",
      "|[-2.2780465540914...|              0.0|\n",
      "|[-7.0219682313651...|              0.0|\n",
      "|[-6.9972452564372...|              0.0|\n",
      "|[-1.5390967539018...|              0.0|\n",
      "|[-2.3753971579114...|              0.0|\n",
      "|[1.91019099045477...|              0.0|\n",
      "|[-2.3520053242472...|              0.0|\n",
      "|[-6.8292867349959...|              0.0|\n",
      "|[-6.1236478493641...|              0.0|\n",
      "|[-2.2556977407360...|              1.0|\n",
      "|[-6.8079734827750...|              1.0|\n",
      "|[-1.5724712768823...|              0.0|\n",
      "|[-1.6586141167093...|              1.0|\n",
      "|[-1.6150578828565...|              0.0|\n",
      "|[-7.0153738359350...|              0.0|\n",
      "|[-5.8776369774358...|              0.0|\n",
      "|[-6.4848425790950...|              0.0|\n",
      "|[-2.2892481767387...|              0.0|\n",
      "|[-1.6570062838237...|              0.0|\n",
      "+--------------------+-----------------+\n",
      "only showing top 20 rows\n",
      "\n"
     ]
    }
   ],
   "source": [
    "pca = PCA(k=selected_k, inputCol=\"scaled_features\", outputCol=\"pca_features\")\n",
    "model = pca.fit(scaled_df)\n",
    "data_with_pca = model.transform(scaled_df)\n",
    "data_with_pca=data_with_pca.select('pca_features','Heart Attack Risk')\n",
    "data_with_pca=data_with_pca.withColumnRenamed(\"pca_features\",\"scaled_features\")\n",
    "data_with_pca.show()"
   ]
  },
  {
   "cell_type": "markdown",
   "id": "77511116",
   "metadata": {},
   "source": [
    "## Separar los datos de entrenamiento y Test"
   ]
  },
  {
   "cell_type": "code",
   "execution_count": 20,
   "id": "71a79699",
   "metadata": {},
   "outputs": [],
   "source": [
    "# Divide los datos en conjuntos de entrenamiento (80%) y prueba (20%)\n",
    "train_ratio = 0.8\n",
    "test_ratio = 0.2\n",
    "seed = 42  # Seed para reproducibilidad\n",
    "\n",
    "### Con PCA\n",
    "#train_data, test_data = data_with_pca.randomSplit([train_ratio, test_ratio], seed=seed)\n",
    "\n",
    "### Sin PCA\n",
    "#train_data, test_data = data_with_pca.randomSplit([train_ratio, test_ratio], seed=seed)\n",
    "train_data, test_data = scaled_df.randomSplit([train_ratio, test_ratio], seed=seed)"
   ]
  },
  {
   "cell_type": "markdown",
   "id": "bd0e3806",
   "metadata": {},
   "source": [
    "### Aplicar Oversampling OR  Undersampling"
   ]
  },
  {
   "cell_type": "code",
   "execution_count": 24,
   "id": "1e270a77",
   "metadata": {},
   "outputs": [
    {
     "name": "stderr",
     "output_type": "stream",
     "text": [
      "                                                                                \r"
     ]
    },
    {
     "data": {
      "text/plain": [
       "7078"
      ]
     },
     "execution_count": 24,
     "metadata": {},
     "output_type": "execute_result"
    }
   ],
   "source": [
    "train_data.count()"
   ]
  },
  {
   "cell_type": "code",
   "execution_count": 25,
   "id": "965a1087",
   "metadata": {
    "scrolled": true
   },
   "outputs": [
    {
     "name": "stderr",
     "output_type": "stream",
     "text": [
      "                                                                                \r"
     ]
    },
    {
     "name": "stdout",
     "output_type": "stream",
     "text": [
      "diff: 1948\n",
      "4513\n",
      "2565\n"
     ]
    }
   ],
   "source": [
    "major_df = train_data.filter(col(\"Heart Attack Risk\") == 0)\n",
    "minor_df = train_data.filter(col(\"Heart Attack Risk\") == 1)\n",
    "n = major_df.count()-minor_df.count()\n",
    "\n",
    "print(f\"diff: {n}\")\n",
    "print(major_df.count())\n",
    "print(minor_df.count())"
   ]
  },
  {
   "cell_type": "markdown",
   "id": "0eeb966a",
   "metadata": {},
   "source": [
    "**Oversampling**"
   ]
  },
  {
   "cell_type": "code",
   "execution_count": 26,
   "id": "1a3d750c",
   "metadata": {},
   "outputs": [
    {
     "name": "stderr",
     "output_type": "stream",
     "text": [
      "                                                                                \r"
     ]
    },
    {
     "data": {
      "text/plain": [
       "1948"
      ]
     },
     "execution_count": 26,
     "metadata": {},
     "output_type": "execute_result"
    }
   ],
   "source": [
    "sample=minor_df.sample(fraction=1.0,seed=42).limit(n)\n",
    "sample.count()"
   ]
  },
  {
   "cell_type": "code",
   "execution_count": 27,
   "id": "de0da667",
   "metadata": {},
   "outputs": [
    {
     "name": "stderr",
     "output_type": "stream",
     "text": [
      "[Stage 113:============================>                            (1 + 1) / 2]\r"
     ]
    },
    {
     "data": {
      "text/plain": [
       "9026"
      ]
     },
     "execution_count": 27,
     "metadata": {},
     "output_type": "execute_result"
    },
    {
     "name": "stderr",
     "output_type": "stream",
     "text": [
      "                                                                                \r"
     ]
    }
   ],
   "source": [
    "train_data_oversampling= train_data.unionAll(sample)\n",
    "train_data_oversampling.count()"
   ]
  },
  {
   "cell_type": "markdown",
   "id": "9587882a",
   "metadata": {},
   "source": [
    "**Undersampling**"
   ]
  },
  {
   "cell_type": "code",
   "execution_count": 28,
   "id": "04fc605d",
   "metadata": {
    "scrolled": true
   },
   "outputs": [
    {
     "name": "stderr",
     "output_type": "stream",
     "text": [
      "                                                                                \r"
     ]
    },
    {
     "data": {
      "text/plain": [
       "2565"
      ]
     },
     "execution_count": 28,
     "metadata": {},
     "output_type": "execute_result"
    }
   ],
   "source": [
    "sample=major_df.sample(fraction=1.0,seed=42).limit(minor_df.count())\n",
    "sample.count()"
   ]
  },
  {
   "cell_type": "code",
   "execution_count": 29,
   "id": "be0680c2",
   "metadata": {},
   "outputs": [
    {
     "name": "stderr",
     "output_type": "stream",
     "text": [
      "                                                                                \r"
     ]
    },
    {
     "data": {
      "text/plain": [
       "5130"
      ]
     },
     "execution_count": 29,
     "metadata": {},
     "output_type": "execute_result"
    }
   ],
   "source": [
    "train_data_Undersampling= sample.unionAll(minor_df)\n",
    "train_data_Undersampling.count()"
   ]
  },
  {
   "cell_type": "markdown",
   "id": "11f632b4",
   "metadata": {},
   "source": [
    "## Entrenar el Modelo RandomForestClassifier"
   ]
  },
  {
   "cell_type": "code",
   "execution_count": 30,
   "id": "2fb6fbda",
   "metadata": {},
   "outputs": [],
   "source": [
    "# Clasificador RandomForest\n",
    "rf = RandomForestClassifier(labelCol=\"Heart Attack Risk\", featuresCol=\"scaled_features\")\n",
    "\n",
    "# Evaluador para las métricas de evaluación (precisión, recall, F1)\n",
    "evaluator = MulticlassClassificationEvaluator(labelCol=\"Heart Attack Risk\", predictionCol=\"prediction\", metricName=\"accuracy\")\n",
    "\n",
    "# Grilla de parámetros para búsqueda de hiperparámetros (opcional)\n",
    "paramGrid = ParamGridBuilder() \\\n",
    "    .addGrid(rf.numTrees, [10, 50, 100]) \\\n",
    "    .addGrid(rf.maxDepth, [4, 5, 10, 20]) \\\n",
    "    .addGrid(rf.seed, [42]) \\\n",
    "    .build()"
   ]
  },
  {
   "cell_type": "code",
   "execution_count": 31,
   "id": "0f1d1d63",
   "metadata": {},
   "outputs": [],
   "source": [
    "# Crea el pipeline\n",
    "pipeline = Pipeline(stages=[rf])\n",
    "\n",
    "# Configura K-fold Cross Validation\n",
    "crossval = CrossValidator(estimator=pipeline,\n",
    "                          estimatorParamMaps=paramGrid,\n",
    "                          evaluator=evaluator,\n",
    "                          numFolds=5,\n",
    "                          seed=42)"
   ]
  },
  {
   "cell_type": "code",
   "execution_count": 32,
   "id": "b2d391ab",
   "metadata": {
    "scrolled": true
   },
   "outputs": [
    {
     "name": "stderr",
     "output_type": "stream",
     "text": [
      "23/10/19 20:35:45 WARN DAGScheduler: Broadcasting large task binary with size 1210.5 KiB\n",
      "23/10/19 20:35:45 WARN DAGScheduler: Broadcasting large task binary with size 1487.0 KiB\n",
      "23/10/19 20:35:46 WARN DAGScheduler: Broadcasting large task binary with size 1765.0 KiB\n",
      "23/10/19 20:35:46 WARN DAGScheduler: Broadcasting large task binary with size 2027.0 KiB\n",
      "23/10/19 20:35:47 WARN DAGScheduler: Broadcasting large task binary with size 2.2 MiB\n",
      "23/10/19 20:35:48 WARN DAGScheduler: Broadcasting large task binary with size 2.4 MiB\n",
      "23/10/19 20:35:48 WARN DAGScheduler: Broadcasting large task binary with size 2.5 MiB\n",
      "23/10/19 20:35:49 WARN DAGScheduler: Broadcasting large task binary with size 2.7 MiB\n",
      "23/10/19 20:35:49 WARN DAGScheduler: Broadcasting large task binary with size 2.7 MiB\n",
      "23/10/19 20:35:50 WARN DAGScheduler: Broadcasting large task binary with size 1770.3 KiB\n",
      "23/10/19 20:35:58 WARN DAGScheduler: Broadcasting large task binary with size 1360.0 KiB\n",
      "23/10/19 20:35:59 WARN DAGScheduler: Broadcasting large task binary with size 2024.3 KiB\n",
      "23/10/19 20:36:01 WARN DAGScheduler: Broadcasting large task binary with size 2.8 MiB\n",
      "23/10/19 20:36:02 WARN DAGScheduler: Broadcasting large task binary with size 2.0 MiB\n",
      "23/10/19 20:36:06 WARN DAGScheduler: Broadcasting large task binary with size 1360.0 KiB\n",
      "23/10/19 20:36:06 WARN DAGScheduler: Broadcasting large task binary with size 2024.3 KiB\n",
      "23/10/19 20:36:08 WARN DAGScheduler: Broadcasting large task binary with size 2.8 MiB\n",
      "23/10/19 20:36:09 WARN DAGScheduler: Broadcasting large task binary with size 3.9 MiB\n",
      "23/10/19 20:36:11 WARN DAGScheduler: Broadcasting large task binary with size 5.0 MiB\n",
      "23/10/19 20:36:13 WARN DAGScheduler: Broadcasting large task binary with size 6.3 MiB\n",
      "23/10/19 20:36:15 WARN DAGScheduler: Broadcasting large task binary with size 7.5 MiB\n",
      "23/10/19 20:36:17 WARN DAGScheduler: Broadcasting large task binary with size 8.7 MiB\n",
      "23/10/19 20:36:19 WARN DAGScheduler: Broadcasting large task binary with size 9.8 MiB\n",
      "23/10/19 20:36:22 WARN DAGScheduler: Broadcasting large task binary with size 10.7 MiB\n",
      "23/10/19 20:36:24 WARN DAGScheduler: Broadcasting large task binary with size 11.5 MiB\n",
      "23/10/19 20:36:26 WARN DAGScheduler: Broadcasting large task binary with size 12.1 MiB\n",
      "23/10/19 20:36:29 WARN DAGScheduler: Broadcasting large task binary with size 12.5 MiB\n",
      "23/10/19 20:36:31 WARN DAGScheduler: Broadcasting large task binary with size 7.7 MiB\n",
      "23/10/19 20:36:41 WARN DAGScheduler: Broadcasting large task binary with size 1593.3 KiB\n",
      "23/10/19 20:36:42 WARN DAGScheduler: Broadcasting large task binary with size 2.5 MiB\n",
      "23/10/19 20:36:44 WARN DAGScheduler: Broadcasting large task binary with size 3.8 MiB\n",
      "23/10/19 20:36:47 WARN DAGScheduler: Broadcasting large task binary with size 5.4 MiB\n",
      "23/10/19 20:36:51 WARN DAGScheduler: Broadcasting large task binary with size 3.9 MiB\n",
      "23/10/19 20:36:55 WARN DAGScheduler: Broadcasting large task binary with size 1593.3 KiB\n",
      "23/10/19 20:36:57 WARN DAGScheduler: Broadcasting large task binary with size 2.5 MiB\n",
      "23/10/19 20:37:00 WARN DAGScheduler: Broadcasting large task binary with size 3.8 MiB\n",
      "23/10/19 20:37:03 WARN DAGScheduler: Broadcasting large task binary with size 5.4 MiB\n",
      "23/10/19 20:37:06 WARN DAGScheduler: Broadcasting large task binary with size 7.5 MiB\n",
      "23/10/19 20:37:10 WARN DAGScheduler: Broadcasting large task binary with size 9.8 MiB\n",
      "23/10/19 20:37:12 WARN DAGScheduler: Broadcasting large task binary with size 1005.9 KiB\n",
      "23/10/19 20:37:14 WARN DAGScheduler: Broadcasting large task binary with size 12.3 MiB\n",
      "23/10/19 20:37:16 WARN DAGScheduler: Broadcasting large task binary with size 1036.7 KiB\n",
      "23/10/19 20:37:21 WARN DAGScheduler: Broadcasting large task binary with size 14.9 MiB\n",
      "23/10/19 20:37:28 WARN DAGScheduler: Broadcasting large task binary with size 17.3 MiB\n",
      "23/10/19 20:37:33 WARN DAGScheduler: Broadcasting large task binary with size 19.4 MiB\n",
      "23/10/19 20:37:38 WARN DAGScheduler: Broadcasting large task binary with size 21.3 MiB\n",
      "23/10/19 20:37:43 WARN DAGScheduler: Broadcasting large task binary with size 22.8 MiB\n",
      "23/10/19 20:37:47 WARN DAGScheduler: Broadcasting large task binary with size 24.0 MiB\n",
      "23/10/19 20:37:53 WARN DAGScheduler: Broadcasting large task binary with size 24.9 MiB\n",
      "23/10/19 20:37:59 WARN DAGScheduler: Broadcasting large task binary with size 15.1 MiB\n",
      "23/10/19 20:38:14 WARN DAGScheduler: Broadcasting large task binary with size 1085.0 KiB\n",
      "23/10/19 20:38:14 WARN DAGScheduler: Broadcasting large task binary with size 1312.9 KiB\n",
      "23/10/19 20:38:15 WARN DAGScheduler: Broadcasting large task binary with size 1549.8 KiB\n",
      "23/10/19 20:38:15 WARN DAGScheduler: Broadcasting large task binary with size 1787.4 KiB\n",
      "23/10/19 20:38:16 WARN DAGScheduler: Broadcasting large task binary with size 2012.8 KiB\n",
      "23/10/19 20:38:16 WARN DAGScheduler: Broadcasting large task binary with size 2.2 MiB\n",
      "23/10/19 20:38:17 WARN DAGScheduler: Broadcasting large task binary with size 2.3 MiB\n",
      "23/10/19 20:38:17 WARN DAGScheduler: Broadcasting large task binary with size 2.5 MiB\n",
      "23/10/19 20:38:18 WARN DAGScheduler: Broadcasting large task binary with size 2.6 MiB\n",
      "23/10/19 20:38:19 WARN DAGScheduler: Broadcasting large task binary with size 1705.9 KiB\n",
      "23/10/19 20:38:27 WARN DAGScheduler: Broadcasting large task binary with size 1399.3 KiB\n",
      "23/10/19 20:38:28 WARN DAGScheduler: Broadcasting large task binary with size 2.0 MiB\n",
      "23/10/19 20:38:29 WARN DAGScheduler: Broadcasting large task binary with size 2.9 MiB\n",
      "23/10/19 20:38:31 WARN DAGScheduler: Broadcasting large task binary with size 2.1 MiB\n",
      "23/10/19 20:38:34 WARN DAGScheduler: Broadcasting large task binary with size 1399.3 KiB\n",
      "23/10/19 20:38:35 WARN DAGScheduler: Broadcasting large task binary with size 2.0 MiB\n",
      "23/10/19 20:38:36 WARN DAGScheduler: Broadcasting large task binary with size 2.9 MiB\n",
      "23/10/19 20:38:38 WARN DAGScheduler: Broadcasting large task binary with size 4.0 MiB\n",
      "23/10/19 20:38:41 WARN DAGScheduler: Broadcasting large task binary with size 5.2 MiB\n",
      "23/10/19 20:38:43 WARN DAGScheduler: Broadcasting large task binary with size 6.4 MiB\n",
      "23/10/19 20:38:45 WARN DAGScheduler: Broadcasting large task binary with size 7.7 MiB\n",
      "23/10/19 20:38:47 WARN DAGScheduler: Broadcasting large task binary with size 8.9 MiB\n",
      "23/10/19 20:38:50 WARN DAGScheduler: Broadcasting large task binary with size 9.9 MiB\n",
      "23/10/19 20:38:52 WARN DAGScheduler: Broadcasting large task binary with size 10.9 MiB\n",
      "23/10/19 20:38:55 WARN DAGScheduler: Broadcasting large task binary with size 11.7 MiB\n",
      "23/10/19 20:38:57 WARN DAGScheduler: Broadcasting large task binary with size 12.3 MiB\n",
      "23/10/19 20:39:00 WARN DAGScheduler: Broadcasting large task binary with size 12.7 MiB\n",
      "23/10/19 20:39:03 WARN DAGScheduler: Broadcasting large task binary with size 7.8 MiB\n",
      "23/10/19 20:39:15 WARN DAGScheduler: Broadcasting large task binary with size 1002.6 KiB\n",
      "23/10/19 20:39:17 WARN DAGScheduler: Broadcasting large task binary with size 1645.6 KiB\n",
      "23/10/19 20:39:18 WARN DAGScheduler: Broadcasting large task binary with size 2.6 MiB\n",
      "23/10/19 20:39:20 WARN DAGScheduler: Broadcasting large task binary with size 3.9 MiB\n",
      "23/10/19 20:39:23 WARN DAGScheduler: Broadcasting large task binary with size 5.6 MiB\n",
      "23/10/19 20:39:26 WARN DAGScheduler: Broadcasting large task binary with size 4.0 MiB\n",
      "23/10/19 20:39:30 WARN DAGScheduler: Broadcasting large task binary with size 1002.6 KiB\n",
      "23/10/19 20:39:31 WARN DAGScheduler: Broadcasting large task binary with size 1645.6 KiB\n",
      "23/10/19 20:39:33 WARN DAGScheduler: Broadcasting large task binary with size 2.6 MiB\n",
      "23/10/19 20:39:35 WARN DAGScheduler: Broadcasting large task binary with size 3.9 MiB\n",
      "23/10/19 20:39:37 WARN DAGScheduler: Broadcasting large task binary with size 5.6 MiB\n",
      "23/10/19 20:39:41 WARN DAGScheduler: Broadcasting large task binary with size 7.7 MiB\n",
      "23/10/19 20:39:44 WARN DAGScheduler: Broadcasting large task binary with size 10.1 MiB\n",
      "23/10/19 20:39:45 WARN DAGScheduler: Broadcasting large task binary with size 1022.4 KiB\n",
      "23/10/19 20:39:48 WARN DAGScheduler: Broadcasting large task binary with size 12.7 MiB\n",
      "23/10/19 20:39:49 WARN DAGScheduler: Broadcasting large task binary with size 1043.5 KiB\n",
      "23/10/19 20:39:52 WARN DAGScheduler: Broadcasting large task binary with size 15.2 MiB\n",
      "23/10/19 20:39:54 WARN DAGScheduler: Broadcasting large task binary with size 1010.8 KiB\n",
      "23/10/19 20:39:56 WARN DAGScheduler: Broadcasting large task binary with size 17.7 MiB\n",
      "23/10/19 20:40:02 WARN DAGScheduler: Broadcasting large task binary with size 19.9 MiB\n",
      "23/10/19 20:40:07 WARN DAGScheduler: Broadcasting large task binary with size 21.7 MiB\n",
      "23/10/19 20:40:13 WARN DAGScheduler: Broadcasting large task binary with size 23.3 MiB\n",
      "23/10/19 20:40:18 WARN DAGScheduler: Broadcasting large task binary with size 24.4 MiB\n",
      "23/10/19 20:40:23 WARN DAGScheduler: Broadcasting large task binary with size 25.2 MiB\n",
      "23/10/19 20:40:29 WARN DAGScheduler: Broadcasting large task binary with size 15.3 MiB\n",
      "23/10/19 20:40:39 WARN DAGScheduler: Broadcasting large task binary with size 1161.8 KiB\n",
      "23/10/19 20:40:39 WARN DAGScheduler: Broadcasting large task binary with size 1424.7 KiB\n",
      "23/10/19 20:40:40 WARN DAGScheduler: Broadcasting large task binary with size 1689.8 KiB\n",
      "23/10/19 20:40:40 WARN DAGScheduler: Broadcasting large task binary with size 1939.6 KiB\n",
      "23/10/19 20:40:41 WARN DAGScheduler: Broadcasting large task binary with size 2.1 MiB\n",
      "23/10/19 20:40:41 WARN DAGScheduler: Broadcasting large task binary with size 2.3 MiB\n",
      "23/10/19 20:40:41 WARN DAGScheduler: Broadcasting large task binary with size 2.5 MiB\n",
      "23/10/19 20:40:42 WARN DAGScheduler: Broadcasting large task binary with size 2.6 MiB\n",
      "23/10/19 20:40:42 WARN DAGScheduler: Broadcasting large task binary with size 2.7 MiB\n",
      "23/10/19 20:40:43 WARN DAGScheduler: Broadcasting large task binary with size 1742.4 KiB\n",
      "23/10/19 20:40:52 WARN DAGScheduler: Broadcasting large task binary with size 1408.6 KiB\n",
      "23/10/19 20:40:53 WARN DAGScheduler: Broadcasting large task binary with size 2.0 MiB\n",
      "23/10/19 20:40:54 WARN DAGScheduler: Broadcasting large task binary with size 2.9 MiB\n",
      "23/10/19 20:40:56 WARN DAGScheduler: Broadcasting large task binary with size 2.1 MiB\n",
      "23/10/19 20:40:59 WARN DAGScheduler: Broadcasting large task binary with size 1408.6 KiB\n",
      "23/10/19 20:41:00 WARN DAGScheduler: Broadcasting large task binary with size 2.0 MiB\n",
      "23/10/19 20:41:01 WARN DAGScheduler: Broadcasting large task binary with size 2.9 MiB\n",
      "23/10/19 20:41:02 WARN DAGScheduler: Broadcasting large task binary with size 4.0 MiB\n",
      "23/10/19 20:41:04 WARN DAGScheduler: Broadcasting large task binary with size 5.2 MiB\n",
      "23/10/19 20:41:05 WARN DAGScheduler: Broadcasting large task binary with size 6.4 MiB\n",
      "23/10/19 20:41:07 WARN DAGScheduler: Broadcasting large task binary with size 7.7 MiB\n",
      "23/10/19 20:41:09 WARN DAGScheduler: Broadcasting large task binary with size 8.9 MiB\n",
      "23/10/19 20:41:12 WARN DAGScheduler: Broadcasting large task binary with size 10.0 MiB\n",
      "23/10/19 20:41:14 WARN DAGScheduler: Broadcasting large task binary with size 10.9 MiB\n",
      "23/10/19 20:41:17 WARN DAGScheduler: Broadcasting large task binary with size 11.7 MiB\n",
      "23/10/19 20:41:19 WARN DAGScheduler: Broadcasting large task binary with size 12.2 MiB\n",
      "23/10/19 20:41:21 WARN DAGScheduler: Broadcasting large task binary with size 12.6 MiB\n",
      "23/10/19 20:41:24 WARN DAGScheduler: Broadcasting large task binary with size 7.7 MiB\n",
      "23/10/19 20:41:34 WARN DAGScheduler: Broadcasting large task binary with size 1608.8 KiB\n",
      "23/10/19 20:41:35 WARN DAGScheduler: Broadcasting large task binary with size 2.5 MiB\n",
      "23/10/19 20:41:38 WARN DAGScheduler: Broadcasting large task binary with size 3.9 MiB\n",
      "23/10/19 20:41:41 WARN DAGScheduler: Broadcasting large task binary with size 5.6 MiB\n",
      "23/10/19 20:41:44 WARN DAGScheduler: Broadcasting large task binary with size 4.0 MiB\n",
      "23/10/19 20:41:48 WARN DAGScheduler: Broadcasting large task binary with size 1608.8 KiB\n",
      "23/10/19 20:41:49 WARN DAGScheduler: Broadcasting large task binary with size 2.5 MiB\n",
      "23/10/19 20:41:51 WARN DAGScheduler: Broadcasting large task binary with size 3.9 MiB\n",
      "23/10/19 20:41:54 WARN DAGScheduler: Broadcasting large task binary with size 5.6 MiB\n",
      "23/10/19 20:41:57 WARN DAGScheduler: Broadcasting large task binary with size 7.7 MiB\n",
      "23/10/19 20:42:01 WARN DAGScheduler: Broadcasting large task binary with size 10.1 MiB\n",
      "23/10/19 20:42:03 WARN DAGScheduler: Broadcasting large task binary with size 1019.3 KiB\n",
      "23/10/19 20:42:05 WARN DAGScheduler: Broadcasting large task binary with size 12.7 MiB\n",
      "23/10/19 20:42:08 WARN DAGScheduler: Broadcasting large task binary with size 1050.4 KiB\n",
      "23/10/19 20:42:10 WARN DAGScheduler: Broadcasting large task binary with size 15.2 MiB\n",
      "23/10/19 20:42:12 WARN DAGScheduler: Broadcasting large task binary with size 1019.2 KiB\n",
      "23/10/19 20:42:15 WARN DAGScheduler: Broadcasting large task binary with size 17.7 MiB\n",
      "23/10/19 20:42:19 WARN DAGScheduler: Broadcasting large task binary with size 19.9 MiB\n",
      "23/10/19 20:42:24 WARN DAGScheduler: Broadcasting large task binary with size 21.7 MiB\n",
      "23/10/19 20:42:29 WARN DAGScheduler: Broadcasting large task binary with size 23.2 MiB\n",
      "23/10/19 20:42:34 WARN DAGScheduler: Broadcasting large task binary with size 24.3 MiB\n",
      "23/10/19 20:42:40 WARN DAGScheduler: Broadcasting large task binary with size 25.2 MiB\n",
      "23/10/19 20:42:44 WARN DAGScheduler: Broadcasting large task binary with size 15.2 MiB\n",
      "23/10/19 20:42:55 WARN DAGScheduler: Broadcasting large task binary with size 1218.0 KiB\n",
      "23/10/19 20:42:55 WARN DAGScheduler: Broadcasting large task binary with size 1500.9 KiB\n",
      "23/10/19 20:42:56 WARN DAGScheduler: Broadcasting large task binary with size 1791.6 KiB\n",
      "23/10/19 20:42:56 WARN DAGScheduler: Broadcasting large task binary with size 2.0 MiB\n",
      "23/10/19 20:42:57 WARN DAGScheduler: Broadcasting large task binary with size 2.3 MiB\n",
      "23/10/19 20:42:57 WARN DAGScheduler: Broadcasting large task binary with size 2.5 MiB\n",
      "23/10/19 20:42:57 WARN DAGScheduler: Broadcasting large task binary with size 2.6 MiB\n",
      "23/10/19 20:42:58 WARN DAGScheduler: Broadcasting large task binary with size 2.7 MiB\n",
      "23/10/19 20:42:58 WARN DAGScheduler: Broadcasting large task binary with size 2.8 MiB\n",
      "23/10/19 20:42:59 WARN DAGScheduler: Broadcasting large task binary with size 1792.2 KiB\n",
      "23/10/19 20:43:06 WARN DAGScheduler: Broadcasting large task binary with size 1377.1 KiB\n",
      "23/10/19 20:43:07 WARN DAGScheduler: Broadcasting large task binary with size 2039.8 KiB\n",
      "23/10/19 20:43:08 WARN DAGScheduler: Broadcasting large task binary with size 2.8 MiB\n",
      "23/10/19 20:43:10 WARN DAGScheduler: Broadcasting large task binary with size 2.0 MiB\n",
      "23/10/19 20:43:13 WARN DAGScheduler: Broadcasting large task binary with size 1377.1 KiB\n",
      "23/10/19 20:43:14 WARN DAGScheduler: Broadcasting large task binary with size 2039.8 KiB\n",
      "23/10/19 20:43:15 WARN DAGScheduler: Broadcasting large task binary with size 2.8 MiB\n",
      "23/10/19 20:43:16 WARN DAGScheduler: Broadcasting large task binary with size 3.9 MiB\n",
      "23/10/19 20:43:18 WARN DAGScheduler: Broadcasting large task binary with size 5.0 MiB\n",
      "23/10/19 20:43:20 WARN DAGScheduler: Broadcasting large task binary with size 6.3 MiB\n",
      "23/10/19 20:43:22 WARN DAGScheduler: Broadcasting large task binary with size 7.6 MiB\n",
      "23/10/19 20:43:25 WARN DAGScheduler: Broadcasting large task binary with size 8.8 MiB\n",
      "23/10/19 20:43:27 WARN DAGScheduler: Broadcasting large task binary with size 10.0 MiB\n",
      "23/10/19 20:43:31 WARN DAGScheduler: Broadcasting large task binary with size 10.9 MiB\n",
      "23/10/19 20:43:33 WARN DAGScheduler: Broadcasting large task binary with size 11.7 MiB\n",
      "23/10/19 20:43:37 WARN DAGScheduler: Broadcasting large task binary with size 12.4 MiB\n",
      "23/10/19 20:43:40 WARN DAGScheduler: Broadcasting large task binary with size 12.8 MiB\n",
      "23/10/19 20:43:43 WARN DAGScheduler: Broadcasting large task binary with size 7.8 MiB\n",
      "23/10/19 20:43:54 WARN DAGScheduler: Broadcasting large task binary with size 1598.8 KiB\n",
      "23/10/19 20:43:56 WARN DAGScheduler: Broadcasting large task binary with size 2.5 MiB\n",
      "23/10/19 20:43:58 WARN DAGScheduler: Broadcasting large task binary with size 3.8 MiB\n",
      "23/10/19 20:44:01 WARN DAGScheduler: Broadcasting large task binary with size 5.5 MiB\n",
      "23/10/19 20:44:04 WARN DAGScheduler: Broadcasting large task binary with size 3.9 MiB\n",
      "23/10/19 20:44:07 WARN DAGScheduler: Broadcasting large task binary with size 1598.8 KiB\n",
      "23/10/19 20:44:09 WARN DAGScheduler: Broadcasting large task binary with size 2.5 MiB\n",
      "23/10/19 20:44:11 WARN DAGScheduler: Broadcasting large task binary with size 3.8 MiB\n",
      "23/10/19 20:44:13 WARN DAGScheduler: Broadcasting large task binary with size 5.5 MiB\n",
      "23/10/19 20:44:16 WARN DAGScheduler: Broadcasting large task binary with size 7.5 MiB\n",
      "23/10/19 20:44:21 WARN DAGScheduler: Broadcasting large task binary with size 9.8 MiB\n",
      "23/10/19 20:44:24 WARN DAGScheduler: Broadcasting large task binary with size 1013.6 KiB\n",
      "23/10/19 20:44:27 WARN DAGScheduler: Broadcasting large task binary with size 12.4 MiB\n",
      "23/10/19 20:44:29 WARN DAGScheduler: Broadcasting large task binary with size 1044.7 KiB\n",
      "23/10/19 20:44:31 WARN DAGScheduler: Broadcasting large task binary with size 14.9 MiB\n",
      "23/10/19 20:44:33 WARN DAGScheduler: Broadcasting large task binary with size 1011.0 KiB\n",
      "23/10/19 20:44:36 WARN DAGScheduler: Broadcasting large task binary with size 17.4 MiB\n",
      "23/10/19 20:44:42 WARN DAGScheduler: Broadcasting large task binary with size 19.6 MiB\n",
      "23/10/19 20:44:47 WARN DAGScheduler: Broadcasting large task binary with size 21.6 MiB\n",
      "23/10/19 20:44:53 WARN DAGScheduler: Broadcasting large task binary with size 23.2 MiB\n",
      "23/10/19 20:44:59 WARN DAGScheduler: Broadcasting large task binary with size 24.4 MiB\n",
      "23/10/19 20:45:05 WARN DAGScheduler: Broadcasting large task binary with size 25.3 MiB\n",
      "23/10/19 20:45:10 WARN DAGScheduler: Broadcasting large task binary with size 15.3 MiB\n",
      "23/10/19 20:45:20 WARN DAGScheduler: Broadcasting large task binary with size 1204.3 KiB\n",
      "23/10/19 20:45:21 WARN DAGScheduler: Broadcasting large task binary with size 1464.4 KiB\n",
      "23/10/19 20:45:21 WARN DAGScheduler: Broadcasting large task binary with size 1730.5 KiB\n",
      "23/10/19 20:45:22 WARN DAGScheduler: Broadcasting large task binary with size 1985.0 KiB\n",
      "23/10/19 20:45:23 WARN DAGScheduler: Broadcasting large task binary with size 2.2 MiB\n",
      "23/10/19 20:45:23 WARN DAGScheduler: Broadcasting large task binary with size 2.4 MiB\n",
      "23/10/19 20:45:24 WARN DAGScheduler: Broadcasting large task binary with size 2.5 MiB\n",
      "23/10/19 20:45:25 WARN DAGScheduler: Broadcasting large task binary with size 2.7 MiB\n",
      "23/10/19 20:45:25 WARN DAGScheduler: Broadcasting large task binary with size 2.7 MiB\n",
      "23/10/19 20:45:26 WARN DAGScheduler: Broadcasting large task binary with size 1781.5 KiB\n",
      "23/10/19 20:45:34 WARN DAGScheduler: Broadcasting large task binary with size 1353.6 KiB\n",
      "23/10/19 20:45:35 WARN DAGScheduler: Broadcasting large task binary with size 2001.1 KiB\n",
      "23/10/19 20:45:36 WARN DAGScheduler: Broadcasting large task binary with size 2.8 MiB\n",
      "23/10/19 20:45:38 WARN DAGScheduler: Broadcasting large task binary with size 2039.0 KiB\n",
      "23/10/19 20:45:41 WARN DAGScheduler: Broadcasting large task binary with size 1353.6 KiB\n",
      "23/10/19 20:45:42 WARN DAGScheduler: Broadcasting large task binary with size 2001.1 KiB\n",
      "23/10/19 20:45:43 WARN DAGScheduler: Broadcasting large task binary with size 2.8 MiB\n",
      "23/10/19 20:45:45 WARN DAGScheduler: Broadcasting large task binary with size 3.8 MiB\n",
      "23/10/19 20:45:47 WARN DAGScheduler: Broadcasting large task binary with size 4.9 MiB\n",
      "23/10/19 20:45:49 WARN DAGScheduler: Broadcasting large task binary with size 6.1 MiB\n",
      "23/10/19 20:45:51 WARN DAGScheduler: Broadcasting large task binary with size 7.4 MiB\n",
      "23/10/19 20:45:53 WARN DAGScheduler: Broadcasting large task binary with size 8.6 MiB\n",
      "23/10/19 20:45:56 WARN DAGScheduler: Broadcasting large task binary with size 9.7 MiB\n",
      "23/10/19 20:45:59 WARN DAGScheduler: Broadcasting large task binary with size 10.7 MiB\n",
      "23/10/19 20:46:01 WARN DAGScheduler: Broadcasting large task binary with size 11.6 MiB\n",
      "23/10/19 20:46:04 WARN DAGScheduler: Broadcasting large task binary with size 12.2 MiB\n",
      "23/10/19 20:46:07 WARN DAGScheduler: Broadcasting large task binary with size 12.7 MiB\n",
      "23/10/19 20:46:09 WARN DAGScheduler: Broadcasting large task binary with size 7.8 MiB\n",
      "23/10/19 20:46:19 WARN DAGScheduler: Broadcasting large task binary with size 1626.6 KiB\n",
      "23/10/19 20:46:21 WARN DAGScheduler: Broadcasting large task binary with size 2.5 MiB\n",
      "23/10/19 20:46:23 WARN DAGScheduler: Broadcasting large task binary with size 3.9 MiB\n",
      "23/10/19 20:46:25 WARN DAGScheduler: Broadcasting large task binary with size 5.6 MiB\n",
      "23/10/19 20:46:28 WARN DAGScheduler: Broadcasting large task binary with size 4.0 MiB\n",
      "23/10/19 20:46:32 WARN DAGScheduler: Broadcasting large task binary with size 1626.6 KiB\n",
      "23/10/19 20:46:33 WARN DAGScheduler: Broadcasting large task binary with size 2.5 MiB\n",
      "23/10/19 20:46:35 WARN DAGScheduler: Broadcasting large task binary with size 3.9 MiB\n",
      "23/10/19 20:46:38 WARN DAGScheduler: Broadcasting large task binary with size 5.6 MiB\n",
      "23/10/19 20:46:41 WARN DAGScheduler: Broadcasting large task binary with size 7.7 MiB\n",
      "23/10/19 20:46:45 WARN DAGScheduler: Broadcasting large task binary with size 10.1 MiB\n",
      "23/10/19 20:46:47 WARN DAGScheduler: Broadcasting large task binary with size 1014.6 KiB\n",
      "23/10/19 20:46:49 WARN DAGScheduler: Broadcasting large task binary with size 12.6 MiB\n",
      "23/10/19 20:46:51 WARN DAGScheduler: Broadcasting large task binary with size 1040.6 KiB\n",
      "23/10/19 20:46:53 WARN DAGScheduler: Broadcasting large task binary with size 15.2 MiB\n",
      "23/10/19 20:46:55 WARN DAGScheduler: Broadcasting large task binary with size 1000.6 KiB\n",
      "23/10/19 20:46:58 WARN DAGScheduler: Broadcasting large task binary with size 17.6 MiB\n",
      "23/10/19 20:47:02 WARN DAGScheduler: Broadcasting large task binary with size 19.8 MiB\n",
      "23/10/19 20:47:07 WARN DAGScheduler: Broadcasting large task binary with size 21.6 MiB\n",
      "23/10/19 20:47:12 WARN DAGScheduler: Broadcasting large task binary with size 23.2 MiB\n",
      "23/10/19 20:47:17 WARN DAGScheduler: Broadcasting large task binary with size 24.4 MiB\n",
      "23/10/19 20:47:23 WARN DAGScheduler: Broadcasting large task binary with size 25.2 MiB\n",
      "23/10/19 20:47:28 WARN DAGScheduler: Broadcasting large task binary with size 15.3 MiB\n",
      "                                                                                \r"
     ]
    }
   ],
   "source": [
    "# Ajusta el modelo con los datos\n",
    "model1 = crossval.fit(train_data)"
   ]
  },
  {
   "cell_type": "code",
   "execution_count": 33,
   "id": "a9fddf0c",
   "metadata": {},
   "outputs": [
    {
     "name": "stdout",
     "output_type": "stream",
     "text": [
      "Mejor numTrees: 50\n",
      "Mejor maxDepth: 4\n"
     ]
    }
   ],
   "source": [
    "best_model = model1.bestModel\n",
    "\n",
    "# Luego, puedes acceder a los hiperparámetros del modelo\n",
    "best_numTreesr = best_model.stages[-1].getOrDefault(\"numTrees\")\n",
    "best_maxDepth = best_model.stages[-1].getOrDefault(\"maxDepth\")\n",
    "\n",
    "# Imprime los hiperparámetros seleccionados\n",
    "print(f\"Mejor numTrees: {best_numTreesr}\")\n",
    "print(f\"Mejor maxDepth: {best_maxDepth}\")"
   ]
  },
  {
   "cell_type": "markdown",
   "id": "bb734bf8",
   "metadata": {},
   "source": [
    "## Evaluar el modelo"
   ]
  },
  {
   "cell_type": "code",
   "execution_count": 34,
   "id": "f6581c37",
   "metadata": {},
   "outputs": [],
   "source": [
    "# Evalúa el modelo en el conjunto de datos de prueba\n",
    "predictions = model1.transform(test_data)"
   ]
  },
  {
   "cell_type": "code",
   "execution_count": 35,
   "id": "145b94d4",
   "metadata": {},
   "outputs": [
    {
     "name": "stderr",
     "output_type": "stream",
     "text": [
      "                                                                                \r"
     ]
    }
   ],
   "source": [
    "# Métricas de evaluación\n",
    "accuracy = evaluator.evaluate(predictions)\n",
    "precision = evaluator.setMetricName(\"weightedPrecision\").evaluate(predictions)\n",
    "recall = evaluator.setMetricName(\"weightedRecall\").evaluate(predictions)\n",
    "f1 = evaluator.setMetricName(\"f1\").evaluate(predictions)"
   ]
  },
  {
   "cell_type": "code",
   "execution_count": 36,
   "id": "571b5f05",
   "metadata": {},
   "outputs": [
    {
     "name": "stderr",
     "output_type": "stream",
     "text": [
      "                                                                                \r"
     ]
    }
   ],
   "source": [
    "# Obtener la columna de etiquetas reales y predichas\n",
    "labelsAndPredictions = predictions.select(\"Heart Attack Risk\", \"prediction\")\n",
    "\n",
    "# Seleccionar las filas donde 'diagnosis' es igual a 1 y 'prediction' es igual a 0\n",
    "false_negatives_df = predictions.filter((col(\"Heart Attack Risk\") == 1) & (col(\"prediction\") == 0))\n",
    "\n",
    "# Muestra las filas con falsos negativos\n",
    "false_negatives=false_negatives_df.count()"
   ]
  },
  {
   "cell_type": "code",
   "execution_count": 37,
   "id": "bd296bd7",
   "metadata": {
    "scrolled": true
   },
   "outputs": [
    {
     "name": "stdout",
     "output_type": "stream",
     "text": [
      "Accuracy: 0.6593471810089021\n",
      "Precision: 0.4347387051043859\n",
      "Recall: 0.6593471810089021\n",
      "F1 Score: 0.5239876381265309\n",
      "Falsos Negativos: 574\n"
     ]
    }
   ],
   "source": [
    "# Muestra las métricas\n",
    "print(f\"Accuracy: {accuracy}\")\n",
    "print(f\"Precision: {precision}\")\n",
    "print(f\"Recall: {recall}\")\n",
    "print(f\"F1 Score: {f1}\")\n",
    "print(f\"Falsos Negativos: {false_negatives}\")"
   ]
  },
  {
   "cell_type": "markdown",
   "id": "0766cac3",
   "metadata": {},
   "source": [
    "## Analisis de los resultados de RandomForestClassifier"
   ]
  },
  {
   "cell_type": "markdown",
   "id": "43fc86c3",
   "metadata": {},
   "source": [
    "Los resultados obtenidos por el modelo \"RandomForestClassifier\" muestran datos que son bastantes bajos, siendo el \"normal\" (sin ningun tipo de balanceo o seleccion de caracteristicas) él que da más alto en Accuracy, Recall. Sin embargo, en un analisis de salud, los Falsos positivos y la Precision (verdaderos positivos) son indicadores que nos pueden interesar más y en este tema le  \"Undersampling\" tiene mejores datos, pero notamos que en F1 (combinación de recall y presicion) el Oversampling es el alto, por lo que podria ser el una opción para este tipo de problema.\n",
    "\n",
    "\n",
    "| Tipo de Muestreo      | Accuracy             | Precision            | Recall               | F1 Score             | Falsos Negativos     |\n",
    "|-----------------------|----------------------|----------------------|----------------------|----------------------|----------------------|\n",
    "| Oversampling   | 0.6100890207715134   | 0.5313522769844429   | 0.6100890207715134   | 0.5448959126307752   | 514                  |\n",
    "| Undersampling  | 0.5020771513353116   | 0.5488086656468922   | 0.5020771513353115   | 0.5150225580409427   | 296                  |\n",
    "| Normal                | 0.6593471810089021   | 0.4347387051043859   | 0.6593471810089021   | 0.5239876381265309   | 574                  |\n",
    "| PCA            | 0.6498516320474778   | 0.4223071436747704   | 0.6498516320474778   | 0.5119334799222935   | 590                  |\n"
   ]
  },
  {
   "cell_type": "markdown",
   "id": "1d01a008",
   "metadata": {},
   "source": [
    "## Entrenar el Modelo Multilayer perceptron classifier"
   ]
  },
  {
   "cell_type": "code",
   "execution_count": 38,
   "id": "2fa5e192",
   "metadata": {},
   "outputs": [
    {
     "name": "stderr",
     "output_type": "stream",
     "text": [
      "                                                                                \r"
     ]
    },
    {
     "name": "stdout",
     "output_type": "stream",
     "text": [
      "num_features: 50\n",
      "num_classes: 2\n"
     ]
    },
    {
     "name": "stderr",
     "output_type": "stream",
     "text": [
      "                                                                                \r"
     ]
    }
   ],
   "source": [
    "num_features = len(train_data.select(\"scaled_features\").first()[0])\n",
    "num_classes = train_data.select(\"Heart Attack Risk\").distinct().count()\n",
    "print(f\"num_features: {num_features}\")\n",
    "print(f\"num_classes: {num_classes}\")"
   ]
  },
  {
   "cell_type": "code",
   "execution_count": 39,
   "id": "783915ac",
   "metadata": {},
   "outputs": [],
   "source": [
    "# Configura el MLP\n",
    "layers = [num_features, 25, 15, num_classes]  # Esto define la arquitectura de la red, ajusta los valores según tu caso.\n",
    "#Supported options: l-bfgs, gd\n",
    "mlp = MultilayerPerceptronClassifier(featuresCol=\"scaled_features\", labelCol=\"Heart Attack Risk\", layers=layers)\n",
    "\n",
    "# Configura el evaluador\n",
    "evaluator = MulticlassClassificationEvaluator(labelCol=\"Heart Attack Risk\", predictionCol=\"prediction\", metricName=\"accuracy\")\n",
    "\n",
    "# Grilla de parámetros para búsqueda de hiperparámetros (opcional)\n",
    "paramGrid = ParamGridBuilder() \\\n",
    "    .addGrid(mlp.maxIter, [30, 50, 100, 150]) \\\n",
    "    .addGrid(mlp.blockSize, [63, 128, 256]) \\\n",
    "    .addGrid(mlp.seed, [42]) \\\n",
    "    .build()"
   ]
  },
  {
   "cell_type": "code",
   "execution_count": 40,
   "id": "560ea9ed",
   "metadata": {},
   "outputs": [],
   "source": [
    "# Crea el pipeline\n",
    "pipeline = Pipeline(stages=[mlp])\n",
    "\n",
    "# Configura K-fold Cross Validation\n",
    "crossval = CrossValidator(estimator=pipeline,\n",
    "                          estimatorParamMaps=paramGrid,\n",
    "                          evaluator=evaluator,\n",
    "                          numFolds=5,\n",
    "                          seed=42)"
   ]
  },
  {
   "cell_type": "code",
   "execution_count": 41,
   "id": "705a7a97",
   "metadata": {},
   "outputs": [
    {
     "name": "stderr",
     "output_type": "stream",
     "text": [
      "                                                                                \r"
     ]
    }
   ],
   "source": [
    "model2 = crossval.fit(train_data)"
   ]
  },
  {
   "cell_type": "code",
   "execution_count": 42,
   "id": "de480659",
   "metadata": {},
   "outputs": [
    {
     "name": "stdout",
     "output_type": "stream",
     "text": [
      "Mejor maxIter: 30\n",
      "Mejor blockSize: 256\n"
     ]
    }
   ],
   "source": [
    "best_model = model2.bestModel\n",
    "\n",
    "# Luego, puedes acceder a los hiperparámetros del modelo\n",
    "best_maxIter = best_model.stages[-1].getOrDefault(\"maxIter\")\n",
    "best_blockSize = best_model.stages[-1].getOrDefault(\"blockSize\")\n",
    "\n",
    "# Imprime los hiperparámetros seleccionados\n",
    "print(f\"Mejor maxIter: {best_maxIter}\")\n",
    "print(f\"Mejor blockSize: {best_blockSize}\")"
   ]
  },
  {
   "cell_type": "markdown",
   "id": "a2044fd9",
   "metadata": {},
   "source": [
    "## Evaluar el modelo"
   ]
  },
  {
   "cell_type": "code",
   "execution_count": 43,
   "id": "fa8f2cd4",
   "metadata": {},
   "outputs": [],
   "source": [
    "# Evalúa el modelo en el conjunto de datos de prueba\n",
    "predictions = model2.transform(test_data)"
   ]
  },
  {
   "cell_type": "code",
   "execution_count": 44,
   "id": "fa46a0e5",
   "metadata": {},
   "outputs": [
    {
     "name": "stderr",
     "output_type": "stream",
     "text": [
      "                                                                                \r"
     ]
    }
   ],
   "source": [
    "# Métricas de evaluación\n",
    "accuracy = evaluator.evaluate(predictions)\n",
    "precision = evaluator.setMetricName(\"weightedPrecision\").evaluate(predictions)\n",
    "recall = evaluator.setMetricName(\"weightedRecall\").evaluate(predictions)\n",
    "f1 = evaluator.setMetricName(\"f1\").evaluate(predictions)"
   ]
  },
  {
   "cell_type": "code",
   "execution_count": 45,
   "id": "d64b09b6",
   "metadata": {},
   "outputs": [],
   "source": [
    "labelsAndPredictions = predictions.select(\"Heart Attack Risk\", \"prediction\")\n",
    "\n",
    "# Seleccionar las filas donde 'diagnosis' es igual a 1 y 'prediction' es igual a 0\n",
    "false_negatives_df = predictions.filter((col(\"Heart Attack Risk\") == 1) & (col(\"prediction\") == 0))\n",
    "\n",
    "# Muestra las filas con falsos negativos\n",
    "false_negatives=false_negatives_df.count()"
   ]
  },
  {
   "cell_type": "code",
   "execution_count": 46,
   "id": "83ec1b5e",
   "metadata": {},
   "outputs": [
    {
     "name": "stdout",
     "output_type": "stream",
     "text": [
      "Accuracy: 0.655786350148368\n",
      "Precision: 0.5540412222311333\n",
      "Recall: 0.655786350148368\n",
      "F1 Score: 0.5296161776249686\n",
      "Falsos Negativos: 567\n"
     ]
    }
   ],
   "source": [
    "# Muestra las métricas\n",
    "print(f\"Accuracy: {accuracy}\")\n",
    "print(f\"Precision: {precision}\")\n",
    "print(f\"Recall: {recall}\")\n",
    "print(f\"F1 Score: {f1}\")\n",
    "print(f\"Falsos Negativos: {false_negatives}\")"
   ]
  },
  {
   "cell_type": "markdown",
   "id": "635c52f0",
   "metadata": {},
   "source": [
    "## Analisis de los resultados de Multilayer perceptron classifier"
   ]
  },
  {
   "cell_type": "markdown",
   "id": "fcad215b",
   "metadata": {},
   "source": [
    "Los resultados obtenidos por el modelo \"Multilayer perceptron classifier\" muestran datos son bastantes bajos para un modelo binario, siendo Normal el que tiene más alto el Accuracy, Recall. Sin embargo, en un analisis de salud, los Falsos positivos y la Precision (verdaderos positivos) son indicadores que nos pueden interesar y en este tema le \"Oversampling\" parece ser el mejor en mejores datos, pero notamos que en F1 (combinacion de recall y presicion) el Undersampling resalta, por lo que podria ser el mejor opción este tipo de problema.\n",
    "\n",
    "\n",
    "| Tipo de Muestreo  | Accuracy             | Precision            | Recall               | F1 Score             | Falsos Negativos     |\n",
    "|--------------------|----------------------|----------------------|----------------------|----------------------|----------------------|\n",
    "| Oversampling       | 0.5157270029673591   | 0.5531285641327629   | 0.5157270029673591   | 0.5276586273774193   | 309                  |\n",
    "| Undersampling      | 0.5192878338278932   | 0.551055953886389    | 0.5192878338278932   | 0.5303124742379394   | 321                  |\n",
    "| PCA         | 0.6462908011869436   | 0.46537771454961435  | 0.6462908011869437   | 0.511299907248817    | 589                  |\n",
    "| Normal             | 0.655786350148368    | 0.5540412222311333   | 0.655786350148368    | 0.5296161776249686   | 567                  |\n"
   ]
  },
  {
   "cell_type": "markdown",
   "id": "87670449",
   "metadata": {},
   "source": [
    "# Comparación de los modelos"
   ]
  },
  {
   "cell_type": "markdown",
   "id": "2bdba769",
   "metadata": {},
   "source": [
    "Cuando comparamos el modelo \"RandomForestClassifier\" contra \"Multilayer perceptron classifier\" notamos que en todas sus versiones tienen a dar valores parecido. Ambos presentan el mejor accuracy  en 65%  y en el F1 score el RandomForestClassifier solo supera al otro por 0.2%. Esto puedo deberse a que los datos realmente no nos aportan mucha información para conocer un  evento tan aleatorio como un ataque cardiaco, esto basandonos en los resultados y al ver que la matrix de correlacion preacticamnete es 0 en todas las columnas, a excepcion de las de pais, se observa una baja correlacion entre los datos. Ademas, al revisar otros trabajos realizados con los mismos datos notamos un resultado similar [2].\n",
    "\n",
    "\n",
    "\n",
    "Sin embargo, al ver las columans podemos ver que tenemos bastante información de la persona que podria llevarnos a conocer su salud por lo que aumentar el número de muestras o cambiar los hiperparametros podria llevarmos a un mejor modelo.\n",
    "\n"
   ]
  },
  {
   "cell_type": "markdown",
   "id": "5fdb91da",
   "metadata": {},
   "source": [
    "# Referencia\n",
    "\n",
    "[1 ] Epes, V. (2022, febrero 21). ¿Qué hacemos con los valores atípicos (outliers)? [Blog]. Blog de Victory Epes. https://victoryepes.blogs.upv.es/2022/02/21/que-hacemos-con-los-valores-atipicos-outliers/\n",
    "\n",
    "[2] Ranamalla Nithin Reddy. (2022, 22 de agosto). HeartAttackRisk 🩺 Predictive Analysis. Kaggle. https://www.kaggle.com/code/nithinreddy90/heartattackrisk-predictive-analysis\n",
    "\n"
   ]
  }
 ],
 "metadata": {
  "kernelspec": {
   "display_name": "Python 3 (ipykernel)",
   "language": "python",
   "name": "python3"
  },
  "language_info": {
   "codemirror_mode": {
    "name": "ipython",
    "version": 3
   },
   "file_extension": ".py",
   "mimetype": "text/x-python",
   "name": "python",
   "nbconvert_exporter": "python",
   "pygments_lexer": "ipython3",
   "version": "3.7.10"
  }
 },
 "nbformat": 4,
 "nbformat_minor": 5
}
